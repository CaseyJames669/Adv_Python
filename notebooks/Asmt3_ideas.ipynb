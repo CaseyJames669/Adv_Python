{
 "metadata": {
  "name": "Asmt3_ideas"
 },
 "nbformat": 3,
 "nbformat_minor": 0,
 "worksheets": [
  {
   "cells": [
    {
     "cell_type": "code",
     "collapsed": false,
     "input": [
      "# Some data for our tests\n",
      "csv_data = [\n",
      "'\"name1\",\"name2\",\"a1\",\"a2\",\"a3\",\"a4\",\"a5\",\"a6\",\"a7\",\"a8\",\"a9\",\"a10\",\"a11\",\"a12\",,\"q1\",\"q2\",\"q3\",\"q4\",\"q5\",\"q6\",\"q7\",\"q8\",\"q9\",\"q10\",\"q11\",\"q12\",,\"e1\",\"e2\",\"e3\",\"e4\"',\n",
      "'\"possible\",\"possible\",25,25,25,15,25,10,50,50,20,40,60,50,,10,10,10,10,10,10,10,10,10,10,10,10,,100,100,100,100',\n",
      "'\"Barney\",\"Miller\",25,25,25,13,22,0,50,21,5,18,0,0,,6,6,2,10,0,5,8,0,0,0,0,0,,68,55,45,56',\n",
      "'\"Robert\",\"Johnson\",25,25,25,0,25,0,50,26,0,31,57,16,,6,4,6,10,0,3,8,8,6,10,6,10,,66,69,91,75',\n",
      "'\"Bonnie\",\"Raitt\",25,25,25,12,25,10,50,46,20,35,43,35,,9,6,0,10,2,7,6,0,0,4,0,10,,87,85,74,82']"
     ],
     "language": "python",
     "metadata": {},
     "outputs": []
    },
    {
     "cell_type": "code",
     "collapsed": false,
     "input": [
      "# This just shows that the DictReader can process an iterable and lets us look at the dicts formed\n",
      "\n",
      "import csv\n",
      "\n",
      "csv_reader = csv.DictReader(csv_data, delimiter=',', quotechar='\"', quoting=csv.QUOTE_NONNUMERIC)\n",
      "key = next(csv_reader)\n",
      "students = list(csv_reader)\n",
      "print(key)\n",
      "print(students)"
     ],
     "language": "python",
     "metadata": {},
     "outputs": []
    },
    {
     "cell_type": "code",
     "collapsed": false,
     "input": [
      "# We only need one parse function, now, because all records work the same\n",
      "\n",
      "def parse_record(record):\n",
      "    name = '{}, {}'.format(record['name2'], record['name1'])\n",
      "    asmt = [val for key, val in record.items() if key.startswith('a')]\n",
      "    quiz =  [val for key, val in record.items() if key.startswith('q')]\n",
      "    exam = [val for key, val in record.items() if key.startswith('e')]\n",
      "    return name, asmt, quiz, exam"
     ],
     "language": "python",
     "metadata": {},
     "outputs": []
    },
    {
     "cell_type": "code",
     "collapsed": false,
     "input": [
      "# See if the key grades got parsed correctly\n",
      "\n",
      "key_name, key_asmt, key_quiz, key_exam = parse_record(key)\n",
      "print('Key:\\nAsmts:', key_asmt, '\\nQuizzes:', key_quiz,\n",
      "       '\\nExams', key_exam)"
     ],
     "language": "python",
     "metadata": {},
     "outputs": []
    },
    {
     "cell_type": "code",
     "collapsed": false,
     "input": [
      "# Demonstrate that the student grades are all parsed correctly\n",
      "# Check this against the previous output\n",
      "\n",
      "for stu in students:\n",
      "    stu_name, stu_asmt, stu_quiz, stu_exam = parse_record(stu)\n",
      "    print(stu_name,':\\nAsmts:', stu_asmt, '\\nQuizzes:', stu_quiz,\n",
      "       '\\nExams', stu_exam, '\\n')"
     ],
     "language": "python",
     "metadata": {},
     "outputs": []
    },
    {
     "cell_type": "code",
     "collapsed": false,
     "input": [
      "# These are the computation functions for averages\n",
      "\n",
      "def comp_asmt_avg(key_asmt, stu_asmt):\n",
      "    return sum(stu_asmt) / sum(key_asmt)\n",
      "\n",
      "def comp_quiz_avg(key_quiz, stu_asmt, num_quiz):\n",
      "    ord_scores = sorted([sq / kq for sq, kq in zip(stu_quiz, key_quiz)], reverse = True)\n",
      "    print(\"comp_quiz_avg:\", ord_scores)\n",
      "    return sum(ord_scores[:num_quiz]) / num_quiz\n",
      "\n",
      "def comp_exam_avg(key_exam, stu_exam):\n",
      "    ord_scores = sorted([sq / kq for sq, kq in zip(stu_exam, key_exam)], reverse = True)\n",
      "    print(\"comp_exam_avg:\", ord_scores)\n",
      "    return sum(ord_scores[:-1]) / (len(key_exam) - 1)"
     ],
     "language": "python",
     "metadata": {},
     "outputs": []
    },
    {
     "cell_type": "code",
     "collapsed": false,
     "input": [
      "# Demonstrate how grade computations can be invoked and verify results\n",
      "\n",
      "for stu in students:\n",
      "    stu_name, stu_asmt, stu_quiz, stu_exam = parse_record(stu)\n",
      "    print(stu_name)\n",
      "    asmt_avg = comp_asmt_avg(key_asmt, stu_asmt)\n",
      "    quiz_avg = comp_quiz_avg(key_quiz, stu_quiz, 8)\n",
      "    exam_avg = comp_exam_avg(key_exam, stu_exam)\n",
      "    print(asmt_avg, quiz_avg, exam_avg)"
     ],
     "language": "python",
     "metadata": {},
     "outputs": []
    },
    {
     "cell_type": "code",
     "collapsed": false,
     "input": [
      "# The function for computing final grade\n",
      "\n",
      "def comp_fin_grade(ag, qg, eg):\n",
      "    return 0.45 * ag + 0.1 * qg + 0.45 * eg"
     ],
     "language": "python",
     "metadata": {},
     "outputs": []
    },
    {
     "cell_type": "code",
     "collapsed": false,
     "input": [
      "# Computation loop over list of students\n",
      "\n",
      "headings = ['Name', 'Asmt Avg', 'Quiz Avg', 'Exam Avg', 'Final']\n",
      "stus_out = []\n",
      "for stu in students:\n",
      "    stu_name, stu_asmt, stu_quiz, stu_exam = parse_record(stu)\n",
      "    asmt_avg = comp_asmt_avg(key_asmt, stu_asmt)\n",
      "    quiz_avg= comp_quiz_avg(key_quiz, stu_quiz, 8)\n",
      "    exam_avg = comp_exam_avg(key_exam, stu_exam)\n",
      "    fin_avg = comp_fin_grade(asmt_avg, quiz_avg, exam_avg)\n",
      "    values = [stu_name, asmt_avg, quiz_avg, exam_avg, fin_avg]\n",
      "    \n",
      "    stu_rec = {key : val for key, val in zip(headings, values)}\n",
      "    print(stu_rec)\n",
      "    stus_out.append(stu_rec)"
     ],
     "language": "python",
     "metadata": {},
     "outputs": []
    },
    {
     "cell_type": "code",
     "collapsed": false,
     "input": [
      "# This orders the list of students alphabetically by the contents of the 'Name' value\n",
      "\n",
      "import operator\n",
      "\n",
      "stus_out.sort(key= operator.itemgetter('Name'))\n",
      "print(stus_out)"
     ],
     "language": "python",
     "metadata": {},
     "outputs": []
    },
    {
     "cell_type": "code",
     "collapsed": false,
     "input": [
      "# Now, write to a csv file\n",
      "\n",
      "with open('test.out', 'w', newline='') as csv_out:\n",
      "    csv_writer = csv.DictWriter(csv_out, headings, delimiter=',',\\\n",
      "                                quotechar='\"', quoting=csv.QUOTE_NONNUMERIC)\n",
      "    csv_writer.writeheader()\n",
      "    csv_writer.writerows(stus_out)"
     ],
     "language": "python",
     "metadata": {},
     "outputs": []
    },
    {
     "cell_type": "code",
     "collapsed": false,
     "input": [
      "# Look at the output file\n",
      "!cat test.out\n"
     ],
     "language": "python",
     "metadata": {},
     "outputs": []
    }
   ],
   "metadata": {}
  }
 ]
}