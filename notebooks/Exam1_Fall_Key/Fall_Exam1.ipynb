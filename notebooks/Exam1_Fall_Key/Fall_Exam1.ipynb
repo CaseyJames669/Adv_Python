{
 "metadata": {
  "name": "Fall_Exam1"
 },
 "nbformat": 3,
 "nbformat_minor": 0,
 "worksheets": [
  {
   "cells": [
    {
     "cell_type": "markdown",
     "metadata": {},
     "source": [
      "# Exam 1 (60 pts)\n",
      "Sept 27  \n",
      "Answer the following questions in the cells provided. \n",
      "Use a **Code Cell** to write code.  \n",
      "For answers where you need to type out a verbal answer, use **Raw Text** mode.  \n",
      "In questions that ask you to execute a code cell, save the notebook with the output displayed (I.e. don't clear the output)  \n",
      "**REMEMBER - SAVE OFTEN**  \n",
      "\n",
      "**When you are finished - or when I tell you that you are finished -**  \n",
      "> * **save** your work,\n",
      "> * **close** your notebook pages and shut down the server,\n",
      "> * **compress** your entire Exam1 folder, and \n",
      "> * **submit** the exam archive via the moodle **Exam1** link.\n",
      "\n",
      "The only resources allowed are **this ipython notebook** and the **Python documentation**.  \n",
      "Open the Python documentation in a browser tab by clicking the following link, **now**.\n",
      "<h3><a href=\"http://docs.python.org/3/\" target=\"_blank\"> Python 3.3 Documentation </a></h3>"
     ]
    },
    {
     "cell_type": "markdown",
     "metadata": {},
     "source": [
      "## Problem 1 - Linux commands (12 pts)\n",
      "**Give desciptions of what task each of the linux commands performs:**"
     ]
    },
    {
     "cell_type": "raw",
     "metadata": {},
     "source": [
      "man:  displays the linux manual page for a command, etc."
     ]
    },
    {
     "cell_type": "raw",
     "metadata": {},
     "source": [
      "ls:  lists the contents of the current directory."
     ]
    },
    {
     "cell_type": "raw",
     "metadata": {},
     "source": [
      "cat: concatenates a file to the standard output ... i.e. displays the contents of a file"
     ]
    },
    {
     "cell_type": "markdown",
     "metadata": {},
     "source": [
      "**Give the shell command that you would execute from a terminal on your linux installation to mount smaug's file system onto your system's file system.**"
     ]
    },
    {
     "cell_type": "raw",
     "metadata": {},
     "source": [
      "gvfs-mount sftp://user_name@smaug.mnstate.edu"
     ]
    },
    {
     "cell_type": "markdown",
     "metadata": {},
     "source": [
      "## Problem 2 - Python idioms and formatted output (30 pts)  \n",
      "Suppose you are given the two lists **vars1** and **vars2** of values, below.  \n",
      "\n",
      "(5)  Use **list comprehension** to create a new list, named **new_var1**, that is composed of strings containing the numbers from **vars1**.  \n",
      "**Also, add code to print out your list for debug viewing.**"
     ]
    },
    {
     "cell_type": "code",
     "collapsed": false,
     "input": [
      "# Write and test your code here\n",
      "\n",
      "vars1 = [3.5, 9.4, 5.3, 30, 983.2, 1.98]\n",
      "new_var1 = [str(i) for i in vars1]\n",
      "print(new_var1)"
     ],
     "language": "python",
     "metadata": {},
     "outputs": [
      {
       "output_type": "stream",
       "stream": "stdout",
       "text": [
        "['3.5', '9.4', '5.3', '30', '983.2', '1.98']\n"
       ]
      }
     ],
     "prompt_number": 1
    },
    {
     "cell_type": "markdown",
     "metadata": {},
     "source": [
      "(10)  Use **list comprehension** to create a new list, named **quots**, that is composed of quotients of elements from **vars1** divided by their corresponding element from **vars2**.  Since division by zero is undefined, do not enter quotients that require zero division in your new list.  \n",
      "**Also, add code to print out your list for debug viewing.**"
     ]
    },
    {
     "cell_type": "code",
     "collapsed": false,
     "input": [
      "vars1 = [3.5, 9.4, 5.3, 30, 983.2, 1.98]\n",
      "vars2 = [2.2, 11, 0, 19, 1.98, 983.2]\n",
      "# Write and test your code here\n",
      "\n",
      "quots = [n/d for n, d in zip(vars1, vars2) if d != 0]\n",
      "print(quots)"
     ],
     "language": "python",
     "metadata": {},
     "outputs": [
      {
       "output_type": "stream",
       "stream": "stdout",
       "text": [
        "[1.5909090909090908, 0.8545454545454546, 1.5789473684210527, 496.5656565656566, 0.0020138323840520746]\n"
       ]
      }
     ],
     "prompt_number": 2
    },
    {
     "cell_type": "markdown",
     "metadata": {},
     "source": [
      "(5)  Write **concise Pythonic code** that will output the total of all the values in **vars1** multiplied by the total of all the values in **vars2**."
     ]
    },
    {
     "cell_type": "code",
     "collapsed": false,
     "input": [
      "# Write and execute your code in this cell\n",
      "\n",
      "print(sum(vars1) * sum(vars2))"
     ],
     "language": "python",
     "metadata": {},
     "outputs": [
      {
       "output_type": "stream",
       "stream": "stdout",
       "text": [
        "1051340.1444\n"
       ]
      }
     ],
     "prompt_number": 4
    },
    {
     "cell_type": "markdown",
     "metadata": {},
     "source": [
      "(10)  Write **Beautiful, Pythonic code** that uses the **str.format** method to print the list of numbers, given below in the list **nums**, in the form demonstrated.  \n",
      "Your code should correctly display lists with less than 1000 numbers and with each number being less than 1000 in absolute value."
     ]
    },
    {
     "cell_type": "code",
     "collapsed": false,
     "input": [
      "# DON'T USE OR EXECUTE THIS CELL \n",
      "# It's here to demonstrate the output you should obtain"
     ],
     "language": "python",
     "metadata": {},
     "outputs": [
      {
       "output_type": "stream",
       "stream": "stdout",
       "text": [
        "  1.       1.591\n",
        "  2.       0.855\n",
        "  3.       1.579\n",
        "  4.     496.566\n",
        "  5.       0.002\n",
        "  6.      23.098\n",
        "  7.       6.000\n",
        "  8.       0.001\n",
        "  9.       0.000\n",
        " 10.    -293.986\n",
        " 11.       1.100\n",
        " 12.      87.230\n"
       ]
      }
     ],
     "prompt_number": 8
    },
    {
     "cell_type": "code",
     "collapsed": false,
     "input": [
      "nums = [1.5909090909090908, 0.8545454545454546, 1.5789473684210527, 496.5656565656566, 0.0020138323840520746,\n",
      "        23.098354, 6, .00051837, .000487, 93.98635, 1.1, 87.23]\n",
      "\n",
      "# Place your code in this cell\n",
      "\n",
      "for i, num in enumerate(nums, 1):\n",
      "    print('{:3d}.    {:8.3f}'.format(i, num))"
     ],
     "language": "python",
     "metadata": {},
     "outputs": [
      {
       "output_type": "stream",
       "stream": "stdout",
       "text": [
        "  1.       1.591\n",
        "  2.       0.855\n",
        "  3.       1.579\n",
        "  4.     496.566\n",
        "  5.       0.002\n",
        "  6.      23.098\n",
        "  7.       6.000\n",
        "  8.       0.001\n",
        "  9.       0.000\n",
        " 10.      93.986\n",
        " 11.       1.100\n",
        " 12.      87.230\n"
       ]
      }
     ],
     "prompt_number": 6
    },
    {
     "cell_type": "markdown",
     "metadata": {},
     "source": [
      "## Problem 3 - Command line arguments, file handling and exception handling  (18 pts)\n",
      "(10)  In the following code cell create and save a script file that will\n",
      "> * get the name of a file to read from the command line\n",
      "    * complain (with an instructive comment to the standard error file) and terminate if the command line is not of the form **program_name file_name**\n",
      "* open the file for reading\n",
      "    * complain (indicating the name of the file) and terminate if file fails to open\n",
      "    * read (ONLY) the first line of the file and print it to the standard output"
     ]
    },
    {
     "cell_type": "code",
     "collapsed": false,
     "input": [
      "%%file Eprob3.py\n",
      "## Type your code here and then execute the cell to save your code to the Eprob3.py file\n",
      "from sys import argv\n",
      "try:\n",
      "    prog, infile = argv\n",
      "except:\n",
      "    raise SystemExit(\"{0:}: Incorrect command line.  Use: {0:} input_file\".format(argv[0]))\n",
      "\n",
      "try:\n",
      "    with open(infile) as data:\n",
      "        print(data.readline())\n",
      "except:\n",
      "    raise SystemExit(\"{}: Error opening or reading file '{}'\".format(prog, infile))"
     ],
     "language": "python",
     "metadata": {},
     "outputs": [
      {
       "output_type": "stream",
       "stream": "stdout",
       "text": [
        "Writing Eprob3.py\n"
       ]
      }
     ],
     "prompt_number": 7
    },
    {
     "cell_type": "markdown",
     "metadata": {},
     "source": [
      "Demonstrate failure with too few command line arguments:"
     ]
    },
    {
     "cell_type": "code",
     "collapsed": false,
     "input": [
      "!python33 Eprob3.py"
     ],
     "language": "python",
     "metadata": {},
     "outputs": [
      {
       "output_type": "stream",
       "stream": "stdout",
       "text": [
        "Eprob3.py: Incorrect command line.  Use: Eprob3.py input_file\r\n"
       ]
      }
     ],
     "prompt_number": 8
    },
    {
     "cell_type": "markdown",
     "metadata": {},
     "source": [
      "Demonstrate failure with too many command line arguments:"
     ]
    },
    {
     "cell_type": "code",
     "collapsed": false,
     "input": [
      "!python33 Eprob3.py Eprob3.data barney"
     ],
     "language": "python",
     "metadata": {},
     "outputs": [
      {
       "output_type": "stream",
       "stream": "stdout",
       "text": [
        "Eprob3.py: Incorrect command line.  Use: Eprob3.py input_file\r\n"
       ]
      }
     ],
     "prompt_number": 9
    },
    {
     "cell_type": "markdown",
     "metadata": {},
     "source": [
      "Demonsrate failure with missing file"
     ]
    },
    {
     "cell_type": "code",
     "collapsed": false,
     "input": [
      "!python33 Eprob3.py fred"
     ],
     "language": "python",
     "metadata": {},
     "outputs": [
      {
       "output_type": "stream",
       "stream": "stdout",
       "text": [
        "Eprob3.py: Error opening or reading file 'fred'\r\n"
       ]
      }
     ],
     "prompt_number": 10
    },
    {
     "cell_type": "markdown",
     "metadata": {},
     "source": [
      "(2)  Verify that the file **demo_file** exists in your current directory by issuing a shell command that will display its contents."
     ]
    },
    {
     "cell_type": "code",
     "collapsed": false,
     "input": [
      "cat demo_file"
     ],
     "language": "python",
     "metadata": {},
     "outputs": [
      {
       "output_type": "stream",
       "stream": "stdout",
       "text": [
        "This is a demo file.\r\n",
        "It has three lines of text.\r\n",
        "This is the third line.\r\n"
       ]
      }
     ],
     "prompt_number": 11
    },
    {
     "cell_type": "markdown",
     "metadata": {},
     "source": [
      "Demonstrate successful completion of your script.  "
     ]
    },
    {
     "cell_type": "code",
     "collapsed": false,
     "input": [
      "!python33 Eprob3.py demo_file"
     ],
     "language": "python",
     "metadata": {},
     "outputs": [
      {
       "output_type": "stream",
       "stream": "stdout",
       "text": [
        "This is a demo file.\r\n",
        "\r\n"
       ]
      }
     ],
     "prompt_number": 12
    },
    {
     "cell_type": "markdown",
     "metadata": {},
     "source": [
      "(4)  In the cell below, demonstrate redirection of standard error of your script to a file named **errors**.  \n",
      "Do so by executing your script in a way that will cause it to experience an error condition."
     ]
    },
    {
     "cell_type": "code",
     "collapsed": false,
     "input": [
      "!python33 Eprob3.py 2> errors"
     ],
     "language": "python",
     "metadata": {},
     "outputs": [],
     "prompt_number": 13
    },
    {
     "cell_type": "markdown",
     "metadata": {},
     "source": [
      "(2)  Demonstrate that your redirection was successful by displaying the contents of your **errors** file."
     ]
    },
    {
     "cell_type": "code",
     "collapsed": false,
     "input": [
      "cat errors"
     ],
     "language": "python",
     "metadata": {},
     "outputs": [
      {
       "output_type": "stream",
       "stream": "stdout",
       "text": [
        "Eprob3.py: Incorrect command line.  Use: Eprob3.py input_file\r\n"
       ]
      }
     ],
     "prompt_number": 14
    }
   ],
   "metadata": {}
  }
 ]
}