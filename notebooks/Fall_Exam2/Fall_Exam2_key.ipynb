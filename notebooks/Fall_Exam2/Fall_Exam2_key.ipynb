{
 "metadata": {
  "name": "Fall_Exam2"
 },
 "nbformat": 3,
 "nbformat_minor": 0,
 "worksheets": [
  {
   "cells": [
    {
     "cell_type": "markdown",
     "metadata": {},
     "source": [
      "# Exam 2  \n",
      "(50 pts, total)  \n",
      "October 11 \n",
      "\n",
      "> * **DO THIS FIRST:** Rename this file '**your\\_log\\_id**'.  \n",
      "* Answer the following questions in the cells provided.  **Execute the code cells I provide.**  \n",
      "* Use a **Code Cell** to write code.  \n",
      "* For answers where you need to type out a verbal answer, use the **Raw Text** cell(s) provided.  \n",
      "* In questions that ask you to execute a code cell, save the notebook with the output displayed (I.e. don't clear the output)  \n",
      "* **REMEMBER - SAVE OFTEN**  \n",
      "\n",
      "**When you are finished - or when I tell you that you are finished - submit your .ipynb <u>file</u> via the moodle Exam2 link.**\n",
      "\n",
      "The only resources allowed are **this ipython notebook** and the **Python documentation**.  \n",
      "Open the Python documentation in a browser tab by clicking the following link, **now**.\n",
      "<h3><a href=\"http://docs.python.org/3/\" target=\"_blank\"> Python 3.3 Documentation </a></h3>  "
     ]
    },
    {
     "cell_type": "markdown",
     "metadata": {},
     "source": [
      "## Problem 1: Iteration and Comprehension  (35 pts)\n",
      "\n",
      "**Construct BEAUTIFUL PYTHONIC code for each of the following:**  \n",
      "Note that some steps assume they are done **in order**.  \n",
      "\n",
      "Given the 3 lists **game1**, **game2**, and **game3**, each containing the bowling scores of a 4-person bowling team, ordered by bowler.  \n",
      "That is: each list consists of [score_for_first_bowler, score_for_second_bowler, etc]\n"
     ]
    },
    {
     "cell_type": "code",
     "collapsed": false,
     "input": [
      "# You MUST execute this cell to be able to use its data\n",
      "game1 = [119, 223, 189, 144]\n",
      "game2 = [130, 190, 201, 160]\n",
      "game3 = [128, 220, 170, 180]"
     ],
     "language": "python",
     "metadata": {},
     "outputs": [],
     "prompt_number": 7
    },
    {
     "cell_type": "markdown",
     "metadata": {},
     "source": [
      "> a)  Using the lists above, write a Python code segment to form and display a list of tuples, named **scores**, with each tuple containing the scores for the respective players.  I.e. scores for the first bowler, scores for the second bowler, etc.  \n",
      "**Hint**:  You may find it helpful to use **zip**."
     ]
    },
    {
     "cell_type": "code",
     "collapsed": false,
     "input": [
      "# Place your code here\n",
      "scores = [x for x in zip(game1, game2, game3)]\n",
      "print(scores)"
     ],
     "language": "python",
     "metadata": {},
     "outputs": [
      {
       "output_type": "stream",
       "stream": "stdout",
       "text": [
        "[(119, 130, 128), (223, 190, 220), (189, 201, 170), (144, 160, 180)]\n"
       ]
      }
     ],
     "prompt_number": 8
    },
    {
     "cell_type": "markdown",
     "metadata": {},
     "source": [
      "> b)  Again, beginning with the lists **game1**, **game2**, and **game3**, write a Python code segment to form a list of **game averages** for the respective bowlers, named **avgs**."
     ]
    },
    {
     "cell_type": "code",
     "collapsed": false,
     "input": [
      "# Place your code here\n",
      "avgs = [sum(x)/len(x) for x in zip(game1, game2, game3)]\n",
      "print(avgs)"
     ],
     "language": "python",
     "metadata": {},
     "outputs": [
      {
       "output_type": "stream",
       "stream": "stdout",
       "text": [
        "[125.66666666666667, 211.0, 186.66666666666666, 161.33333333333334]\n"
       ]
      }
     ],
     "prompt_number": 9
    },
    {
     "cell_type": "markdown",
     "metadata": {},
     "source": [
      "> c)  (Refer back to the solutions to parts a) and b), above)  \n",
      ">> Write a **function**  that \n",
      ">>> * takes, as parameters, a list of four bowler names and three lists of game scores for four bowlers (as above) - (**i.e. four parameters in all**) and  \n",
      "* returns a dict whose keys are the bowlers names and whose values are the bowlers average scores.  "
     ]
    },
    {
     "cell_type": "code",
     "collapsed": false,
     "input": [
      "# Place your function definition code here\n",
      "def averages(names, g1, g2, g3):\n",
      "    return {name : sum(g)/len(g) for name, g in zip(names, zip(g1, g2, g3))}\n"
     ],
     "language": "python",
     "metadata": {},
     "outputs": [],
     "prompt_number": 10
    },
    {
     "cell_type": "markdown",
     "metadata": {},
     "source": [
      "> d)  In the cell below, use the **names** list, supplied, and the lists of game scores in part a) to demonstrate that your function works correctly.  Print out the dict returned by the function."
     ]
    },
    {
     "cell_type": "code",
     "collapsed": false,
     "input": [
      "names = ['wilma', 'fred', 'barney', 'betty']\n",
      "# Place your code here\n",
      "\n",
      "print(averages(names, game1, game2, game3))"
     ],
     "language": "python",
     "metadata": {},
     "outputs": [
      {
       "output_type": "stream",
       "stream": "stdout",
       "text": [
        "{'betty': 161.33333333333334, 'wilma': 125.66666666666667, 'barney': 186.66666666666666, 'fred': 211.0}\n"
       ]
      }
     ],
     "prompt_number": 11
    },
    {
     "cell_type": "markdown",
     "metadata": {},
     "source": [
      "## Problem 2:  Definitions  (15 pts)  \n",
      "**Enter the definitions and/or explanations for the terms in the cells provided.**"
     ]
    },
    {
     "cell_type": "raw",
     "metadata": {},
     "source": [
      "(3 pts) Abstract Data Type - The description of data and operations on that data without respect to implementation."
     ]
    },
    {
     "cell_type": "raw",
     "metadata": {},
     "source": [
      "(2 pts) List the two categories of **Class instance attributes** we have identified:\n",
      "a) data attributes\n",
      "b) method attributes"
     ]
    },
    {
     "cell_type": "raw",
     "metadata": {},
     "source": [
      "(6 pts) One of the above attributes is further divided into 3 subcategories depending on their behavior.  Name the subcategory and describe its characteristic behavior.\n",
      "a) initializer - assigns default values to data attributes to put newly created object into a predictable state.\n",
      "b) mutator - modifies the state of the object (by modifying one or more data attributes)\n",
      "c) accessor - returns values of data attributes or uses the values of one or more data attributes to compute and return a value."
     ]
    },
    {
     "cell_type": "markdown",
     "metadata": {},
     "source": [
      "( pt)  Suppose we have the class definition below."
     ]
    },
    {
     "cell_type": "code",
     "collapsed": false,
     "input": [
      "# Execute this cell to define the Exam2 class\n",
      "class Exam2:\n",
      "    \n",
      "    pass  ## don't worry about its contents"
     ],
     "language": "python",
     "metadata": {},
     "outputs": [],
     "prompt_number": 12
    },
    {
     "cell_type": "raw",
     "metadata": {},
     "source": [
      "(2 pts) Name the method that must be supplied so that printing an instance of Exam2 with the print() function will result in the output of a formatted representation of its data?\n",
      "\n",
      "__str__"
     ]
    },
    {
     "cell_type": "raw",
     "metadata": {},
     "source": [
      "(2 pts) If we want to be able to use an expression like\n",
      "    same = a == b\n",
      "where a and b are instances of Exam2, what is the name of the method that we must supply?\n",
      "\n",
      "__eq__"
     ]
    }
   ],
   "metadata": {}
  }
 ]
}