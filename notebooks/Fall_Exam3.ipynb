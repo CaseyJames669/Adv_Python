{
 "metadata": {
  "name": "Fall_Exam3"
 },
 "nbformat": 3,
 "nbformat_minor": 0,
 "worksheets": [
  {
   "cells": [
    {
     "cell_type": "markdown",
     "metadata": {},
     "source": [
      "# Exam 3  (50 pts, total)  \n",
      "Oct 28  \n",
      "\n",
      "> * **Do this immediately** ... rename your test file **you.Exam3**  (where **you** is your smaug logid)  \n",
      "* Answer the following questions in the cells provided.  **Execute the code cells I provide.**  \n",
      "* Use a **Code Cell** to write code.  \n",
      "* For answers where you need to type out a verbal answer, use the **Raw Text** cell(s) provided.  \n",
      "* In questions that ask you to execute a code cell, save the notebook with the output displayed (I.e. don't clear the output)  \n",
      "* **REMEMBER - SAVE OFTEN**  \n",
      "\n",
      "**When you are finished - or when I tell you that you are finished, submit your you.Exam3.ipynb file using moodle.**  \n",
      "\n",
      "The only resources allowed are **this ipython notebook** and the **Python documentation**.  \n",
      "Open the Python documentation in a browser tab by clicking the following link, **now**.\n",
      "<h3><a href=\"http://docs.python.org/3/\" target=\"_blank\"> Python 3.3 Documentation </a></h3>  "
     ]
    },
    {
     "cell_type": "heading",
     "level": 2,
     "metadata": {},
     "source": [
      "Problem 1:  Definitions, etc.  (23 pts)"
     ]
    },
    {
     "cell_type": "raw",
     "metadata": {},
     "source": [
      "(6) Define Abstract Data Type (ADT): An ADT is\n",
      "    the description of data\n",
      "    the description of operations on that data\n",
      "    without respect to implementation\n"
     ]
    },
    {
     "cell_type": "raw",
     "metadata": {},
     "source": [
      "(3) How are an ADT and a Class related?\n",
      "    A class is a programming language implementation of an ADT\n"
     ]
    },
    {
     "cell_type": "raw",
     "metadata": {},
     "source": [
      "(3) What is an 'object'?\n",
      "    An object is an instance of a class"
     ]
    },
    {
     "cell_type": "raw",
     "metadata": {},
     "source": [
      "(2) Attributes of a class can be divided into what main categories?\n",
      "    A class has data and method attributes\n"
     ]
    },
    {
     "cell_type": "markdown",
     "metadata": {},
     "source": [
      "(9 pts) Further categorization of attributes can be applied to one of the above.  In the cell below, \n",
      "> Perform that categorization by (**for each subcategory**)\n",
      ">> * naming the subcategory,  \n",
      "* describing its distinguishing characteristic, AND  \n",
      "* giving an example of it from the Stack class.  \n",
      "\n",
      "Do so by creating **Raw Text** cells **for each** of the subcategories.  The first cell is created for you below."
     ]
    },
    {
     "cell_type": "raw",
     "metadata": {},
     "source": [
      "1.  initializer; is invoked when an object is created and initializes instance variables;  __init__()"
     ]
    },
    {
     "cell_type": "raw",
     "metadata": {},
     "source": [
      "2.  accessor; makes use of instance variable values but does not change any;  top(), __len__, __str__, is_empty()"
     ]
    },
    {
     "cell_type": "heading",
     "level": 3,
     "metadata": {},
     "source": [
      "3.  mutator; changes the state of the object by altering one or more state variables; push(), pop()"
     ]
    },
    {
     "cell_type": "markdown",
     "metadata": {},
     "source": [
      "## Problem 2: The Rectangle class (15 pts)  \n",
      "A rectangle is characterized by its **length** and its **width**.  \n",
      "These quantities MUST be POSITIVE FLOATING POINT NUMBERS and we will assume that all dimensions are in (generic) UNITS.    \n",
      "\n",
      "> Write a class definition for the **Rectangle** class that will:  \n",
      ">> * allow the creation of a Rectangle object with (optionally) an initial length and width ... otherwise length and width should both be 0,  \n",
      "* allow individual assignment of each dimension (eg. if the application decides to change a dimension),  \n",
      "* protect against the assignment of negative or non-numeric dimensions (by raising ValueError),  \n",
      "* allow individual retrieval of each dimension,  \n",
      "* allow you to use the **print()** function to output a Rectangle as (for example):  \n",
      ">>> **Length: 23.5; Width: 12.0**  \n",
      "\n",
      ">> * Does NO I/0 interaction with the user.\n",
      "\n",
      ">> **NOTE: No commenting is required ... add it only if you feel that it will help me understand what you've done**  "
     ]
    },
    {
     "cell_type": "code",
     "collapsed": false,
     "input": [
      "# Rectangle class definition, here\n",
      "class Rectangle:\n",
      "    def __init__(self, length=0, width=0):\n",
      "        self.set_len(length)\n",
      "        self.set_wid(width)\n",
      "    \n",
      "    def set_len(self, length):\n",
      "        if isinstance(length, (int, float)) and float(length) >= 0:\n",
      "            self._length = float(length)\n",
      "        else:\n",
      "            raise ValueError (\"length must be non-neg numeric\")\n",
      "            \n",
      "    def set_wid(self, width):\n",
      "        if isinstance(width, (int, float)) and float(width) >= 0:\n",
      "            self._width = float(width)\n",
      "        else:\n",
      "            raise ValueError (\"width must be non-neg numeric\")\n",
      "            \n",
      "    def get_len(self):\n",
      "        return self._length\n",
      "        \n",
      "    def get_wid(self):\n",
      "        return self._width\n",
      "        \n",
      "    def __str__(self):\n",
      "        return 'Length: {:4.1f}; Width: {:4.1f}'.format(self._length, self._width)"
     ],
     "language": "python",
     "metadata": {},
     "outputs": []
    },
    {
     "cell_type": "markdown",
     "metadata": {},
     "source": [
      "> **(5 pts)** Write unit test code that will demonstrate each of your **Rectangle**'s capabilities."
     ]
    },
    {
     "cell_type": "code",
     "collapsed": false,
     "input": [
      "# Unit test code, here\n",
      "r1 = Rectangle()\n",
      "print('r1:  ', r1)\n",
      "r2 = Rectangle(23.34, 19.56)\n",
      "print('r2:  ', r2)\n",
      "r1.set_len(12)\n",
      "r1.set_wid(13)\n",
      "print('r1 :  ', r1)\n",
      "print('r1_len:  ', r1.get_len())\n",
      "print('r1_wid:  ', r1.get_wid())\n",
      "r1.set_len('out')"
     ],
     "language": "python",
     "metadata": {},
     "outputs": []
    },
    {
     "cell_type": "code",
     "collapsed": false,
     "input": [
      "r1.set_wid(-23)"
     ],
     "language": "python",
     "metadata": {},
     "outputs": []
    },
    {
     "cell_type": "markdown",
     "metadata": {},
     "source": [
      "## Problem 3: Another function for word.py  (12 pts)"
     ]
    },
    {
     "cell_type": "raw",
     "metadata": {},
     "source": [
      "TRUE or FALSE (Type your answer below).  A text file opened for reading is an iterable of strings.\n",
      "True"
     ]
    },
    {
     "cell_type": "markdown",
     "metadata": {},
     "source": [
      "The file **word.pyc** is supplied for you in your exam folder.  You can get the documentation for the current version of the module by executing the following code cell.  \n",
      "ALSO, the folder contains two files: shortened versions of **moby_dick_4** and **moby_dick_5**, for use in testing (the function you are about to construct)"
     ]
    },
    {
     "cell_type": "code",
     "collapsed": false,
     "input": [
      "import word\n",
      "help(word)"
     ],
     "language": "python",
     "metadata": {},
     "outputs": []
    },
    {
     "cell_type": "markdown",
     "metadata": {},
     "source": [
      "In the following code cell, write a function **word_len** that will take the name of a file as a parameter and return a dict with keys being word lengths and values being lists of words in the document that contain the corresponding number of characters.  No word should appear in the dict more than once."
     ]
    },
    {
     "cell_type": "code",
     "collapsed": false,
     "input": [
      "import word\n",
      "def word_len(filename):\n",
      "    len_dict = dict()\n",
      "    f = open(filename, 'r')\n",
      "    for wd in word.word_set(f):\n",
      "        if len(wd) in len_dict:\n",
      "            len_dict[len(wd)].append(wd)\n",
      "        else:\n",
      "            len_dict[len(wd)] = [wd]\n",
      "    return len_dict"
     ],
     "language": "python",
     "metadata": {},
     "outputs": []
    },
    {
     "cell_type": "markdown",
     "metadata": {},
     "source": [
      "In the cells below, demonstrate that your function works by applying it to each of the text files provided"
     ]
    },
    {
     "cell_type": "code",
     "collapsed": false,
     "input": [
      "print(word_len('moby_dick_4'))\n"
     ],
     "language": "python",
     "metadata": {},
     "outputs": []
    },
    {
     "cell_type": "code",
     "collapsed": false,
     "input": [
      "print(word_len('moby_dick_5'))"
     ],
     "language": "python",
     "metadata": {},
     "outputs": []
    }
   ],
   "metadata": {}
  }
 ]
}