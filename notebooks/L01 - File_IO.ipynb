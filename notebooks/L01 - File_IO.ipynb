{
 "metadata": {
  "name": "L01 - File_IO"
 },
 "nbformat": 3,
 "nbformat_minor": 0,
 "worksheets": [
  {
   "cells": [
    {
     "cell_type": "heading",
     "level": 1,
     "metadata": {},
     "source": [
      "<dt id=\"top\">\n",
      "Lesson 1:  File Input and Output"
     ]
    },
    {
     "cell_type": "markdown",
     "metadata": {},
     "source": [
      "## Contents:\n",
      "\n",
      "<ul>\n",
      "    <li><a href=\"#stdfiles\">Linux standard files</a>\n",
      "        <ul>\n",
      "            <li><a href=\"#stdin\">Standard Input Redirection</a>\n",
      "            <li><a href=\"#stdout\">Standard Output Redirection</a>\n",
      "            <li><a href=\"#stderr\">Standard Error Redirection</a>\n",
      "        </ul>\n",
      "    <li><a href=\"#pyfiles\">Python 'file' Objects</a>\n",
      "        <ul>\n",
      "            <li><a href=\"#readfile\">Reading a Disk File</a>\n",
      "            <li><a href=\"#writefile\">Writing a Disk File</a>\n",
      "            <li><a href=\"#wstderrfile\">Writing to the stderr File</a>\n",
      "        </ul>\n",
      "</ul>\n",
      "    "
     ]
    },
    {
     "cell_type": "heading",
     "level": 2,
     "metadata": {},
     "source": [
      "<dt id=\"stdfiles\">\n",
      "Linux standard files"
     ]
    },
    {
     "cell_type": "markdown",
     "metadata": {},
     "source": [
      "When a program, including a Python script, is started from a linux terminal's bash shell prompt, the system implicitly opens three files for it.  These files have specific devices associated with them by default:\n",
      "\n",
      "* **stdin** (standard input) is associated with the terminal keyboard by default,\n",
      "* **stdout** (standard output) is associated with the terminal screen or terminal window by default, and\n",
      "* **stderr** (standard error) is associated with the terminal screen or terminal window by default.\n",
      "\n",
      "These default associations may be overridden on the command line when the program is invoked.  In any case, the association in effect when the program begins execution stays in effect until the execution terminates.  We can specify alternate text files from the file system for any of the defaults by a process called **file redirection**.\n",
      "\n",
      "**NOTE:**  \n",
      "It is important to understand that standard file redirection is NOT part of Python.  Python simply can read from and write to the standard files ... it is linux's bash shell that determines what devices these standard files are associated with.  We are simply able to change the default assignment on the command line when we execute a script."
     ]
    },
    {
     "cell_type": "heading",
     "level": 3,
     "metadata": {},
     "source": [
      "<dt id=\"stdin\">\n",
      "Standard Input Redirection"
     ]
    },
    {
     "cell_type": "markdown",
     "metadata": {},
     "source": [
      "The Python *input* function expects to obtain input from the standard input file and will pause execution until data becomes available.  You have used this function to get user input interactively or to pause execution until the user finishes reading screen output and then presses ENTER to allow the program to continue execution.\n",
      "\n",
      "If we are testing a program that requires substantial user input, we may tire of retyping the input.  This is a perfect opportunity to use **input file redirection** and provide the intended input in a text file."
     ]
    },
    {
     "cell_type": "markdown",
     "metadata": {},
     "source": [
      "**Example 1.**\n",
      "\n",
      "The script below is located in the file *E01/getlines.py*.  It prompts the user to enter lines and then pauses.  When an ENTER is pressed by the user, the input (including the newline character) is passed to the script and processing continues.  The first two lines of code provide a \"time stamp\" for the output so that, in the subsequent discussion, we can see when the output was created."
     ]
    },
    {
     "cell_type": "code",
     "collapsed": false,
     "input": [
      "!cat E01/getlines.py"
     ],
     "language": "python",
     "metadata": {},
     "outputs": [
      {
       "output_type": "stream",
       "stream": "stdout",
       "text": [
        "from time import asctime\r\n",
        "print(asctime())\r\n",
        "line_no = 1\r\n",
        "line = input(\"**Enter a line of text:\\n\")\r\n",
        "while line:\r\n",
        "    print(\"line\", line_no, \":\", line)\r\n",
        "    line_no += 1\r\n",
        "    line = input(\"**Enter another line of text:\\n\")\r\n"
       ]
      }
     ],
     "prompt_number": 1
    },
    {
     "cell_type": "markdown",
     "metadata": {},
     "source": [
      "To see what those first two lines of code do, execute it alone:"
     ]
    },
    {
     "cell_type": "code",
     "collapsed": false,
     "input": [
      "from time import asctime\n",
      "print(asctime())"
     ],
     "language": "python",
     "metadata": {},
     "outputs": [
      {
       "output_type": "stream",
       "stream": "stdout",
       "text": [
        "Tue Aug 27 13:25:47 2013\n"
       ]
      }
     ],
     "prompt_number": 3
    },
    {
     "cell_type": "markdown",
     "metadata": {},
     "source": [
      "**Note:**  A current limitation of the IPython notebook environment that we are employing is its inability to do keyboard input for code executed in a code cell.  To supply keyboard input to a running script, you will need to run the script in a terminal window.  \n",
      "The following code cell may need some explanation.\n",
      "\n",
      "* The '!' causes IPython to execute a bash shell command\n",
      "* xterm is a linux program that will run a terminal window ... the -e flag says run the following command in the window\n",
      "* the string that follows is really THREE shell commands (separated by colons).  We do this because the xterm will close as soon as the command(s) are executed.  This means that if an error were to occur in your python script, you would not see the error message.  The three commands are:\n",
      "    * 'python33 E01/getlines.py' runs the script\n",
      "    * 'echo program terminated, press ENTER' prints the message on the screen\n",
      "    * 'read' is a shell command that reads input from the keyboard, thus causing the shell to wait until you are ready to continue ... then the window will disappear.\n",
      "* This is all just a workaround so that we can interact with the script via the keyboard in the notebook environment.  You could also just create a terminal window and execute the script, as usual.  \n",
      "\n",
      "Execute the code cell to test the *getlines.py* script."
     ]
    },
    {
     "cell_type": "code",
     "collapsed": false,
     "input": [
      "!xterm -e 'python33 E01/getlines.py ; echo program terminated, press ENTER; read'"
     ],
     "language": "python",
     "metadata": {},
     "outputs": [],
     "prompt_number": 7
    },
    {
     "cell_type": "markdown",
     "metadata": {},
     "source": [
      "If we want to process a text file with the above code rather than process keyboard input, we can create a file with the desired input and then use it.  \n",
      "\n",
      "View the contents of the file *E01/demo\\_file*:"
     ]
    },
    {
     "cell_type": "code",
     "collapsed": false,
     "input": [
      "!cat E01/demo_file"
     ],
     "language": "python",
     "metadata": {},
     "outputs": [
      {
       "output_type": "stream",
       "stream": "stdout",
       "text": [
        "This is a demo file.\r\n",
        "It has three lines of text.\r\n",
        "This is the third line.\r\n"
       ]
      }
     ],
     "prompt_number": 8
    },
    {
     "cell_type": "markdown",
     "metadata": {},
     "source": [
      "To redirect the standard input to come from the text file *E01/demo\\_file*, we use the command syntax\n",
      "\n",
      "    python3 program_pathname <input_file_pathname\n",
      "\n",
      "(Think of the '<' as a funnel that we use to 'funnel' the contents of the input file into the running program.)  \n",
      "Of course, if we are executing it from within the notebook, we must remember to precede it with a '!'.  \n",
      "We don't need to create a terminal window because we won't need to interact with the script via the keyboard ... in fact, once we redirect the standard input to the file, we CANNOT use the keyboard to interact with the script."
     ]
    },
    {
     "cell_type": "code",
     "collapsed": false,
     "input": [
      "!python3 E01/getlines.py < E01/demo_file "
     ],
     "language": "python",
     "metadata": {},
     "outputs": [
      {
       "output_type": "stream",
       "stream": "stdout",
       "text": [
        "Tue Aug 27 13:30:31 2013\r\n",
        "**Enter a line of text:\r\n",
        "line 1 : This is a demo file.\r\n",
        "**Enter another line of text:\r\n",
        "line 2 : It has three lines of text.\r\n",
        "**Enter another line of text:\r\n",
        "line 3 : This is the third line.\r\n",
        "**Enter another line of text:\r\n"
       ]
      },
      {
       "output_type": "stream",
       "stream": "stdout",
       "text": [
        "Traceback (most recent call last):\r\n",
        "  File \"E01/getlines.py\", line 8, in <module>\r\n",
        "    line = input(\"**Enter another line of text:\\n\")\r\n",
        "EOFError: EOF when reading a line\r\n"
       ]
      }
     ],
     "prompt_number": 9
    },
    {
     "cell_type": "markdown",
     "metadata": {},
     "source": [
      "Oof!  That didn't go particularly well.  \n",
      "\n",
      "* The output is cluttered with prompts that weren't particularly helpful, since the user isn't actively supplying lines.  We could just as well have omitted the prompt parameter for the input function.  However, remember that we may just be providing test input for a program that is normally interactive.\n",
      "* A larger problem is that the script did not end at all gracefully.  Reading the error message, we see that we encountered an EOF (end of file) when we were trying to read input.  We'll resolve this problem shortly.  For now, we'll just make use of the error message(s) as examples for redirecting the standard error file, below.\n",
      "\n",
      "<a href=\"#top\">back to top</a>"
     ]
    },
    {
     "cell_type": "heading",
     "level": 3,
     "metadata": {},
     "source": [
      "<dt id=\"stdout\">\n",
      "Standard Output Redirection"
     ]
    },
    {
     "cell_type": "markdown",
     "metadata": {},
     "source": [
      "We used the '<' symbol to redirect input from a text file to stdin, the standard input of our script.  \n",
      "To redirect output from our script, intended for the standard output, to a file, we use the syntax\n",
      "> python3 program_pathname >output_file_name  \n",
      "\n",
      "(Again, I think of the '>' as a \"funnel\" ... this time funneling output from the script into the file.  \n",
      "The command below will execute the script, redirect its standard input from *E01/demo\\_file* and redirect its standard output to the text file *E01/demo_lines*."
     ]
    },
    {
     "cell_type": "code",
     "collapsed": false,
     "input": [
      "!python3 E01/getlines.py < E01/demo_file > E01/demo_lines"
     ],
     "language": "python",
     "metadata": {},
     "outputs": [
      {
       "output_type": "stream",
       "stream": "stdout",
       "text": [
        "Traceback (most recent call last):\r\n",
        "  File \"E01/getlines.py\", line 8, in <module>\r\n",
        "    line = input(\"**Enter another line of text:\\n\")\r\n",
        "EOFError: EOF when reading a line\r\n"
       ]
      }
     ],
     "prompt_number": 10
    },
    {
     "cell_type": "markdown",
     "metadata": {},
     "source": [
      "In the displayed output, you no longer see the prompts nor the output text lines.  That is because the Python *print* function writes output to the standard output by default and that has been redirected to the file *E01/demo\\_lines*."
     ]
    },
    {
     "cell_type": "code",
     "collapsed": false,
     "input": [
      "!cat E01/demo_lines"
     ],
     "language": "python",
     "metadata": {},
     "outputs": [
      {
       "output_type": "stream",
       "stream": "stdout",
       "text": [
        "Tue Aug 27 13:35:14 2013\r\n",
        "**Enter a line of text:\r\n",
        "line 1 : This is a demo file.\r\n",
        "**Enter another line of text:\r\n",
        "line 2 : It has three lines of text.\r\n",
        "**Enter another line of text:\r\n",
        "line 3 : This is the third line.\r\n",
        "**Enter another line of text:\r\n"
       ]
      }
     ],
     "prompt_number": 11
    },
    {
     "cell_type": "markdown",
     "metadata": {},
     "source": [
      "However, you DO see all the error messages.  That is because the Python interpreter writes its error messages to the standard error file.  Though the file *stderr* is associated with the same default device as *stdout* is, they are DISTINCT files and can be handled separately.\n",
      "\n",
      "To see this, in the next section, you will redirect *stderr* to a text file ... *E01/demo\\_errors* ... and redirect *stdin* and *stdout* as before.  \n",
      "When you do, you will notice that the file *E01/demo\\_lines* has been overwritten (it will have a later time stamp date in the output).  That is because if you redirect output to a file with '>', \n",
      "\n",
      "* the file is created if it doesn't exist and\n",
      "* it is destroyed and recreated if it does exist.\n",
      "\n",
      "**Before we proceed ... one other thing to note:**  \n",
      "We *can* redirect stdout to a file without redirecting the stdin ... i.e. use the keyboard for input.  However, when you do this below, you will note that you don't get a prompt.  That's because the prompt is written to stdout, which has been redirected.  This points out a major flaw in depending on redirection of standard files to accomplish file I/O, in general.  \n",
      "\n",
      "Execute the following code cell .. but remember that you are expected to enter lines of text, terminated with an ENTER on a line by itself."
     ]
    },
    {
     "cell_type": "code",
     "collapsed": false,
     "input": [
      "!xterm -e 'python33 E01/getlines.py >E01/demo_lines; echo program terminated, press ENTER; read'"
     ],
     "language": "python",
     "metadata": {},
     "outputs": [],
     "prompt_number": 13
    },
    {
     "cell_type": "code",
     "collapsed": false,
     "input": [
      "!cat E01/demo_lines"
     ],
     "language": "python",
     "metadata": {},
     "outputs": [
      {
       "output_type": "stream",
       "stream": "stdout",
       "text": [
        "Tue Aug 27 13:39:30 2013\r\n",
        "**Enter a line of text:\r\n"
       ]
      }
     ],
     "prompt_number": 15
    },
    {
     "cell_type": "markdown",
     "metadata": {},
     "source": [
      "<a href=\"#top\">back to top</a>"
     ]
    },
    {
     "cell_type": "heading",
     "level": 3,
     "metadata": {},
     "source": [
      "<dt id=\"stderr\">\n",
      "Standard Error Redirection"
     ]
    },
    {
     "cell_type": "markdown",
     "metadata": {},
     "source": [
      "To redirect stderr to a text file instead of the terminal window, use the '2>' symbol (no spaces).\n",
      "> python3 program_pathname 2>error_file_name \n",
      "\n",
      "The \"funnel\" idea still applies ... we are funneling the error messages from the script into the text file.  \n",
      "\n",
      "The '2' in '2>' may be confusing.  It is present to distinguish the redirection of stdin and the redirection of stderr.  Linux uses small numbers to identify open files and stdin, stdout, and stderr are numbered 0, 1, and 2, resp.  We could, in fact, use the symbols '0<', '1>', and '2>', resp. to redirect the stdin, stdout, and stderr.  The 0 and 1 are default and are never included.\n",
      "\n",
      "This runs the script with stdandard input and output redirected as before and standard error redirected to the file *E01/demo\\_errors*."
     ]
    },
    {
     "cell_type": "code",
     "collapsed": false,
     "input": [
      "!python3 E01/getlines.py <E01/demo_file >E01/demo_lines 2>E01/demo_errors"
     ],
     "language": "python",
     "metadata": {},
     "outputs": [],
     "prompt_number": 16
    },
    {
     "cell_type": "markdown",
     "metadata": {},
     "source": [
      "You don't see anything displayed because stdout and stderr have been redirected.\n",
      "\n",
      "Take a look at the output file ... note the new time stamp."
     ]
    },
    {
     "cell_type": "code",
     "collapsed": false,
     "input": [
      "!cat E01/demo_lines"
     ],
     "language": "python",
     "metadata": {},
     "outputs": [
      {
       "output_type": "stream",
       "stream": "stdout",
       "text": [
        "Tue Aug 27 13:42:24 2013\r\n",
        "**Enter a line of text:\r\n",
        "line 1 : This is a demo file.\r\n",
        "**Enter another line of text:\r\n",
        "line 2 : It has three lines of text.\r\n",
        "**Enter another line of text:\r\n",
        "line 3 : This is the third line.\r\n",
        "**Enter another line of text:\r\n"
       ]
      }
     ],
     "prompt_number": 17
    },
    {
     "cell_type": "markdown",
     "metadata": {},
     "source": [
      "Now, look at the error file."
     ]
    },
    {
     "cell_type": "code",
     "collapsed": false,
     "input": [
      "!cat E01/demo_errors"
     ],
     "language": "python",
     "metadata": {},
     "outputs": [
      {
       "output_type": "stream",
       "stream": "stdout",
       "text": [
        "Traceback (most recent call last):\r\n",
        "  File \"E01/getlines.py\", line 8, in <module>\r\n",
        "    line = input(\"**Enter another line of text:\\n\")\r\n",
        "EOFError: EOF when reading a line\r\n"
       ]
      }
     ],
     "prompt_number": 18
    },
    {
     "cell_type": "markdown",
     "metadata": {},
     "source": [
      "Though each of the examples for redirection had input redirection first, the order of redirection is not important ... "
     ]
    },
    {
     "cell_type": "code",
     "collapsed": false,
     "input": [
      "!python3 E01/getlines.py 2>E01/demo_errors >E01/demo_lines <E01/demo_file "
     ],
     "language": "python",
     "metadata": {},
     "outputs": [],
     "prompt_number": 20
    },
    {
     "cell_type": "markdown",
     "metadata": {},
     "source": [
      "Neither is the use of one redirection dependent on the use of any of the others.\n",
      "\n",
      "Delete the error file that we just created:"
     ]
    },
    {
     "cell_type": "code",
     "collapsed": false,
     "input": [
      "!rm E01/demo_errors"
     ],
     "language": "python",
     "metadata": {},
     "outputs": [],
     "prompt_number": 21
    },
    {
     "cell_type": "markdown",
     "metadata": {},
     "source": [
      "Now, run *E01/getlines.py* while redirecting only *stdin* and *stderr*:"
     ]
    },
    {
     "cell_type": "code",
     "collapsed": false,
     "input": [
      "!python3 E01/getlines.py 2>E01/demo_errors <E01/demo_file"
     ],
     "language": "python",
     "metadata": {},
     "outputs": [
      {
       "output_type": "stream",
       "stream": "stdout",
       "text": [
        "Tue Aug 27 13:43:18 2013\r\n",
        "**Enter a line of text:\r\n",
        "line 1 : This is a demo file.\r\n",
        "**Enter another line of text:\r\n",
        "line 2 : It has three lines of text.\r\n",
        "**Enter another line of text:\r\n",
        "line 3 : This is the third line.\r\n",
        "**Enter another line of text:\r\n"
       ]
      }
     ],
     "prompt_number": 22
    },
    {
     "cell_type": "markdown",
     "metadata": {},
     "source": [
      "Now, we see everything that was printed to the *stdout* by our script ... but we DON'T see the error message.  That is in our error file:"
     ]
    },
    {
     "cell_type": "code",
     "collapsed": false,
     "input": [
      "!cat examples/demo_errors"
     ],
     "language": "python",
     "metadata": {},
     "outputs": [
      {
       "output_type": "stream",
       "stream": "stdout",
       "text": [
        "cat: examples/demo_errors: No such file or directory\r\n"
       ]
      }
     ],
     "prompt_number": 23
    },
    {
     "cell_type": "markdown",
     "metadata": {},
     "source": [
      "Exercise 2\n",
      ">As previously stated, the IPython notebook environment currently doesn't support keyboard input.  To see what happens when you redirect stdout but NOT stdin, run the script in a terminal window redirecting only stdout to a text file.  \n",
      "> When you do so, you will not see the prompts for input.  Remember that EVERYTHING that is written to stderr now is written to the text file ... prompts included.  So, you will have to go by memory and you knowledge of the script's code.\n",
      "\n",
      "Exercise 2 demonstrates the limitation of file redirection.  ALL of stdin, stdout, or stderr is associated with a single for the duration of execution.  For this reason, interactive programs generally do not redirect stdin or stdout.  \n",
      "In the next section, we the Python **file** class and see how Python associates **file objects** with files in the file system.\n",
      "\n",
      "<a href=\"#top\">back to top</a>"
     ]
    },
    {
     "cell_type": "heading",
     "level": 2,
     "metadata": {},
     "source": [
      "<dt id=\"pyfiles\">\n",
      "Python file Objects"
     ]
    },
    {
     "cell_type": "markdown",
     "metadata": {},
     "source": [
      "We use the term 'file' to refer to two distinct entities.\n",
      "\n",
      "* With respect to the operating system's file system, a file is a named, logically related group of data that is stored on a physical device, such as a hard disk, flash memory, or CD-ROM.  These files may contain text or binary data.  At present, we will concern ourselves with text files.  However, most of the operations we are considering apply to either.\n",
      "* Within a Python script, *file* is a class (actually that's how we'll refer to the **\\_io.TextIOWrapper** class ... because it's easier) and, as with other classes we have seen, objects of the *file* class have methods which operate on data they contain/manage.  Text files in the Python environment may be read from, written to, searched, and altered ... that is, accessed much like other python objects.\n",
      "\n",
      "What relates these two **file** concepts is the Python function **open**.  \n",
      "The *open* function creates a Python *file* object within your script's dedicated memory and interacts with the operating system to associate it with a *file system file*.  From that point on, until the file is closed and the association is dissolved, your script interacts with it's *file object*, the operating system takes care of the *file system file* and \"private\" methods within the Python file object coordinate the communication between the Python interpreter and the operating system."
     ]
    },
    {
     "cell_type": "markdown",
     "metadata": {},
     "source": [
      "<img src=\"files/figs/files.png\" />"
     ]
    },
    {
     "cell_type": "markdown",
     "metadata": {},
     "source": [
      "We see and use the interface exposed to us by the file object and are not concerned with the code that supports the communication between the Python interpreter and the operating system.  We will leave that code to system programmers who have worked long and hard so that we can ignore the low-level details and get to solving our problems.  \n",
      "**Isn't abstraction grand?!**\n",
      "\n",
      "Glance through what the Python documentation has to say about the **open** function by executing the  request for help in the code cell below.  \n",
      "In particular\n",
      "\n",
      "* the function's parameter list - most important right now are:\n",
      "    * the only required parameter is the pathname of the disk file - this must either be relative to the current folder or be an absolute pathname.\n",
      "    * the mode indicates how the file will be used (eg. \"read from\" is default) - of particular interest are 'r', 'w', 'x', and 'a', which indicate read, write, create, and append, resp.,\n",
      "* when used with a text file, **open()** returns a \"file object\", through which the standard file operations such as reading and writing\n",
      "are performed,\n",
      "* the syntax for using a file is  \n",
      "**file_variable = open(filename, mode)**  \n",
      "where\n",
      "    * **file\\_variable** is the script's name associated with the Python file object,\n",
      "    * **filename** is the name of the operating system's file (either existing or to be created), and\n",
      "    * **mode** indicates how the file is to be used,\n",
      "* and, finally, if an error occurs because the file cannot be accessed or created, an exception is raised that will terminate your script (unless dealt with internally)."
     ]
    },
    {
     "cell_type": "code",
     "collapsed": false,
     "input": [
      "open?"
     ],
     "language": "python",
     "metadata": {},
     "outputs": [],
     "prompt_number": 24
    },
    {
     "cell_type": "markdown",
     "metadata": {},
     "source": [
      "<a href=\"#top\">back to top</a>"
     ]
    },
    {
     "cell_type": "heading",
     "level": 3,
     "metadata": {},
     "source": [
      "<dt id=\"readfile\">\n",
      "Reading a disk file"
     ]
    },
    {
     "cell_type": "markdown",
     "metadata": {},
     "source": [
      "Let's just start our investigation by seeing what happens when we try to open a file which does not exist for reading:"
     ]
    },
    {
     "cell_type": "code",
     "collapsed": false,
     "input": [
      "our_file = open('non-existent_file', 'r')"
     ],
     "language": "python",
     "metadata": {},
     "outputs": [
      {
       "ename": "IOError",
       "evalue": "[Errno 2] No such file or directory: 'non-existent_file'",
       "output_type": "pyerr",
       "traceback": [
        "\u001b[0;31m---------------------------------------------------------------------------\u001b[0m\n\u001b[0;31mIOError\u001b[0m                                   Traceback (most recent call last)",
        "\u001b[0;32m<ipython-input-25-e5449cc6eb25>\u001b[0m in \u001b[0;36m<module>\u001b[0;34m()\u001b[0m\n\u001b[0;32m----> 1\u001b[0;31m \u001b[0mour_file\u001b[0m \u001b[0;34m=\u001b[0m \u001b[0mopen\u001b[0m\u001b[0;34m(\u001b[0m\u001b[0;34m'non-existent_file'\u001b[0m\u001b[0;34m,\u001b[0m \u001b[0;34m'r'\u001b[0m\u001b[0;34m)\u001b[0m\u001b[0;34m\u001b[0m\u001b[0m\n\u001b[0m",
        "\u001b[0;31mIOError\u001b[0m: [Errno 2] No such file or directory: 'non-existent_file'"
       ]
      }
     ],
     "prompt_number": 25
    },
    {
     "cell_type": "markdown",
     "metadata": {},
     "source": [
      "The error that is raised is aptly named IOError and the message indicates that the file does not exist.  That's pretty self-explanitory.\n",
      "\n",
      "Once a file has been successfully opened for reading, you can use one of the file object's reading methods to obtain the \"next\" data from the object.  The file object maintains a marker in its data  that indicates which data has already been passed to the script and what item of data is next.  \n",
      "The text file is an iterable object from which we can obtain the next line or over which we can iterate.  It is also possible to obtain all the text in the file as a single string.\n",
      "\n",
      "The following methods are for obtaining data from the input file:\n",
      "\n",
      "* **file\\_variable.readline()** will return the next line of the file as a string,\n",
      "* **file\\_variable.readlines()** will return the remainder of the file as a list of strings (one line per string), and\n",
      "* **file\\_variable.read()** will read the remainder of the file as one string.\n",
      "\n",
      "> Also, since **the text file is an iterable**, it can be used in a **for** to obtain a line of data on each iteration.\n",
      "\n",
      "Recall the text file we looked at earlier:"
     ]
    },
    {
     "cell_type": "code",
     "collapsed": false,
     "input": [
      "!cat E01/demo_file"
     ],
     "language": "python",
     "metadata": {},
     "outputs": [
      {
       "output_type": "stream",
       "stream": "stdout",
       "text": [
        "This is a demo file.\r\n",
        "It has three lines of text.\r\n",
        "This is the third line.\r\n"
       ]
      }
     ],
     "prompt_number": 26
    },
    {
     "cell_type": "markdown",
     "metadata": {},
     "source": [
      "Open the disk file for reading and associate it with a file object named *my\\_file*:"
     ]
    },
    {
     "cell_type": "code",
     "collapsed": false,
     "input": [
      "my_file = open('E01/demo_file')"
     ],
     "language": "python",
     "metadata": {},
     "outputs": [],
     "prompt_number": 55
    },
    {
     "cell_type": "markdown",
     "metadata": {},
     "source": [
      "Note that the file object has been created:"
     ]
    },
    {
     "cell_type": "code",
     "collapsed": false,
     "input": [
      "print(repr(my_file))"
     ],
     "language": "python",
     "metadata": {},
     "outputs": [
      {
       "output_type": "stream",
       "stream": "stdout",
       "text": [
        "<open file 'E01/demo_file', mode 'r' at 0x9f73e90>"
       ]
      },
      {
       "output_type": "stream",
       "stream": "stdout",
       "text": [
        "\n"
       ]
      }
     ],
     "prompt_number": 29
    },
    {
     "cell_type": "markdown",
     "metadata": {},
     "source": [
      "When you are finished using a file, it is good practice to *close* it using the file object's **close** method.  That is, we disassociate the file object from the disk file.  The object is not destroyed, but is pretty worthless.  "
     ]
    },
    {
     "cell_type": "code",
     "collapsed": false,
     "input": [
      "my_file.close()\n",
      "print(repr(my_file))"
     ],
     "language": "python",
     "metadata": {},
     "outputs": [
      {
       "output_type": "stream",
       "stream": "stdout",
       "text": [
        "<closed file 'E01/demo_file', mode 'r' at 0x9f73e90>\n"
       ]
      }
     ],
     "prompt_number": 30
    },
    {
     "cell_type": "markdown",
     "metadata": {},
     "source": [
      "Any attempt to read or write a closed file object will result in an error being raised."
     ]
    },
    {
     "cell_type": "code",
     "collapsed": false,
     "input": [
      "data = my_file.readline()"
     ],
     "language": "python",
     "metadata": {},
     "outputs": [
      {
       "ename": "ValueError",
       "evalue": "I/O operation on closed file",
       "output_type": "pyerr",
       "traceback": [
        "\u001b[0;31m---------------------------------------------------------------------------\u001b[0m\n\u001b[0;31mValueError\u001b[0m                                Traceback (most recent call last)",
        "\u001b[0;32m<ipython-input-31-8a8d9d5f7ca0>\u001b[0m in \u001b[0;36m<module>\u001b[0;34m()\u001b[0m\n\u001b[0;32m----> 1\u001b[0;31m \u001b[0mdata\u001b[0m \u001b[0;34m=\u001b[0m \u001b[0mmy_file\u001b[0m\u001b[0;34m.\u001b[0m\u001b[0mreadline\u001b[0m\u001b[0;34m(\u001b[0m\u001b[0;34m)\u001b[0m\u001b[0;34m\u001b[0m\u001b[0m\n\u001b[0m",
        "\u001b[0;31mValueError\u001b[0m: I/O operation on closed file"
       ]
      }
     ],
     "prompt_number": 31
    },
    {
     "cell_type": "markdown",
     "metadata": {},
     "source": [
      "If we open the same file or a different one and associate it with the same variable name, a new file object is created, initialized and assigned to the variable name."
     ]
    },
    {
     "cell_type": "markdown",
     "metadata": {},
     "source": [
      "<a href=\"#top\">back to top</a>"
     ]
    },
    {
     "cell_type": "heading",
     "level": 4,
     "metadata": {},
     "source": [
      "The 'readline' Method"
     ]
    },
    {
     "cell_type": "markdown",
     "metadata": {},
     "source": [
      "So, let's, \n",
      "\n",
      "* open the file, \n",
      "* use its **readline()** method, and\n",
      "* print out the result\n",
      "\n",
      "First open the file:"
     ]
    },
    {
     "cell_type": "code",
     "collapsed": false,
     "input": [
      "my_file = open('E01/demo_file', 'r')"
     ],
     "language": "python",
     "metadata": {},
     "outputs": [],
     "prompt_number": 4
    },
    {
     "cell_type": "markdown",
     "metadata": {},
     "source": [
      "Now, read a single line from the file:"
     ]
    },
    {
     "cell_type": "code",
     "collapsed": false,
     "input": [
      "line = my_file.readline()\n",
      "print(line)"
     ],
     "language": "python",
     "metadata": {},
     "outputs": [
      {
       "output_type": "stream",
       "stream": "stdout",
       "text": [
        "This is a demo file.\n",
        "\n"
       ]
      }
     ],
     "prompt_number": 5
    },
    {
     "cell_type": "markdown",
     "metadata": {},
     "source": [
      "Exercise 3\n",
      "> Execute the code in the previous code cell again and then a third and fourth time.  \n",
      "What you should observe is:\n",
      "\n",
      "> * each invocation of the *readline* method obtains the NEXT line of the file\n",
      "* no error is produced when the end of the file is encountered ... rather, an empty string is returned.  Go ahead ... try executing that code cell a couple more times ... see?\n",
      "\n",
      "If we wish to use that disk file again, we can simply issue the **open** function call, again.  This effectively closes the file and then reopens it, resetting the current 'read position' to the beginning of the file."
     ]
    },
    {
     "cell_type": "heading",
     "level": 4,
     "metadata": {},
     "source": [
      "Iterating Over a Text File  "
     ]
    },
    {
     "cell_type": "markdown",
     "metadata": {},
     "source": [
      "The Python file object we have created is an **iterable**, so we can use a for loop to step throught it:"
     ]
    },
    {
     "cell_type": "code",
     "collapsed": false,
     "input": [
      "my_file = open('E01/demo_file', 'r')\n",
      "for line in my_file:\n",
      "    print(str.strip(line))"
     ],
     "language": "python",
     "metadata": {},
     "outputs": [
      {
       "output_type": "stream",
       "stream": "stdout",
       "text": [
        "This is a demo file.\n",
        "It has three lines of text.\n",
        "This is the third line.\n"
       ]
      }
     ],
     "prompt_number": 62
    },
    {
     "cell_type": "markdown",
     "metadata": {},
     "source": [
      "Note that the lines are double spaced.  That is because the newline character at the end of each of the lines in the text file is also part of the string AND print adds a newline by default.\n",
      "\n",
      "Exercise 4\n",
      "> Edit the code in the previous code cell so that it uses the string class' *strip* method to remove leading or trailing white space from the line before printing.\n",
      "\n",
      "Another way to single space would have been to leave the line as it was and change the 'end' parameter for the print function.  \n",
      "To remind yourself of *print*'s parameters, place the cursor after the open parenthesis of the *print* statement, above, and press tab to get the Python documentation for *print*.  (To dismiss the help box, click on the 'x')\n",
      "\n",
      "Exercise 5\n",
      "> Edit the previous code cell to print single spaced output by modifying the parameter list of the *print* function to specify that the *end* parameter is the empty string.  Note, you'll need to remove the *strip* method invocation you supplied for Exercise 4 or you will get the entire file contents on one line.\n",
      "\n",
      "<a href=\"#top\">back to top</a>"
     ]
    },
    {
     "cell_type": "code",
     "collapsed": false,
     "input": [
      "my_file = open('E01/demo_file', 'r')\n",
      "for line in my_file:\n",
      "    print(line, end='')"
     ],
     "language": "python",
     "metadata": {},
     "outputs": [
      {
       "output_type": "stream",
       "stream": "stdout",
       "text": [
        "This is a demo file.\n",
        "It has three lines of text.\n",
        "This is the third line.\n"
       ]
      }
     ],
     "prompt_number": 1
    },
    {
     "cell_type": "heading",
     "level": 4,
     "metadata": {},
     "source": [
      "The 'readlines' Method"
     ]
    },
    {
     "cell_type": "markdown",
     "metadata": {},
     "source": [
      "We can use the file object's **readlines** method to read the contents of the file object, from the current position to the end of the file, into a list.  Each line of the input file will be an element in the list:"
     ]
    },
    {
     "cell_type": "code",
     "collapsed": false,
     "input": [
      "my_file = open('E01/demo_file')\n",
      "lines = my_file.readlines()\n",
      "print('lines =', lines)"
     ],
     "language": "python",
     "metadata": {},
     "outputs": [
      {
       "output_type": "stream",
       "stream": "stdout",
       "text": [
        "('lines =', ['This is a demo file.\\n', 'It has three lines of text.\\n', 'This is the third line.\\n'])\n"
       ]
      }
     ],
     "prompt_number": 36
    },
    {
     "cell_type": "markdown",
     "metadata": {},
     "source": [
      "For practice, add code to the above code cell that will print the list of lines, one line at a time."
     ]
    },
    {
     "cell_type": "heading",
     "level": 4,
     "metadata": {},
     "source": [
      "The 'read' Method"
     ]
    },
    {
     "cell_type": "markdown",
     "metadata": {},
     "source": [
      "And, finally, we can read the contents of the entire text file into a single string:"
     ]
    },
    {
     "cell_type": "code",
     "collapsed": false,
     "input": [
      "my_file = open('E01/demo_file')\n",
      "data = my_file.read()\n",
      "print(repr(data))"
     ],
     "language": "python",
     "metadata": {},
     "outputs": [
      {
       "output_type": "stream",
       "stream": "stdout",
       "text": [
        "'This is a demo file.\\nIt has three lines of text.\\nThis is the third line.\\n'\n"
       ]
      }
     ],
     "prompt_number": 37
    },
    {
     "cell_type": "markdown",
     "metadata": {},
     "source": [
      "In the above code, the *repr* of the result of the **read** method is used to demonstrate exactly what is obtained by the method's use.  \n",
      "What would be the result if you simply printed *data*?  Try it to verify your conjecture."
     ]
    },
    {
     "cell_type": "markdown",
     "metadata": {},
     "source": [
      "Exercise 6\n",
      "> The folder *E01* in your current notebooks folder contains a file named *grades*.  (That is, the relative pathname of the file is *E01/grades*)  \n",
      "In the code cells below, write Python code that will open the file for reading, read the data with each of the *readline*, *readlines*, and *read* methods, and print out the data obtained.\n",
      "\n",
      "> **Look** at the file before you start:"
     ]
    },
    {
     "cell_type": "code",
     "collapsed": false,
     "input": [
      "!cat E01/grades"
     ],
     "language": "python",
     "metadata": {},
     "outputs": [
      {
       "output_type": "stream",
       "stream": "stdout",
       "text": [
        "Robert,Johnson,6,10,0,3,8,8,6,10,6,10,66,69,91,75\r\n",
        "Bonnie,Raitt,10,4,5,9,6,10,2,7,6,10,87,85,74,82\r\n",
        "Albert,King,9,10,10,4,10,8,10,10,6.67,10,89,94,98,93\r\n",
        "\r\n"
       ]
      }
     ],
     "prompt_number": 38
    },
    {
     "cell_type": "markdown",
     "metadata": {},
     "source": [
      "> **readline:**  Remember to close the file after you are done reading from it and to open it before each use.  The first *open* and *close* are partially entered for you."
     ]
    },
    {
     "cell_type": "code",
     "collapsed": false,
     "input": [
      "# finish this 'open' line\n",
      "my_file = open('E01/grades', 'r')\n",
      "# supply the necessary code, here\n",
      "\n",
      "# this is how you close the file\n",
      "my_file.close()"
     ],
     "language": "python",
     "metadata": {},
     "outputs": [],
     "prompt_number": 39
    },
    {
     "cell_type": "markdown",
     "metadata": {},
     "source": [
      "> **readlines:**"
     ]
    },
    {
     "cell_type": "code",
     "collapsed": false,
     "input": [
      "my_file = open('E01/grades')\n",
      "lines = my_file.readlines()\n",
      "print(lines)"
     ],
     "language": "python",
     "metadata": {},
     "outputs": [
      {
       "output_type": "stream",
       "stream": "stdout",
       "text": [
        "['Robert,Johnson,6,10,0,3,8,8,6,10,6,10,66,69,91,75\\n', 'Bonnie,Raitt,10,4,5,9,6,10,2,7,6,10,87,85,74,82\\n', 'Albert,King,9,10,10,4,10,8,10,10,6.67,10,89,94,98,93\\n', '\\n']\n"
       ]
      }
     ],
     "prompt_number": 2
    },
    {
     "cell_type": "markdown",
     "metadata": {},
     "source": [
      "> **read:**"
     ]
    },
    {
     "cell_type": "code",
     "collapsed": false,
     "input": [
      "my_file = open('E01/grades')\n",
      "data = my_file.read()\n",
      "print(repr(data))"
     ],
     "language": "python",
     "metadata": {},
     "outputs": [
      {
       "output_type": "stream",
       "stream": "stdout",
       "text": [
        "'Robert,Johnson,6,10,0,3,8,8,6,10,6,10,66,69,91,75\\nBonnie,Raitt,10,4,5,9,6,10,2,7,6,10,87,85,74,82\\nAlbert,King,9,10,10,4,10,8,10,10,6.67,10,89,94,98,93\\n\\n'\n"
       ]
      }
     ],
     "prompt_number": 42
    },
    {
     "cell_type": "markdown",
     "metadata": {},
     "source": [
      "<a href=\"#top\">back to top</a>"
     ]
    },
    {
     "cell_type": "heading",
     "level": 3,
     "metadata": {},
     "source": [
      "<dt id=\"writefile\">\n",
      "Writing a disk file"
     ]
    },
    {
     "cell_type": "markdown",
     "metadata": {},
     "source": [
      "When a file is opened with mode being 'w', 'x', or 'a', the file  object's **write** method can be used to add data to the object.  \n",
      "The actions associated with each mode are:\n",
      "\n",
      "* **write** (mode='w') ... destructive write - an existing file's contents is deleted when opened, \n",
      "* **create** (mode='x') ... writing is implied - if the file already exists and error is raised and the file remains intact, or \n",
      "* **append** (mode='a') ... a file is created or the contents of an existing file is retained and data written to the file is added to the end' \n",
      "\n",
      "The syntax is\n",
      "\n",
      "    file_variable = open(filename, mode)\n",
      "    file_variable.write(s)\n",
      "\n",
      "where *s* is a **string**.\n",
      "\n",
      "**Note** that the **writelines** method can be used to output a list of strings to the output file.  The script, however, is responsible for insuring that line separators are placed in the strings to be output.  The method just dumps whatever is in the list of strings to the output as the concatenation of all the strings in the list.  \n",
      "That is, it is equivalent to **outfile.write(''.join(line_list))**."
     ]
    },
    {
     "cell_type": "code",
     "collapsed": false,
     "input": [
      "!rm -f E0/trial  # shell command to make sure the file doesn't exist (this line is NOT Python code)\n",
      "\n",
      "my_trial = open('E01/trial', 'w')\n",
      "lines = ['This is a line.\\n', 'This is another line.\\n']\n",
      "my_trial.writelines(lines)\n",
      "\n",
      "my_trial.write(\"\\nNow using 'join':\\n\")\n",
      "my_trial.write(''.join(lines))\n",
      "my_trial.close()"
     ],
     "language": "python",
     "metadata": {},
     "outputs": [],
     "prompt_number": 43
    },
    {
     "cell_type": "code",
     "collapsed": false,
     "input": [
      "!cat E01/trial"
     ],
     "language": "python",
     "metadata": {},
     "outputs": [
      {
       "output_type": "stream",
       "stream": "stdout",
       "text": [
        "This is a line.\r\n",
        "This is another line.\r\n",
        "\r\n",
        "Now using 'join':\r\n",
        "This is a line.\r\n",
        "This is another line.\r\n"
       ]
      }
     ],
     "prompt_number": 44
    },
    {
     "cell_type": "markdown",
     "metadata": {},
     "source": [
      "The file object's *write* method is not nearly as friendly as the *print* function.  For example, we can write multiple data items of different types to the standard output using:"
     ]
    },
    {
     "cell_type": "code",
     "collapsed": false,
     "input": [
      "int_val = 5\n",
      "float_val = 2.2\n",
      "print('The product of', int_val, 'and', float_val, 'is', int_val * float_val)"
     ],
     "language": "python",
     "metadata": {},
     "outputs": [
      {
       "output_type": "stream",
       "stream": "stdout",
       "text": [
        "('The product of', 5, 'and', 2.2, 'is', 11.0)"
       ]
      },
      {
       "output_type": "stream",
       "stream": "stdout",
       "text": [
        "\n"
       ]
      }
     ],
     "prompt_number": 45
    },
    {
     "cell_type": "markdown",
     "metadata": {},
     "source": [
      "When using the **write** method, our code is responsible to format the output into a **single string**, which can be passed to the method as its parameter.\n",
      "\n",
      "For this reason, you may find it much easier to use the **print** function with your opened file object to do much of your output.\n",
      "\n",
      "Place the cursor directly after the '(' of the *print* statement in the code above and press the tab character to get the intelli-sense description of the call and its parameter list options.  \n",
      "There, you see that *stdout* is the default file that will be written to.  You can change the target file by specifying it in *print*'s parameter list."
     ]
    },
    {
     "cell_type": "code",
     "collapsed": false,
     "input": [
      "my_outfile = open('E01/printed_file', 'w')\n",
      "int_val = 5\n",
      "float_val = 2.2\n",
      "print('The product of', int_val, 'and', float_val, 'is', \n",
      "      int_val * float_val, file=my_outfile)\n",
      "my_outfile.close()"
     ],
     "language": "python",
     "metadata": {},
     "outputs": [
      {
       "ename": "SyntaxError",
       "evalue": "invalid syntax (<ipython-input-46-f6ba4f24066c>, line 5)",
       "output_type": "pyerr",
       "traceback": [
        "\u001b[0;36m  File \u001b[0;32m\"<ipython-input-46-f6ba4f24066c>\"\u001b[0;36m, line \u001b[0;32m5\u001b[0m\n\u001b[0;31m    int_val * float_val, file=my_outfile)\u001b[0m\n\u001b[0m                             ^\u001b[0m\n\u001b[0;31mSyntaxError\u001b[0m\u001b[0;31m:\u001b[0m invalid syntax\n"
       ]
      }
     ],
     "prompt_number": 46
    },
    {
     "cell_type": "markdown",
     "metadata": {},
     "source": [
      "Now, look at the file:"
     ]
    },
    {
     "cell_type": "code",
     "collapsed": false,
     "input": [
      "!cat E01/printed_file"
     ],
     "language": "python",
     "metadata": {},
     "outputs": [
      {
       "output_type": "stream",
       "stream": "stdout",
       "text": [
        "cat: E01/printed_file: No such file or directory\r\n"
       ]
      }
     ],
     "prompt_number": 47
    },
    {
     "cell_type": "markdown",
     "metadata": {},
     "source": [
      "The **print** function is just a \"front end\" function that formats its data parameters, by calling each item's *str* or *repr* method, and then calls the file object's **write** method.\n",
      "\n",
      "Exercise 7\n",
      "> In the code cell below, create Python code that will open the file *E01/printed\\_file* and **append** to it a line that displays the **sum** of the two values, in the same format.  (Your notebook kernel remembers the values last assigned to the variables, so you need not retype those assignments.)  Remember to close the file."
     ]
    },
    {
     "cell_type": "code",
     "collapsed": false,
     "input": [
      "my_outfile = open('E01/printed_file', 'a')\n",
      "int_val = 5\n",
      "float_val = 2.2\n",
      "print('The product of', int_val, 'and', float_val, 'is', \n",
      "      int_val * float_val, file==my_outfile)\n",
      "print('The sum of', int_val, 'and', float_val, 'is', \n",
      "      int_val + float_val, file==my_outfile)\n",
      "my_outfile.close()"
     ],
     "language": "python",
     "metadata": {},
     "outputs": [
      {
       "output_type": "stream",
       "stream": "stdout",
       "text": [
        "('The product of', 5, 'and', 2.2, 'is', 11.0, False)\n",
        "('The sum of', 5, 'and', 2.2, 'is', 7.2, False)\n"
       ]
      }
     ],
     "prompt_number": 50
    },
    {
     "cell_type": "markdown",
     "metadata": {},
     "source": [
      "Execute the code cell below to verify your code has functioned correctly.  (Remember that you can always return to the above cell, edit it, and rerun it if you determine it is in error)"
     ]
    },
    {
     "cell_type": "code",
     "collapsed": false,
     "input": [
      "!cat E01/printed_file"
     ],
     "language": "python",
     "metadata": {},
     "outputs": [],
     "prompt_number": 52
    },
    {
     "cell_type": "markdown",
     "metadata": {},
     "source": [
      "Exercise 8\n",
      "> The file *E01/grades.csv* contains lines of data in the form:  \n",
      "**student_first_name, student_last_name, 10 quiz scores, 4 exam scores**"
     ]
    },
    {
     "cell_type": "code",
     "collapsed": true,
     "input": [
      "!cat E01/grades.csv"
     ],
     "language": "python",
     "metadata": {},
     "outputs": [
      {
       "output_type": "stream",
       "stream": "stdout",
       "text": [
        "Robert,Johnson,6,10,0,3,8,8,6,10,6,10,66,69,91,75\r\n",
        "Bonnie,Raitt,10,4,5,9,6,10,2,7,6,10,87,85,74,82\r\n",
        "Albert,King,9,10,10,4,10,8,10,10,6.67,10,89,94,98,93\r\n",
        "\r\n"
       ]
      }
     ],
     "prompt_number": 53
    },
    {
     "cell_type": "markdown",
     "metadata": {},
     "source": [
      "> In the code cell below, create Python code that will open the file *E01/grades.csv*, read and process the data, and print the output to the file *E01/exer8.out* in the format  \n",
      "**student_last_name, student_first_name &nbsp;&nbsp;&nbsp;&nbsp;&nbsp; sum_of_quizzes &nbsp;&nbsp;&nbsp;&nbsp;&nbsp; avg_of_exams**\n",
      "\n",
      "> Use your knowledge of strings and lists to read and split the string to form a list and then access the data in the list."
     ]
    },
    {
     "cell_type": "code",
     "collapsed": false,
     "input": [
      "! rm -f E01/exer8.out  # shell command to make sure the file doesn't exist (this line is NOT Python code)\n",
      "\n",
      "# open the input and output files first\n",
      "my_file = open('E01/grades.csv', 'r')\n",
      "\n",
      "# so that if something is wrong, we don't spend time processing for nothing\n",
      "\n",
      "# loop to read, process and write the lines in the file ... one line at a time.\n",
      "print(\"student_last_name\",\"student_first_name\",\"sum_of_quizes\",\"avg_of_exams\")\n",
      "for line in my_file:\n",
      "    print(str.strip(line))\n",
      "    \n",
      "# remember to close the files\n",
      "my_file.close()"
     ],
     "language": "python",
     "metadata": {},
     "outputs": [
      {
       "output_type": "stream",
       "stream": "stdout",
       "text": [
        "('student_last_name', 'student_first_name', 'sum_of_quizes', 'avg_of_exams')"
       ]
      },
      {
       "output_type": "stream",
       "stream": "stdout",
       "text": [
        "\n",
        "Robert,Johnson,6,10,0,3,8,8,6,10,6,10,66,69,91,75\n",
        "Bonnie,Raitt,10,4,5,9,6,10,2,7,6,10,87,85,74,82\n",
        "Albert,King,9,10,10,4,10,8,10,10,6.67,10,89,94,98,93\n",
        "\n"
       ]
      }
     ],
     "prompt_number": 70
    },
    {
     "cell_type": "code",
     "collapsed": false,
     "input": [
      "!cat E01/exer8.out"
     ],
     "language": "python",
     "metadata": {},
     "outputs": []
    },
    {
     "cell_type": "markdown",
     "metadata": {},
     "source": [
      "Exercise 9\n",
      "> Using the same input file and the same grade calculation process as above, create the output file *E01/exer9.out* with the following features:\n",
      "\n",
      "> * the columns in the file have labels (centered in their columns) **Name**, **Quiz**, and **Exam**,  \n",
      "* the output numerical values are floating point with two decimal places (and the decimal points for each column align)  \n",
      "* the lines of output are listed in order (alphabetically by last_name, first_name)\n",
      "\n",
      "> Two things to note are:\n",
      "\n",
      "> * instead of read, process, write, as was done in the last exercise, you now need to do read, process, store in list ... then process and print list and\n",
      "* aside from a little file handling \"bookwork\", there is nothing new to either Exercise 8 or 9 ... it is all review.\n"
     ]
    },
    {
     "cell_type": "code",
     "collapsed": false,
     "input": [],
     "language": "python",
     "metadata": {},
     "outputs": []
    },
    {
     "cell_type": "markdown",
     "metadata": {},
     "source": [
      "<a href=\"#top\">back to top</a>"
     ]
    },
    {
     "cell_type": "heading",
     "level": 3,
     "metadata": {},
     "source": [
      "<dt id=\"wstderrfile\">\n",
      "Writing to the stderr File"
     ]
    },
    {
     "cell_type": "markdown",
     "metadata": {},
     "source": [
      "When errors are encountered within a script, messages generally should be presented to the user.  The messages should be appropraite for the level of sophistication of the user and should NOT be written to the file to which data is being written.  This means that *stdout* is also not the appropriate file for error messages.  \n",
      "This is precisely why the *stderr* file exists.  Though, by default, error messages written to the standard error file appear on the terminal screen, possibly mingled with output written to the standard output, either one or both of the files can be redirected to disk files.\n",
      "Often *stderr* is redirected to a file where the error messages can be accumulated and disected in a postmortem.\n",
      "\n",
      "Note that the *print* function may be used to write to the stderr by importing the *sys* module and then including the **file=sys.stderr** keyword parameter in *print*'s parameter list.\n",
      "\n",
      "<a href=\"#top\">back to top</a>"
     ]
    },
    {
     "cell_type": "heading",
     "level": 2,
     "metadata": {},
     "source": [
      "What's next?"
     ]
    },
    {
     "cell_type": "markdown",
     "metadata": {},
     "source": [
      "**Communicating file names to your script**  \n",
      "Now that you know how to open/create text files, you need to be able to write code that is general enough to access the appropriate files whose names may change from one use of the script to another.  \n",
      "The notebook entitled **Communicating Filenames** addresses options for writing generic code that can handle file system files with arbitrary names.\n",
      "\n",
      "**Exceptions**  \n",
      "In the process of describing the behavior of the **open** function it was suggested that if an exceptional condition arose, the system would \"raise an error\" and terminate your script.  You also saw the ugly consequences of the termination.  That is something that is interesting to us as programmers, but something that innocent users should not subjected to.  \n",
      "The notebook entitled **Exceptions** discusses the interpreter's reaction to various conditions and how you can write code to respond to the interpreter's behavior."
     ]
    }
   ],
   "metadata": {}
  }
 ]
}