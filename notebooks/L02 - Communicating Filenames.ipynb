{
 "metadata": {
  "name": "L02 - Communicating Filenames"
 },
 "nbformat": 3,
 "nbformat_minor": 0,
 "worksheets": [
  {
   "cells": [
    {
     "cell_type": "markdown",
     "metadata": {},
     "source": [
      "<dt id=\"top\">\n",
      "# Lesson 2:  Communicating Filenames to Your Python Script  \n",
      "## Contents:  \n",
      "\n",
      "<ul>\n",
      "    <li><a href=\"#motive\">Motivation</a>\n",
      "    <li><a href=\"#static\">Static Filenames</a>\n",
      "    <li><a href=\"#interact\">Interactive File Specification</a>\n",
      "    <li><a href=\"#comdline\">Command Line Arguments</a>\n",
      "</ul>"
     ]
    },
    {
     "cell_type": "heading",
     "level": 2,
     "metadata": {},
     "source": [
      "<dt id=\"motive\">\n",
      "Motivation"
     ]
    },
    {
     "cell_type": "markdown",
     "metadata": {},
     "source": [
      "It is common for Python scripts to access system files for obtaining input and for doing output. When opening the system files, it is necessary to specify the file system pathnames.  Depending on how the script is used, the approach to supplying those file pathnames may vary.  This notebook describes approaches appropriate for different levels of user interaction.\n",
      "\n",
      "In all cases, if a pathname is provided for a file whose permissions do not allow the operation, the *open* function will raise an error exception and, unless the exception is handled by the script, execution will terminate.  Below, we concern ourselves with the mechanics of providing filenames. The \"Exceptions\" notebook discusses error handling techniques.\n",
      "\n",
      "This lesson assumes that you already know how to use the python *open* function and how to use python text file objects and their methods.  If you do not, you should review Lesson 1 to get the maximum benefit of the following material.\n",
      "\n",
      "<a href=\"#top\">back to top</a>"
     ]
    },
    {
     "cell_type": "heading",
     "level": 2,
     "metadata": {},
     "source": [
      "<dt id=\"static\">\n",
      "Static Filenames"
     ]
    },
    {
     "cell_type": "markdown",
     "metadata": {},
     "source": [
      "If the pathname of the file(s) is fixed or is determined by the executing script itself, as may be the case for some log files, no user input is required and the pathname may be supplied as a string directly in the script.\n",
      "\n",
      "Even when the pathname of the file is specified as a string (hardcoded) in the script, code like the following is generally not desirable:\n",
      "\n",
      "    myfile = open(\"error_log\", 'a')\n",
      "\n",
      "Constants of this form are difficult to find in the script when editing is required.  A better approach is to create a symbolic constant which will appear at the top of your script or module with other symbolic constants.  That way, it is easy to locate when editing and only one edit change is required, regardless of how often the string is used in the script.  The form\n",
      "\n",
      "    ERROR_LOG = \"error_log\"        # Description\n",
      "    ...\n",
      "    # later in code\n",
      "    myfile = open(ERROR_LOG, 'a')\n",
      "\n",
      "Exercise 1\n",
      "> The *E02* subdirectory of the current notebook directory contains a text file named *demo_file* with three lines of text.  (I.e. the relative pathname for the file is *E02/demo\\_file*)  \n",
      "In the following code cell, use the above approach to open the file *E02/demo\\_file* for reading, read the file contents, and print it to the standard output (and close the input file, of course).  \n",
      "Remember that the 'r' mode is used for reading.  It is the default file mode, so may be omitted in the *open* function's parameter list.\n",
      "\n"
     ]
    },
    {
     "cell_type": "code",
     "collapsed": false,
     "input": [],
     "language": "python",
     "metadata": {},
     "outputs": []
    },
    {
     "cell_type": "markdown",
     "metadata": {},
     "source": [
      "Often, the pathnames of the desired input or output files vary from one invocation of the script to another.  In that case, the user must supply the required pathname to the script.  When and how that communication occurs is the subject of next two sections.\n",
      "\n",
      "<a href=\"#top\">back to top</a>"
     ]
    },
    {
     "cell_type": "heading",
     "level": 2,
     "metadata": {},
     "source": [
      "<dt id=\"interact\">\n",
      "Interactive Specification"
     ]
    },
    {
     "cell_type": "markdown",
     "metadata": {},
     "source": [
      "If the execution time of the script is short and the user is expected to interact with it, the script can prompt the user for the pathname, as it would for any other user text input, using the Python builtin *input* function.  The acquired string can then be used in the *open* function call.\n",
      "\n",
      "    >>> infile = input(\"Enter the name of the input file to be read :\")\n",
      "    Enter the name of the input file to be read: E02/demo_file\n",
      "    >>> myfile = open(infile, 'r')\n",
      "\n",
      "Note that the identifier used for the script's file data structure and the identifier used for the string that contains the file system pathname are distinct.\n",
      "\n",
      "Exercise 2\n",
      "> (Note:  because IPython3 Notebook does not communicate keyboard input to an executing script, you will need to experiment from a terminal window.)  \n",
      "Execute the code cell below to open a terminal window and start the Python interpreter.  \n",
      "Use the above approach to open the file *E02/demo\\_file* for reading.  \n",
      "Read the files contents and print it to the standard output using the print statement."
     ]
    },
    {
     "cell_type": "code",
     "collapsed": false,
     "input": [
      "!xterm -e python33"
     ],
     "language": "python",
     "metadata": {},
     "outputs": []
    },
    {
     "cell_type": "markdown",
     "metadata": {},
     "source": [
      "You can dismiss the xterm window by terminating the python shell with ctrl-d, as usual."
     ]
    },
    {
     "cell_type": "markdown",
     "metadata": {},
     "source": [
      "Exercise3\n",
      "> Use *kate*, or a text editor with the same capabilities, to create a script containing the Python statements in Exercise 2.  \n",
      "Save it and execute it from the command line of the editor's built in terminal.  \n",
      "(Remember to save it in the E02 subfolder of your current notebook's folder and to *cd* to that folder in your terminal before executing the command ... or supply the appropriate pathname to your saved script)\n",
      "\n",
      "<a href=\"#top\">back to top</a>"
     ]
    },
    {
     "cell_type": "heading",
     "level": 2,
     "metadata": {},
     "source": [
      "<dt id=\"comdline\">\n",
      "Command Line Arguments"
     ]
    },
    {
     "cell_type": "markdown",
     "metadata": {},
     "source": [
      "Pathnames for files often vary among invocations of a script.  In addition, it may be most convenient to specify the names of the files or execution flags on the command line during the script's invocation rather than during execution.  For example:\n",
      "\n",
      "> **my_script &nbsp;input_file_name &nbsp;output_file_name**\n",
      "\n",
      "The bash shell forms a list of white space separated \"words\" from the command line and communicates it to programs it starts.  The list of command line words is available to a Python script via the identifier **argv** in the **sys** standard library module.\n",
      "\n",
      "**Example 1:**  \n",
      "The code below is saved in the file *E02/comline.py*\n",
      "\n",
      "    from sys import argv\n",
      "    print(len(argv), \"words appear on the command line\")\n",
      "    for i, word in enumerate(argv):\n",
      "        print(\"argv[{:d}] = {:s}\".format(word))"
     ]
    },
    {
     "cell_type": "markdown",
     "metadata": {},
     "source": [
      "**Aside:**  Are you familiar with using **enumerate**?  If not, use the notebooks quick help feature to get a little info on it, using the cell below."
     ]
    },
    {
     "cell_type": "code",
     "collapsed": false,
     "input": [
      "enumerate?"
     ],
     "language": "python",
     "metadata": {},
     "outputs": []
    },
    {
     "cell_type": "markdown",
     "metadata": {},
     "source": [
      "Execute the code cell below to run the script:"
     ]
    },
    {
     "cell_type": "code",
     "collapsed": false,
     "input": [
      "!python33 E02/comline.py one two three"
     ],
     "language": "python",
     "metadata": {},
     "outputs": []
    },
    {
     "cell_type": "markdown",
     "metadata": {},
     "source": [
      "This may not be quite what you would expect.  The word \"python3\" doesn't get included.  This is because bash consumes (uses) the word *python3* to start a python shell and then hands off the rest of the line\n",
      "> **comline.py one two three**  \n",
      "\n",
      "to it.\n",
      "\n",
      "Try it:\n",
      "> The above code is in the file *E02/comline.py* in your notebooks directory.  Execute the command with varying numbers of command line arguments."
     ]
    },
    {
     "cell_type": "code",
     "collapsed": false,
     "input": [
      "!python33 E02/comline.py "
     ],
     "language": "python",
     "metadata": {},
     "outputs": []
    },
    {
     "cell_type": "code",
     "collapsed": false,
     "input": [
      "!python33 E02/comline.py one"
     ],
     "language": "python",
     "metadata": {},
     "outputs": []
    },
    {
     "cell_type": "code",
     "collapsed": false,
     "input": [
      "!python33 E02/comline.py one two three four"
     ],
     "language": "python",
     "metadata": {},
     "outputs": []
    },
    {
     "cell_type": "markdown",
     "metadata": {},
     "source": [
      "Exercise 4\n",
      "> Execute the following code cell to create a copy of the above script in *E02/exer4.py*."
     ]
    },
    {
     "cell_type": "code",
     "collapsed": false,
     "input": [
      "!cp E02/comline.py E02/exer4.py"
     ],
     "language": "python",
     "metadata": {},
     "outputs": []
    },
    {
     "cell_type": "markdown",
     "metadata": {},
     "source": [
      "> Start the kate editor and open the file *E02/exer4.py*.  \n",
      "Edit the code to print ONLY the script's name.  Use kate's terminal to run the program with varying numbers of command line arguments.\n",
      "\n",
      "It often occurs that the user enters an incorrect number of arguments (or simply inappropriate arguments) on the command line.  The script should report this and, when it does, it should also report its name and possibly the correct form of the command line.  It is wise to NOT \"hardwire\" the script name into any output statements.  If a script is executing, the user minimally got the name of the script right ... so use **argv** to retrieve it.  That way, if the script is renamed, the error messages will still contain the correct information.\n",
      "\n",
      "**Example 2:**  \n",
      "The code segment\n",
      "\n",
      "    from sys import argv, exit\n",
      "    argc = len(argv)\n",
      "    prog = argv[0]\n",
      "    if argc != 3:\n",
      "        exit(\"{0:s}: incorrect number of arguments, use '{0:s} <word_1> <word_2>'\".format(prog))\n",
      "    ...\n",
      "    # Continue on with your algorithm\n",
      "\n",
      "will report the error message on stderr, terminate the script, and report failure to the bash shell supporting the script if there are not two arguments following the script name when it is invoked."
     ]
    },
    {
     "cell_type": "markdown",
     "metadata": {},
     "source": [
      "Exercise 5\n",
      "> Use the cell below to create a script *exer5.py* in the *E02* subfolder of the current notebook folder.  (You must execute the cell to save the file.  If you edit, re-execute to save your changes)\n",
      "\n",
      ">Using the example above, modify the script so that the error message will read  \n",
      "&nbsp;&nbsp;&nbsp;&nbsp;**exer4.py: incorrect number of arguments, use 'exer4.py&nbsp;&nbsp;&lt;input_file&gt;&nbsp;&nbsp;&lt;output_file&gt;'**  \n",
      "when the number of command line words is not correct (i.e. *len(argv)* is not 3).\n",
      ">(Note:  In this case, the angle brackets are there to suggest the user should substitute the appropriate name in that position ... NOT to suggest file redirection.)\n",
      "\n",
      "> In the event the number of words IS correct, print them out, one per line."
     ]
    },
    {
     "cell_type": "code",
     "collapsed": false,
     "input": [
      "%%file E02/exer5.py\n",
      "# Your code below\n"
     ],
     "language": "python",
     "metadata": {},
     "outputs": []
    },
    {
     "cell_type": "markdown",
     "metadata": {},
     "source": [
      "> Run your script in kate's terminal with varying numbers of command line arguments by editing and executing the code cell below."
     ]
    },
    {
     "cell_type": "code",
     "collapsed": false,
     "input": [
      "!python33 E02/exer5.py"
     ],
     "language": "python",
     "metadata": {},
     "outputs": []
    },
    {
     "cell_type": "markdown",
     "metadata": {},
     "source": [
      "**Example 3:**  \n",
      "> We want a script to rewrite a file with its contents in all upper case and want to specify the pathnames of the input and output files on the command line.  \n",
      "\n",
      "> Solution:  \n",
      "Extending the code from Example 2 and Exercise 5 with the code\n",
      "\n",
      "    # Previous code here\n",
      "    with open(argv[1], 'r') as infile:\n",
      "        contents = infile.read()\n",
      "    with open(argv[2], 'w') as outfile:\n",
      "        outfile.write(contents.upper())\n",
      "\n",
      "> will allow the user to specify a file to copy text from and a destination file to which to write the processed data.  \n",
      "The code does not account for errors in specifying the input file or output file.  If a file system error is encountered (eg the files can not be opened or created), the script will die an ugly death. Dealing with these errors is left to the section on Exceptions.  Here, our concern is communicating the pathnames of the files to the script.\n",
      "\n",
      "> This code introduces a new concept ... the Python **context manager**.  \n",
      "The effect of the first two lines is the same as\n",
      "\n",
      "        infile = open(argv[1], 'r')  \n",
      "        contents = infile.read()  \n",
      "        infile.close()\n",
      "\n",
      "The file *infile* will remain open as long as code within the **with** block is executing.  When the block is exited, the file is closed.\n",
      "\n",
      "\n",
      "Exercise 6\n",
      "> Combine the code from Examples 2 and 3 to create a script that can be invoked as  \n",
      "        &nbsp;&nbsp;&nbsp;&nbsp;**python3 exer6.py input_file output_file**\n",
      "\n",
      "> and will capitalize the contents of the input file and write the modified contents to the output file.  As indicated in the note in Example 3, expect the user to \"play nice\" with the script and not provide file names that will create problems.  "
     ]
    },
    {
     "cell_type": "code",
     "collapsed": false,
     "input": [
      "%%file E02/exer6.py\n",
      "# Create script here"
     ],
     "language": "python",
     "metadata": {},
     "outputs": []
    },
    {
     "cell_type": "markdown",
     "metadata": {},
     "source": [
      "> Remember to execute the cell above, to save your code, before proceeding.\n",
      "\n",
      "> Execute the code cell below to test the code you created above.  \n",
      "Test your code by providing the file *E02/demo\\_file* as the input file name and *E02/exer6.out* as the output file name.\n",
      "\n",
      ">Executing the code cell below will remove any old *E02/exer6.out* file, run your script, and then display the contents of the newly created output file."
     ]
    },
    {
     "cell_type": "code",
     "collapsed": false,
     "input": [
      "# Test script here by executing this cell\n",
      "!rm -f E02/exer6.out\n",
      "!python33 E02/exer6.py E02/demo_file E02/exer6.out\n",
      "!cat E02/exer6.out"
     ],
     "language": "python",
     "metadata": {},
     "outputs": []
    },
    {
     "cell_type": "markdown",
     "metadata": {},
     "source": [
      "**Example 4:**  \n",
      "The code in *E02/ex\\_4.py* demonstrates the solution to Exercise 6.  You can view it and observe its execution by executing the code cells below."
     ]
    },
    {
     "cell_type": "code",
     "collapsed": false,
     "input": [
      "!cat E02/ex_4.py"
     ],
     "language": "python",
     "metadata": {},
     "outputs": []
    },
    {
     "cell_type": "code",
     "collapsed": false,
     "input": [
      "!rm -f E02/ex_4.out\n",
      "!python3 E02/ex_4.py E02/demo_file E02/ex_4.out\n",
      "!cat E02/ex_4.out"
     ],
     "language": "python",
     "metadata": {},
     "outputs": []
    },
    {
     "cell_type": "markdown",
     "metadata": {},
     "source": [
      "<a href=\"#top\">back to top</a>"
     ]
    }
   ],
   "metadata": {}
  }
 ]
}