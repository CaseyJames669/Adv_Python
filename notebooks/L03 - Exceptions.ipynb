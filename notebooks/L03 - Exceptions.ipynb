{
 "metadata": {
  "name": "L03 - Exceptions"
 },
 "nbformat": 3,
 "nbformat_minor": 0,
 "worksheets": [
  {
   "cells": [
    {
     "cell_type": "markdown",
     "metadata": {},
     "source": [
      "<dt id=\"top\">\n",
      "# Lesson 3: Exceptions\n",
      "## Contents:  \n",
      "\n",
      "<ul>\n",
      "    <li><a href=\"#motive\">Motivation</a>\n",
      "    <li><a href=\"#examples\">Examples of Exceptions</a>\n",
      "    <li><a href=\"#effects\">Effects of Exceptions</a>\n",
      "    <li><a href=\"#intercept\">Intercepting Exceptions</a>\n",
      "    <li><a href=\"#files\">Exceptions and File Handling</a>\n",
      "</ul>"
     ]
    },
    {
     "cell_type": "markdown",
     "metadata": {},
     "source": [
      "<dt id=\"motive\">\n",
      "## Motivation\n",
      "In your experience with Python, thus far, you have undoubtedly run across situations in which the Python interpreter has informed you of an error.  \n",
      "You may have run across *IndexError* when you indexed a non-existent list element, a *ValueError* if you tried to convert a non-numeric string to a float, or a *NameError* when you tried to reference a variable name that wasn't defined.  \n",
      "Certainly, you have encountered a *SyntaxError* when your instructions weren't valid Python code.\n",
      "Each of these types of standard errors is a subclass of a general Exception class.\n",
      "    \n",
      "Exceptions are used to report situations that are out of the ordinary (exceptional), such as those suggested above.  Typically, the result of such an exception is to immediately terminate the currently executing code withh an \"informative\" message.  \n",
      "For the programmer, the exception describes the immediate cause of a significant problem.  \n",
      "For the nonprogrammer who is the end user of software, however, seeing the ugly death of a program is not helpful and reflects poorly on the quality of the software.\n",
      "    \n",
      "Some exceptional conditions require immediate termination of the script.  Others may only require the software to respond to the condition and continue.  Python provides a mechanism for the executing software to intercept and respond to exceptions when they are raised by the interpreter.  This allows the software to correct some conditions and continue processing or to terminate with an error message that is informative for the end user.\n",
      "    \n",
      "This lesson explores the role of exceptions in the language."
     ]
    },
    {
     "cell_type": "markdown",
     "metadata": {},
     "source": [
      "<a href=\"#top\">back to top</a>"
     ]
    },
    {
     "cell_type": "markdown",
     "metadata": {},
     "source": [
      "<dt id=\"examples\">\n",
      "## Examples of Exceptions\n",
      "Let's take a look at some common situations that cause the Python interpreter to generate exceptions and the types of exceptions they produce."
     ]
    },
    {
     "cell_type": "markdown",
     "metadata": {},
     "source": [
      "> ### SyntaxError  \n",
      "This exception occurs when the Python interpreter encounters text that it cannot recognize as proper Python code.\n",
      "For example, forgetting a '(' in the *print* function call produces a *SyntaxError* exception.  The effect of this is that the interpreter doesn't recognize your script as valid Python."
     ]
    },
    {
     "cell_type": "code",
     "collapsed": false,
     "input": [
      "print \"Hello, World\")"
     ],
     "language": "python",
     "metadata": {},
     "outputs": []
    },
    {
     "cell_type": "markdown",
     "metadata": {},
     "source": [
      "> ### NameError\n",
      "If an identifier that has not been initialized or is not in the current scope of execution is used where an evaluation or use is required, Python will not recognize the identifier and will generate a *NameError*."
     ]
    },
    {
     "cell_type": "code",
     "collapsed": false,
     "input": [
      "print(Hello, World)"
     ],
     "language": "python",
     "metadata": {},
     "outputs": []
    },
    {
     "cell_type": "code",
     "collapsed": false,
     "input": [
      "print(\"Hello, World\", file=sys.stderr)"
     ],
     "language": "python",
     "metadata": {},
     "outputs": []
    },
    {
     "cell_type": "markdown",
     "metadata": {},
     "source": [
      "> The *print* function call above is a valid Python statement.  \n",
      "Since there are no quotes around 'Hello' in the first example, the interpreter assumes that it must be an identifier.  It cannot find 'Hello' in its identifier table and generates the *NameError* exception.  \n",
      "\n",
      ">In the second example, the identifier **stderr** does exist in the **sys** module, but since neither has been imported, they are not in the current code's scope."
     ]
    },
    {
     "cell_type": "markdown",
     "metadata": {},
     "source": [
      "> ### ValueError\n",
      "If a value for an operation is not within an acceptable range, a *ValueError* is raised.\n"
     ]
    },
    {
     "cell_type": "code",
     "collapsed": false,
     "input": [
      "int('fred')"
     ],
     "language": "python",
     "metadata": {},
     "outputs": []
    },
    {
     "cell_type": "markdown",
     "metadata": {},
     "source": [
      "> In the example above, the first parameter for *int* must be a string or a number and, indeed, it is.  However, the *value* of the string is not acceptable.  This particular error is common when a script uses the *input* function for user input of numeric values.  The return value is ALWAYS a string, but it may not be one containing a valid number.  \n",
      "While we, as programmers, are able to make sense of the error and, indeed, appreciate having a problem pointed out to us, it is unacceptable outward behavior for consumer-quality software.  It is the script's responsibility to anticipate an input error and protect the end user from an ugly script termination.\n",
      "\n",
      "> While we're on the subject of keyboard input errors, two other exceptions that can be generated by unexpected user input are:\n",
      "\n",
      "> * **EOFError** - *End of File* is reached when input is expected.  This can occur when the user types *ctrl-d* in response to an *input* function prompt.\n",
      "> * **KeyboardInterrupt** - The user types *ctrl-c* when the script is executing.  Of particular interest is when this occurs in response to an *input* function prompt for user input.\n",
      "\n",
      "> These two situations cannot be demonstrated from within IPython because it does not allow for keyboard input to a running script.  \n",
      "However, use the code cell below, which starts a python shell in an xterm to generate the above errors in response to the input function.  Execute the following cell and enter the python statement:\n",
      "\n",
      "        input(\"Enter your name: \")\n",
      "\n",
      "> and then respond to it with *ctrl-d* and (use the up arrow to repeat the statement) *ctrl-c* to see the exceptions being reported."
     ]
    },
    {
     "cell_type": "code",
     "collapsed": false,
     "input": [
      "!xterm -e python33"
     ],
     "language": "python",
     "metadata": {},
     "outputs": []
    },
    {
     "cell_type": "markdown",
     "metadata": {},
     "source": [
      "> ###TypeError\n",
      "In the *ValueError* example above, the data item supplied was of an appropriate *type* but its *value* was not within an acceptable range.  \n",
      "If data of a particular type is used where it's use is not accepted, a *TypeError* exception is raised."
     ]
    },
    {
     "cell_type": "code",
     "collapsed": false,
     "input": [
      "greeting = 'Hello'\n",
      "greeting[0] = 'J'"
     ],
     "language": "python",
     "metadata": {},
     "outputs": []
    },
    {
     "cell_type": "markdown",
     "metadata": {},
     "source": [
      "> Because strings are immutable, using the indexing syntax on the left-hand side of an assignment statement is illegal.  \n",
      "Note that using *greeting[0]* to reference the value of the first letter in the string certainly IS legal."
     ]
    },
    {
     "cell_type": "code",
     "collapsed": false,
     "input": [
      "print(greeting[0])"
     ],
     "language": "python",
     "metadata": {},
     "outputs": []
    },
    {
     "cell_type": "markdown",
     "metadata": {},
     "source": [
      ">### AttributeError\n",
      "> If you try to use a method that is not defined for a class, the interpreter will inform you that the object does not have the attribute by raising an *AttributeError* exception:"
     ]
    },
    {
     "cell_type": "code",
     "collapsed": false,
     "input": [
      "greeting = 'Hello,'\n",
      "greeting.append(' World')"
     ],
     "language": "python",
     "metadata": {},
     "outputs": []
    },
    {
     "cell_type": "markdown",
     "metadata": {},
     "source": [
      "<a href=\"#top\">back to top</a>"
     ]
    },
    {
     "cell_type": "markdown",
     "metadata": {},
     "source": [
      "<dt id=\"effects\">\n",
      "## Effects of Exceptions\n",
      "We could go on and on, generating exceptions ... there are literally hundreds of them.  However, the point is: exceptions happen.  Unexpected situations are to be expected.  \n",
      "Some exceptional situations can be handled by the software and execution can continue.  \n",
      "In other situations, the software will be unable to reliably continue execution.  When this occurs, robust software will provide a \"graceful landing\" for the end user.\n",
      "\n",
      "So, how is your script able to react to the interpreter's \"immediate termination of currently executing code\"?  \n",
      "Well, \"currently executing code\" doesn't necessarily imply \"the entire script\".  Rather is means \"the innermost statement\".  It begins by terminating the errant statement ... then the program structure that contains that statement (eg. a method or function) ... and it continues terminating the script by following the execution stack and terminating it one frame at a time (\"from the inside - out\").  \n",
      "\n",
      "Along the way, the script may intercept the exception, deal with the error condition, and continue execution at the point of interception."
     ]
    },
    {
     "cell_type": "markdown",
     "metadata": {},
     "source": [
      "**Using University of Waterloo's Python 3 Visualizer**\n",
      "\n",
      "If you are connected to the Internet, use the link below to open a new browser tab (or window) that will let you use the CSCircles Code Visualizer from University of Waterloo.  With it, you can see how an exception affects the code you are executing.\n",
      "\n",
      "In the examples that follow, \n",
      "* execute the code in the code cell to see its ultimate effect,\n",
      "* copy and paste the code into the Visualizer code box, and \n",
      "* click **Visualize** to step through the code and see how the terminates the code, one execution stack frame at a time."
     ]
    },
    {
     "cell_type": "markdown",
     "metadata": {},
     "source": [
      "<h3><a href=\"http://cscircles.cemc.uwaterloo.ca/visualize/#mode=edit\" target=\"_blank\"> CSCircles Code Visualizer </a></h3>"
     ]
    },
    {
     "cell_type": "code",
     "collapsed": false,
     "input": [
      "x, y = 3, 0\n",
      "ratio = x / y"
     ],
     "language": "python",
     "metadata": {},
     "outputs": []
    },
    {
     "cell_type": "markdown",
     "metadata": {},
     "source": [
      "Above, you see that the code execution terminates when a division by zero occurs, on line 2.  \n",
      "\n",
      "When the code is run in the Visualizer, you see the code terminates when illegal division is encountered. This is basically the same behavior, because the error occurs in the \"main\" code. \n",
      "What you are seeing is that the *current code* (that code identified by the current execution stack frame) is terminated.\n",
      "\n",
      "Below, we use our \"main\" code to call a function ... momentarily producing two frames on the execution stack.  \n",
      "When you execute the code cell below, you will see the ultimate effect of the exception and the error message produced.  This includes a stack traceback. "
     ]
    },
    {
     "cell_type": "code",
     "collapsed": false,
     "input": [
      "def f1():\n",
      "    y = 3 / 0\n",
      "    return y\n",
      "\n",
      "x = 3 * f1()\n",
      "print(\"x =\", x)"
     ],
     "language": "python",
     "metadata": {},
     "outputs": []
    },
    {
     "cell_type": "markdown",
     "metadata": {},
     "source": [
      "In the error message, above, you see:  \n",
      "\n",
      "* function *f1* was invoked in line 5 of the first invocation stack frame and\n",
      "* the ZeroDivisionError occurred in the function *f1* at line 2 of the second invocation stack frame.  \n",
      "\n",
      "What isn't obvious is the flow of control immediately AFTER the exception occurs.  \n",
      "For that, you should copy the code into the Visualizer code box and **Visualize** the execution of the code.\n",
      "\n",
      "\n",
      "When you \"Visualize\" the above code, you see the following (NOTE: you can step forward and backward in the code to review the behavior):\n",
      "\n",
      "* line 1 is \"executed\", causing the identifier \"f1\" to be created in the \"current scope\", identifying the function object, which the *f1* definition\n",
      "* the evaluation of the right hand side of line 5 invokes *f1* and a new frame is added to the invocation stack\n",
      "* execution of *f1* begins on line 1\n",
      "* when the right hand side of line 2 is evaluated, an exception occurs (don't stop now, step again)\n",
      "* execution of the code associated with the current invocation stack frame is terminated and the interpreter prepares to return control to the controller (returning a value of *None*) ... AND with the exception still in force.\n",
      "* when contol is returned to the calling code in statement 5, the exception terminates the \"current code\" - which is now the code associated with the original stack frame\n",
      "* at this point, the entire script has terminated.\n",
      "\n",
      "The important message in this demonstration is that execution of the entire script does not immediately cease when an exception occurs.   \n",
      "Rather, \n",
      "\n",
      "* the code statement is terminated, \n",
      "* then the code associated with the \"currently executing code\" is terminated and control is passed back to the code that invoked it\n",
      "* this continues, invocation frame by invocation frame, until the program terminates.\n",
      "\n",
      "Just to make sure that you understand the process, the next example has main code call function *f2* which, in turn, invokes function *f1*.  \n",
      "This will create an invocation stack with three frames when the exception is raised.\n",
      "\n",
      "Go through the same process of executing the code cell below and then \"Visualizing\" the code and observe the step by step \"dismantling\" of the invocation stack.\n"
     ]
    },
    {
     "cell_type": "code",
     "collapsed": false,
     "input": [
      "def f1():\n",
      "    x = 3 / 0\n",
      "    return x\n",
      "\n",
      "def f2():\n",
      "    y = 2 * f1()\n",
      "    return y\n",
      "\n",
      "x = 3 * f2()\n",
      "print(\"x =\", x)"
     ],
     "language": "python",
     "metadata": {},
     "outputs": []
    },
    {
     "cell_type": "markdown",
     "metadata": {},
     "source": [
      "<a href=\"#top\">back to top</a>"
     ]
    },
    {
     "cell_type": "markdown",
     "metadata": {},
     "source": [
      "<dt id=\"intercept\">\n",
      "## Intercepting Exceptions\n",
      "Python provides syntax for intercepting and responding to exceptions:  The **try-except block**.\n",
      "    \n",
      "In it's simplest form, the syntax is:\n",
      "\n",
      "    try:\n",
      "        <body>\n",
      "    except:\n",
      "        <handler>"
     ]
    },
    {
     "cell_type": "markdown",
     "metadata": {},
     "source": [
      "The body of the block is executed.  \n",
      "If during execution of the body's code, an exception is raised, termination of the body ceases and the handler code is executed.  \n",
      "In either case, unless otherwise instructed in the handler, code execution will continue immediately following the block.\n",
      "            \n",
      "Suppose that we wish to obtain the user's age interactively and use it as an integer.  \n",
      "\n",
      "    age = int(input(\"Enter your age as an integer: \"))\n",
      "\n",
      "As we have demonstrated above, a non-numeric string entered by the user will cause the interpreter to raise a *ValueError* exception when trying to convert the string to an integer."
     ]
    },
    {
     "cell_type": "code",
     "collapsed": false,
     "input": [
      "int('not a number')"
     ],
     "language": "python",
     "metadata": {},
     "outputs": []
    },
    {
     "cell_type": "markdown",
     "metadata": {},
     "source": [
      "By intercepting the exception in a *try-except block*, the script can respond to the user and handle the situation as required.  \n",
      "One possibility is just to inform the user of the problem.\n",
      "\n",
      "Execute the code cell below and experiment with numeric and non-numeric strings"
     ]
    },
    {
     "cell_type": "code",
     "collapsed": false,
     "input": [
      "try:\n",
      "    age = int('Not a number')  # Edit the string and re-execute to see what a numeric string does\n",
      "except:\n",
      "    print(\"Excuse me, your input was not numeric.\")\n",
      "          \n",
      "print(\"This code gets executed in either case.\")\n"
     ],
     "language": "python",
     "metadata": {},
     "outputs": []
    },
    {
     "cell_type": "markdown",
     "metadata": {},
     "source": [
      "In the code segment above, the \"continuation code\" in the script still doesn't have the user's age.  \n",
      "However, the handler code can also terminate the script after explaining the condition in \"human\" terms."
     ]
    },
    {
     "cell_type": "code",
     "collapsed": false,
     "input": [
      "!cat E03/ex_1.py"
     ],
     "language": "python",
     "metadata": {},
     "outputs": [
      {
       "output_type": "stream",
       "stream": "stdout",
       "text": [
        "# file: try_die.py\r\n",
        "# Lesson on Exception Handling\r\n",
        "'''\r\n",
        "demonstrates more graceful termination on exception, but\r\n",
        "not very friendly behavior\r\n",
        "'''\r\n",
        "from sys import exit\r\n",
        "\r\n",
        "try:\r\n",
        "    age = int(input('Enter your age: '))\r\n",
        "except:\r\n",
        "    print(\"Sorry.  Your input must be numeric.\")\r\n",
        "    input(\"Press ENTER to continue\")\r\n",
        "    exit()\r\n",
        "# Postcondition of this code segment is \"age is integer\"\r\n",
        "\r\n",
        "# Precondition of following code is \"age is integer\"\r\n",
        "print('Your entered age is {:d} years.'.format(age))\r\n",
        "\r\n",
        "input(\"Press ENTER to continue\")"
       ]
      }
     ],
     "prompt_number": 3
    },
    {
     "cell_type": "markdown",
     "metadata": {},
     "source": [
      "Execute the code cell below to observe the behavior of the above script.  Execute it with valid and invalid input.  \n",
      "\n",
      "NOTE:  The prompt to \"Press ENTER to continue\" is present to pause execution until you are ready to proceed. Once you do, the terminal session will end and the xterm will be dismissed."
     ]
    },
    {
     "cell_type": "code",
     "collapsed": false,
     "input": [
      "!xterm -e python33 E03/ex_1.py"
     ],
     "language": "python",
     "metadata": {},
     "outputs": []
    },
    {
     "cell_type": "markdown",
     "metadata": {},
     "source": [
      "Though the message in the above example may be a little more polite, it is still not friendly.  \n",
      "Consider a user who just answered a dozen question only to have the program terminate because of a finger slip.  A better approach would be to give the user some helpful advice and another chance to get it right.  \n",
      "\n",
      "The *try-except* block can be wrapped in a *while* loop that will continue executing until a valid response is obtained from the user:"
     ]
    },
    {
     "cell_type": "code",
     "collapsed": false,
     "input": [
      "!cat E03/ex_2.py"
     ],
     "language": "python",
     "metadata": {},
     "outputs": [
      {
       "output_type": "stream",
       "stream": "stdout",
       "text": [
        "# file: ex_2.py\r\n",
        "# Lesson on Exception Handling\r\n",
        "# demonstrates a more friendly input error handling\r\n",
        "\r\n",
        "while True:\r\n",
        "    try:\r\n",
        "        age = int(input('Enter your age: '))\r\n",
        "        break\r\n",
        "    except:\r\n",
        "        print(\"\\nSorry.  Your input must be numeric.  Please re-enter.\")\r\n",
        "# Postcondition of the above code segment is \"age is integer\"\r\n",
        "\r\n",
        "# Precondition of following code is \"age is integer\"\r\n",
        "print('\\nYour entered age is {:d} years.'.format(age))\r\n",
        "\r\n",
        "input(\"Press Enter to continue \")"
       ]
      }
     ],
     "prompt_number": 2
    },
    {
     "cell_type": "markdown",
     "metadata": {},
     "source": [
      "Execute the code cell below to observe the behavior of the above script.  Enter first invalid input and then valid input to see both actions.  You may, of course, execute it multiple times."
     ]
    },
    {
     "cell_type": "code",
     "collapsed": false,
     "input": [
      "!xterm -e python33 E03/ex_2.py"
     ],
     "language": "python",
     "metadata": {},
     "outputs": []
    },
    {
     "cell_type": "markdown",
     "metadata": {},
     "source": [
      "The code in the *while* statement will execute forever ... or until the break statement is executed.  \n",
      "Each iteration of the while loop will prompt the user for input.\n",
      "\n",
      "* Invalid input will cause an exception which will terminate the code in the *try* clause and transfer control to the *except* clause.\n",
      "* Valid input will allow *age* to be calculated.  At that point, execution of the code is allowed to continue.  \n",
      "* The *break* statement is executed, causing the loop to be exited.\n",
      "\n",
      "Execution continues with the code following the loop.  That code presumably has a precondition that age is an integer value."
     ]
    },
    {
     "cell_type": "markdown",
     "metadata": {},
     "source": [
      "As we saw earlier, there are at least three different exceptions that could be raised while trying to obtain user input with the *input* function.  It is often the case that the execution of a code segment can cause one of several errors and the appropriate response for each may vary.\n",
      "\n",
      "This situation can be handled by considering the **full syntax definition of the try-except statement**:\n",
      "\n",
      "    try:\n",
      "        <body>\n",
      "    except <ExceptionType_1>:\n",
      "        <handler_1>\n",
      "    ...\n",
      "    except <ExceptionType_N>:\n",
      "        <handler_N>\n",
      "    except:\n",
      "        <catch-all_handler>\n",
      "    else:\n",
      "        <no_exception_code>\n",
      "    finally:\n",
      "        <always_executed_clean-up_code>"
     ]
    },
    {
     "cell_type": "markdown",
     "metadata": {},
     "source": [
      "The multiple **except** s are similar to **elif** s.  When an exception occurs, it is checked to match each exception in an **except** clause after the **try** clause, sequentially.  If a match occurs, the handler for the matching case is executed and the rest of the **except** s are skipped.  \n",
      "Note that the last **except** clause has no **ExceptionType**.  Much like a trailing **else** in an **if-elif-else** statement, its handler is executed if none of the others has been.  \n",
      "\n",
      "A **try** statement must have at least one **except** clause ... the **ExceptionType** is optional on the last one.\n",
      "\n",
      "If no **ExceptionType** is matched and no \"catch-all\" **except** clause is present, no handler is invoked, the current code is terminated, and search for a handler passes to surrounding code and on to the invocation stack.  The process continues until the exception is handled or the entire script terminates.\n",
      "            \n",
      "A **try** statement may have an optional **else** clause, which is executed if and when control flows off the end of a **try** clause with no exception being raised.\n",
      "\n",
      "A **try** statement may have an optional **finally** clause, which is intended for defining clean-up actions that must be performed under all circumstances.  It is **always executed** just before control leaves the **try** statement.\n",
      "\n",
      "In the age entry example, we could distinguish between exceptions.  The code below illustrates how our code responses can vary with the exceptions raised.  View the code and then execute the next code cell to run the code."
     ]
    },
    {
     "cell_type": "code",
     "collapsed": false,
     "input": [
      "!cat E03/ex_3.py"
     ],
     "language": "python",
     "metadata": {},
     "outputs": [
      {
       "output_type": "stream",
       "stream": "stdout",
       "text": [
        "# file: ex_3.py\r\n",
        "# Lesson on Exceptions\r\n",
        "'''\r\n",
        "Demonstrates use of try-except to insure integer input\r\n",
        "using multiple except clauses.\r\n",
        "'''\r\n",
        "\r\n",
        "# Repeat until the user enters an integer response\r\n",
        "while True:\r\n",
        "    try:\r\n",
        "        age = input(\"Enter your age: \")\r\n",
        "        age = int(age)\r\n",
        "        break\r\n",
        "    except ValueError:\r\n",
        "        print(\"You entered '{}'.\".format(age) +  \r\n",
        "              \"  You must enter a number for your age.\")\r\n",
        "    except EOFError:\r\n",
        "        print(\"I think you forgot to enter a number for your age.\")\r\n",
        "    except KeyboardInterrupt:\r\n",
        "        print(\"\\nOUCH! Please don't terminate me.\")\r\n",
        "    print()\r\n",
        "\r\n",
        "# The postcondition of the above code is that age is an integer\r\n",
        "\r\n",
        "# The precondition of the following code is that age is an integer\r\n",
        "# because the format of the string below requires it.\r\n",
        "print('You reported your age as {:d} years.'.format(age))\r\n",
        "\r\n",
        "input(\"Press ENTER to continue\")"
       ]
      }
     ],
     "prompt_number": 1
    },
    {
     "cell_type": "markdown",
     "metadata": {},
     "source": [
      "When executing the following, supply **ctrl-c**, **ctrl-d**, a non-numeric string, and finally a valid age.  \n",
      "The prompt to \"Press ENTER to continue\" is present to pause execution until you are ready to proceed.  Once you do, the terminal will session will end and the xterm will be dismissed."
     ]
    },
    {
     "cell_type": "code",
     "collapsed": false,
     "input": [
      "!xterm -e python33 E03/ex_3.py"
     ],
     "language": "python",
     "metadata": {},
     "outputs": []
    },
    {
     "cell_type": "markdown",
     "metadata": {},
     "source": [
      "Let's revisit the examples from last section to investigate how the use of a **try** statement changes the flow of control when an exception occurs.  \n",
      "Review those examples if you need a refresher.  \n",
      "Also, if you already have a browser \"Visualizer\" tab/window open, you may use that.  Otherwise, use the link below to open one."
     ]
    },
    {
     "cell_type": "markdown",
     "metadata": {},
     "source": [
      "<h3><a href=\"http://cscircles.cemc.uwaterloo.ca/visualize/#mode=edit\" target=\"_blank\"> CSCircles Code Visualizer </a></h3>"
     ]
    },
    {
     "cell_type": "markdown",
     "metadata": {},
     "source": [
      "In the code cell below, the division code line has been \"wrapped\" in a **try** statement, thereby halting its future actions.  \n",
      "The **except** clause attemts to mitigate the situation and execution continues with the code after the **try** statement.\n",
      "\n",
      "Execute the code cell below and then copy the code to the Visualizer to see the flow of control."
     ]
    },
    {
     "cell_type": "code",
     "collapsed": false,
     "input": [
      "x, y = 3, 0\n",
      "try:\n",
      "    ratio = x / y\n",
      "except:\n",
      "    ratio = 0\n",
      "    print(\"An error has occurred and we intercepted the exception\")\n",
      "print(\"Execution continued and the code terminated normally\")"
     ],
     "language": "python",
     "metadata": {},
     "outputs": []
    },
    {
     "cell_type": "markdown",
     "metadata": {},
     "source": [
      "Visualization of the above code shows that, when the exception occurs, control is passed to the **except** clause(s).\n",
      "Edit the code in the Visualizer so that the denominator of the division is not zero and rerun the Visualizer to see the **try** statement's behavior when no error occurs in the **try clause**.\n",
      "\n",
      "We saw that, in a situation where there are multiple frames on the invocation stack when the exception occurs, the exception terminates \"currently executing code\" and then is re-raised in the calling code.  \n",
      "This provides multiple points at which to intercept the exception.  \n",
      "\n",
      "The next two examples place the **try** statement in different locations."
     ]
    },
    {
     "cell_type": "code",
     "collapsed": false,
     "input": [
      "def f1():\n",
      "    try:\n",
      "        y = 3 / 0\n",
      "    except:\n",
      "        y = 0\n",
      "        print(\"Exception caught in f1 and an alternate y value was supplied\")\n",
      "    return y\n",
      "\n",
      "x = 3 * f1()\n",
      "print(\"x =\", x)"
     ],
     "language": "python",
     "metadata": {},
     "outputs": []
    },
    {
     "cell_type": "markdown",
     "metadata": {},
     "source": [
      "Above, the exception was caught in the function and the **except** clause supplied a value for *y*.  Execution continued, the value was returned to the caller, and execution of the calling code ended successfully.\n",
      "\n",
      "In the next example, the **try** statement surrounds the code that CALLS the function f1.\n",
      "Now, when the illegal division occurs, the exception will terminate the functions execution and be re-raised in the statement that invoked the function.\n",
      "Because that code is nested within a **try** statement, the exception is intercepted and the code in the **except** clause is executed.\n",
      "\n",
      "Remember, the code in the **else** clause is only executed only if no exception occurs in the **try** body.  To see this behavior, change the denominator in the illegal division and rerun the script (below and in the Visualizer)"
     ]
    },
    {
     "cell_type": "code",
     "collapsed": false,
     "input": [
      "def f1():\n",
      "    y = 3 / 0\n",
      "    return y\n",
      "\n",
      "try:\n",
      "    x = 3 * f1()\n",
      "except:\n",
      "    print(\"Exception caught in main code, error condition noted.\")\n",
      "else:\n",
      "    print(\"This line only gets printed if no exception is raised\")\n",
      "    print(\"x =\", x)"
     ],
     "language": "python",
     "metadata": {},
     "outputs": []
    },
    {
     "cell_type": "markdown",
     "metadata": {},
     "source": [
      "<a href=\"#top\">back to top</a>"
     ]
    },
    {
     "cell_type": "markdown",
     "metadata": {},
     "source": [
      "<dt id=\"files\">\n",
      "## Exceptions and File Handling\n",
      "    \n",
      "You've already seen that \"words\" can be communicated to a script via command line arguments.  They can be accessed by using the **argv** list, defined in the **sys** module.  \n",
      "The command line \"words\" can be interpreted as file pathnames and used to open the files for reading or writing.  \n",
      "However, if a pathname for a file to be opened for reading identifies a non-existent file or the permissions on a file prevent opening it, an exception will be raised by the interpreter.  \n",
      "    \n",
      "Like other exception messages, those generated by the system in this case are not meant for end-user consumption.  It is the programmer's responsibility to construct a script that can respond to these exceptional cases with grace and inform the user of the problem and the response to it."
     ]
    },
    {
     "cell_type": "markdown",
     "metadata": {},
     "source": [
      "### Problem:  \n",
      "The name obtained from the command line doesn't identify a file that can be opened for reading.  Eg. either the permissions prevent it or it doesn't exist.  \n",
      "\n",
      "### Solution:\n",
      "Consider the script in E03/ex_4.py"
     ]
    },
    {
     "cell_type": "code",
     "collapsed": false,
     "input": [
      "!cat E03/ex_4.py"
     ],
     "language": "python",
     "metadata": {},
     "outputs": [
      {
       "output_type": "stream",
       "stream": "stdout",
       "text": [
        "from sys import argv, exit\r\n",
        "from os.path import basename\r\n",
        "\r\n",
        "# Parse command line\r\n",
        "try:\r\n",
        "    program, infile = argv\r\n",
        "except:\r\n",
        "    exit(\"{0}: Error in command line.  Use {0}  <input_file_pathname>\".format(argv[0]))\r\n",
        "\r\n",
        "# Open the input file for reading\r\n",
        "try:\r\n",
        "    datafile = open(infile, 'r')\r\n",
        "except IOError:\r\n",
        "    print(\"{}:  Input file '{}' cannot be opened for reading\".format(program.basename(), datafile), file=stderr)\r\n",
        "    exit()\r\n",
        "\r\n",
        "# Read and process input file\r\n",
        "data = datafile.read()\r\n",
        "print(data)\r\n",
        "\r\n",
        "datafile.close()\r\n"
       ]
      }
     ],
     "prompt_number": 19
    },
    {
     "cell_type": "markdown",
     "metadata": {},
     "source": [
      "Execute the following code cell to see the behavior when the fill exists.  \n",
      "Then, edit the cell and change *E03/demo_file* to *E03/not_here* which doesn't exist and re-execute the script."
     ]
    },
    {
     "cell_type": "code",
     "collapsed": false,
     "input": [
      "!python33 E03/ex_4.py "
     ],
     "language": "python",
     "metadata": {},
     "outputs": [
      {
       "output_type": "stream",
       "stream": "stdout",
       "text": [
        "ex_4.py: Error in command line.  Use ex_4.py  <input_file_pathname>\r\n"
       ]
      }
     ],
     "prompt_number": 23
    },
    {
     "cell_type": "markdown",
     "metadata": {},
     "source": [
      "Note that the script identifies"
     ]
    },
    {
     "cell_type": "markdown",
     "metadata": {},
     "source": [
      "<a href=\"#top\">back to top</a>"
     ]
    }
   ],
   "metadata": {}
  }
 ]
}