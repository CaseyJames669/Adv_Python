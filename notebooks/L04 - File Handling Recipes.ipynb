{
 "metadata": {
  "name": "L04 - File Handling Recipes"
 },
 "nbformat": 3,
 "nbformat_minor": 0,
 "worksheets": [
  {
   "cells": [
    {
     "cell_type": "heading",
     "level": 1,
     "metadata": {},
     "source": [
      "Lesson 4:  File Handling Recipes"
     ]
    },
    {
     "cell_type": "heading",
     "level": 3,
     "metadata": {},
     "source": [
      "Example 1:  Parsing the command line"
     ]
    },
    {
     "cell_type": "markdown",
     "metadata": {},
     "source": [
      "You want to communicate a specific number of \"words\" to your script via the command line.  \n",
      "For example you want to specify two input files and an output file on the command line when invoking your script *E04/ex1.py*."
     ]
    },
    {
     "cell_type": "heading",
     "level": 4,
     "metadata": {},
     "source": [
      "Solution:"
     ]
    },
    {
     "cell_type": "code",
     "collapsed": false,
     "input": [
      "%%file E04/ex1.py  \n",
      "# This line above is IPython magic ... NOT Python code.\n",
      "# The \"magic\" causes the file to be written, containing the code below, when you execute this cell.\n",
      "\n",
      "from sys import argv, exit\n",
      "try:\n",
      "    prog, infile1, infile2, outfile = argv\n",
      "except ValueError:\n",
      "    exit('{0}: Incorrect number of arguments.  Use: {0} <infile_1> <infile_2> <outfile>'.format(argv[0]))\n",
      "    \n",
      "print(prog, infile1, infile2, outfile)"
     ],
     "language": "python",
     "metadata": {},
     "outputs": []
    },
    {
     "cell_type": "markdown",
     "metadata": {},
     "source": [
      "Try executing the script with a varying number of arguments:"
     ]
    },
    {
     "cell_type": "code",
     "collapsed": false,
     "input": [
      "!python33 E04/ex1.py one two three"
     ],
     "language": "python",
     "metadata": {},
     "outputs": []
    },
    {
     "cell_type": "heading",
     "level": 4,
     "metadata": {},
     "source": [
      "Discussion:"
     ]
    },
    {
     "cell_type": "markdown",
     "metadata": {},
     "source": [
      "Lists may be unpacked just as tuples are.  So if the left hand side of the assignment in the try-except block has either one member or the number of members on the left agrees with the number of items in the list (argv), the assignment is legal.  Otherwise, a ValueError exception is raised.\n",
      "\n",
      "Note that, if the number of arguments may vary, you will want to examine the number of command line arguments more closely ... probably with an if statement.  \n",
      "Also, this only verifies the number of arguments on the command line ... it doesn't address their validity.\n",
      "\n",
      "The *exit* statement in the *sys* module writes an error message to the standard error file, terminates your script, and returns a nonzero value to the shell invoking the interpreter (most probably, *bash*).\n",
      "\n",
      "The error message in the *exit* statement uses argv[0] for the script name rather than hardcoding it.  This is a more robust approach, since renaming the script will not affect the code, in this case."
     ]
    },
    {
     "cell_type": "heading",
     "level": 3,
     "metadata": {},
     "source": [
      "Example 2:  Extracting the script name"
     ]
    },
    {
     "cell_type": "markdown",
     "metadata": {},
     "source": [
      "In the example above, you wish to only display the script's name, rather than the absolute pathname of the script."
     ]
    },
    {
     "cell_type": "heading",
     "level": 4,
     "metadata": {},
     "source": [
      "Solution:"
     ]
    },
    {
     "cell_type": "markdown",
     "metadata": {},
     "source": [
      "You could use string methods to determine if a '/' character appeared in the invocation of the script ... and if so, you could locate the last occurance and then extract the script name with a string slice.  Oh, wait a minute ... Windows uses '\\' as a pathname separator.  \n",
      "A more robust approach: Use the **basename** function from the *os.path* module."
     ]
    },
    {
     "cell_type": "code",
     "collapsed": false,
     "input": [
      ">>> from os.path import basename\n",
      ">>> prog = 'E04/ex1.py'\n",
      ">>> base = basename(prog)\n",
      ">>> print(base)"
     ],
     "language": "python",
     "metadata": {},
     "outputs": []
    },
    {
     "cell_type": "heading",
     "level": 4,
     "metadata": {},
     "source": [
      "Discussion:"
     ]
    },
    {
     "cell_type": "markdown",
     "metadata": {},
     "source": [
      "This function will use the host operating system's path separation character for determining the file name.  \n",
      "(Recall that Windows uses '\\' rather than the linux '/')  \n",
      "\n",
      "The *os.path* module has several functions for manipulating pathnames, including extracting both the path and the filename and concatenating the two using the appropriate connecting symbol for the operating system on which the script is executed.  "
     ]
    },
    {
     "cell_type": "heading",
     "level": 3,
     "metadata": {},
     "source": [
      "Example 3:  Using a context manager for reading a file"
     ]
    },
    {
     "cell_type": "markdown",
     "metadata": {},
     "source": [
      "You want to open a file, perform some operation(s), and close the file.  You want to catch any exceptions that occur while you use the file and close it before proceeding.  (We'll open the script file from Example 1 for reading, read it, and print its contents, upper case, to the standard output.)"
     ]
    },
    {
     "cell_type": "heading",
     "level": 4,
     "metadata": {},
     "source": [
      "Solution:"
     ]
    },
    {
     "cell_type": "markdown",
     "metadata": {},
     "source": [
      "The file below uses the script file from Example 1 for reading, reads it, and prints its contents, in upper case, to the standard output.  \n",
      "Execute the code and then change *infile* to a non-existent file name and execute again."
     ]
    },
    {
     "cell_type": "code",
     "collapsed": false,
     "input": [
      "from sys import argv\n",
      "infile = 'E04/ex1.py'\n",
      "try:\n",
      "    with open(infile, 'r') as f1:\n",
      "        data = f1.read()\n",
      "except:\n",
      "    # Note:  Since this code is being executed from the shell, argv[0] will be '-c'\n",
      "    print(\"{0}: Error opening or reading file '{1}' ... continuing w/o processing\".format(argv[0], infile))\n",
      "else:\n",
      "    print(data.upper())\n",
      "    \n",
      "print(\"\\nMore processing, here\")"
     ],
     "language": "python",
     "metadata": {},
     "outputs": []
    },
    {
     "cell_type": "heading",
     "level": 4,
     "metadata": {},
     "source": [
      "Discussion:"
     ]
    },
    {
     "cell_type": "markdown",
     "metadata": {},
     "source": [
      "The try-except-else block works like this:\n",
      "\n",
      "* The code in the *try* is executed\n",
      "* The code in the *except* is ONLY executed if an exception occurs in the *try* part\n",
      "* The code in the *else* part is executed ONLY if NO exception occurs in the *try* part\n",
      "* In any case, code following the try-except-else block will be executed, since we chose not to terminate on error.\n",
      "\n",
      "The *with* statement creates a **context manager** for the opened file which exists for the life of the block. Once the block is exited, the file is closed.  \n",
      "\n",
      "In the event of an error opening/reading the file:\n",
      "\n",
      "* If the *open* fails, the *except* prints an error message, but no attempt is made to print out the file contents.  \n",
      "* If the file opens, but there is an error in reading the file, the context manager's execution will be terminated by the exception, causing the file to be closed (a nice feature).  THEN, the error message in the except phrase is printed.\n",
      "\n",
      "NOTE:  We could have placed the *print* statement to output the filtered file contents inside of the *try*.  That, however, makes the exception too ambiguous ... did it occur because of input, process, or output?"
     ]
    }
   ],
   "metadata": {}
  }
 ]
}