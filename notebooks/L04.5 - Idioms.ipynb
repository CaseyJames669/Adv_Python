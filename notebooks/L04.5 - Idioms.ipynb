{
 "metadata": {
  "name": "L04.5 - Idioms"
 },
 "nbformat": 3,
 "nbformat_minor": 0,
 "worksheets": [
  {
   "cells": [
    {
     "cell_type": "heading",
     "level": 1,
     "metadata": {},
     "source": [
      "Lesson 4.5 Idioms (aside)"
     ]
    },
    {
     "cell_type": "markdown",
     "metadata": {},
     "source": [
      "###Definition:\n",
      "**Idiom:**  a construction or expression of one language whose parts correspond to elements in another language but whose total structure or meaning is not matched in the same way in the second language.  \n",
      "I.e. a common construction that has a special meaning in a particular language.  "
     ]
    },
    {
     "cell_type": "markdown",
     "metadata": {},
     "source": [
      "Proper use of Python's idioms (or any language idioms, for that matter) facilitates clear thinking, clear algorithm communication, and reduced development time."
     ]
    },
    {
     "cell_type": "markdown",
     "metadata": {},
     "source": [
      "One of the most important Python idioms is the **for** statement.  It is used to control iteration by \"stepping through\" a sequence of values.  The structure is naturally exited when the sequence is exhausted."
     ]
    },
    {
     "cell_type": "markdown",
     "metadata": {},
     "source": [
      "Often, language texts will use Python statements in non-Pythonic ways to demonstrate the mechanics of idioms from other languages.  These examples generally end up looking ugly and just encourage bad Python programming style.  Chief among these misappropriations are the **while** and **for** statements.  \n",
      "\n",
      "Below, are some examples of ugly code resulting from choosing the wrong idiom for a particular purpose and examples of how idiomatic Python can be used to create beautiful, coherent code.\n",
      "\n",
      "Inappropriate use of the **while** statement leads to unclear, rambling code:"
     ]
    },
    {
     "cell_type": "code",
     "collapsed": false,
     "input": [
      "# Below, we 'process' a list of values ... eg. we'll just sum them\n",
      "nums = [2, 4, 6, 7, -3]\n",
      "\n",
      "count = 0\n",
      "num_sum = 0\n",
      "while count < len(nums):\n",
      "    num_sum += nums[count]\n",
      "    count += 1\n",
      "print(num_sum)"
     ],
     "language": "python",
     "metadata": {},
     "outputs": [
      {
       "output_type": "stream",
       "stream": "stdout",
       "text": [
        "16\n"
       ]
      }
     ],
     "prompt_number": 1
    },
    {
     "cell_type": "markdown",
     "metadata": {},
     "source": [
      "> This code is indirect.  It introduces an extraneous index variable (count) that the reader must keep in mind and that has nothing to do with the problem at hand.  The goal is to process the **list elements**.  The use of the **while** statement is almost never a good idea when processing iterables.\n",
      "\n",
      "> A better approach is:  "
     ]
    },
    {
     "cell_type": "code",
     "collapsed": false,
     "input": [
      "nums = [2, 4, 6, 7, -3]\n",
      "\n",
      "num_sum = 0\n",
      "for num in nums:\n",
      "    num_sum += num\n",
      "print(num_sum)"
     ],
     "language": "python",
     "metadata": {},
     "outputs": [
      {
       "output_type": "stream",
       "stream": "stdout",
       "text": [
        "16\n"
       ]
      }
     ],
     "prompt_number": 2
    },
    {
     "cell_type": "markdown",
     "metadata": {},
     "source": [
      "Every time you write a statement that requires indentation, you introduce a new **level of logic**.  \n",
      "Each **level of logic** increases the effort required to understand the algorithm.  \n",
      "Only the simplest of algorithms can avoid multiple levels of logic, so the introduction of superfluous indentations and/or state variables unnecessarily adds to the complexity of the tasks of the reader and code maintainer.  \n",
      "\n",
      "> The above example illustrates another mistake made by beginning programmers - not using the idioms provided by the language (in this case the **sum** function).  The example can be reduced to:"
     ]
    },
    {
     "cell_type": "code",
     "collapsed": false,
     "input": [
      "nums = [2, 4, 6, 7, -3]\n",
      "print(sum(nums))"
     ],
     "language": "python",
     "metadata": {},
     "outputs": [
      {
       "output_type": "stream",
       "stream": "stdout",
       "text": [
        "16\n"
       ]
      }
     ],
     "prompt_number": 3
    },
    {
     "cell_type": "markdown",
     "metadata": {},
     "source": [
      "> This is clear and concise."
     ]
    },
    {
     "cell_type": "markdown",
     "metadata": {},
     "source": [
      "Suppose you want to produce an enumerated list of grocery items.  Since we're processing a list, we know better than to use a **while** statement.  \n",
      "Here is how to NOT use a **for** statement to do it:"
     ]
    },
    {
     "cell_type": "code",
     "collapsed": false,
     "input": [
      "grocs = ['rice', 'beans', 'tortillas', 'onions', 'chilis']\n",
      "for i in range(len(grocs)):\n",
      "    print(\"{:2d}.  {}\".format(i+1, grocs[i]))"
     ],
     "language": "python",
     "metadata": {},
     "outputs": [
      {
       "output_type": "stream",
       "stream": "stdout",
       "text": [
        " 1.  rice\n",
        " 2.  beans\n",
        " 3.  tortillas\n",
        " 4.  onions\n",
        " 5.  chilis\n"
       ]
      }
     ],
     "prompt_number": 4
    },
    {
     "cell_type": "markdown",
     "metadata": {},
     "source": [
      "> Again, we're forcing the reader to focus on the index when it is the items in the list we are really after ... we just want them numbered.   \n",
      "Let Python do the work with the **enumerate** function and tuple unpacking:  \n",
      "\n",
      "> (First, look at the description of the **enumerate** function)"
     ]
    },
    {
     "cell_type": "code",
     "collapsed": false,
     "input": [
      "enumerate?"
     ],
     "language": "python",
     "metadata": {},
     "outputs": []
    },
    {
     "cell_type": "code",
     "collapsed": false,
     "input": [
      "grocs = ['rice', 'beans', 'tortillas', 'onions', 'chilis']\n",
      "for num, item in enumerate(grocs, 1):\n",
      "    print(\"{:2d}.  {}\".format(num, item))"
     ],
     "language": "python",
     "metadata": {},
     "outputs": [
      {
       "output_type": "stream",
       "stream": "stdout",
       "text": [
        " 1.  rice\n",
        " 2.  beans\n",
        " 3.  tortillas\n",
        " 4.  onions\n",
        " 5.  chilis\n"
       ]
      }
     ],
     "prompt_number": 5
    },
    {
     "cell_type": "markdown",
     "metadata": {},
     "source": [
      "The **enumerate** object created by the function call returns an iterator that produces a stream of tuples (number, item), with items coming from the iterable in the parameter list.  These values are positionally 'unpacked' into the loop variables."
     ]
    },
    {
     "cell_type": "markdown",
     "metadata": {},
     "source": [
      "Suppose you have parallel lists ... i.e. lists where the first items are related, and the second ones are related, ... etc., and you want to process them together:"
     ]
    },
    {
     "cell_type": "code",
     "collapsed": false,
     "input": [
      "names = ['Fred', 'Barney', 'Homer', 'Bart', 'Otto']\n",
      "ages = [27, 24, 39, 11, 26]"
     ],
     "language": "python",
     "metadata": {},
     "outputs": [],
     "prompt_number": 7
    },
    {
     "cell_type": "markdown",
     "metadata": {},
     "source": [
      "> You *could* do this ... "
     ]
    },
    {
     "cell_type": "code",
     "collapsed": false,
     "input": [
      "for count in range(len(names)):\n",
      "    print(names[count], ages[count])"
     ],
     "language": "python",
     "metadata": {},
     "outputs": [
      {
       "output_type": "stream",
       "stream": "stdout",
       "text": [
        "Fred 27\n",
        "Barney 24\n",
        "Homer 39\n",
        "Bart 11\n",
        "Otto 26\n"
       ]
      }
     ],
     "prompt_number": 8
    },
    {
     "cell_type": "markdown",
     "metadata": {},
     "source": [
      "> Oops ... there we go again ... focusing on indices when its list items we want.  \n",
      "Try **zip**:"
     ]
    },
    {
     "cell_type": "code",
     "collapsed": false,
     "input": [
      "zip?"
     ],
     "language": "python",
     "metadata": {},
     "outputs": []
    },
    {
     "cell_type": "code",
     "collapsed": false,
     "input": [
      "for name, age in zip(names, ages):\n",
      "    print(name, age)"
     ],
     "language": "python",
     "metadata": {},
     "outputs": [
      {
       "output_type": "stream",
       "stream": "stdout",
       "text": [
        "Fred 27\n",
        "Barney 24\n",
        "Homer 39\n",
        "Bart 11\n",
        "Otto 26\n"
       ]
      }
     ],
     "prompt_number": 9
    },
    {
     "cell_type": "markdown",
     "metadata": {},
     "source": [
      "Suppose you want to print the names and ages in the example above, ordered alphabetically by name.  \n",
      "Imagine how ugly you could make that code look ... and how much effort someone new to your code could expend to understand it.  \n",
      "\n",
      "What is it that we want?  We want to sort the pairs of (name, age) ... so let's get right to the point."
     ]
    },
    {
     "cell_type": "code",
     "collapsed": false,
     "input": [
      "for name, age in sorted(zip(names, ages)):\n",
      "    print(name, age)"
     ],
     "language": "python",
     "metadata": {},
     "outputs": [
      {
       "output_type": "stream",
       "stream": "stdout",
       "text": [
        "Barney 24\n",
        "Bart 11\n",
        "Fred 27\n",
        "Homer 39\n",
        "Otto 26\n"
       ]
      }
     ],
     "prompt_number": 10
    },
    {
     "cell_type": "markdown",
     "metadata": {},
     "source": [
      "> **zip** forms a stream of tuples and **sorted** makes a new sorted list out of the tuples.  The tuples in the list can be iterated over and unpacked into the loop variables."
     ]
    },
    {
     "cell_type": "code",
     "collapsed": false,
     "input": [
      "sorted??"
     ],
     "language": "python",
     "metadata": {},
     "outputs": []
    },
    {
     "cell_type": "markdown",
     "metadata": {},
     "source": [
      "The Python comprehension is so important that a complete notebook page is dedicated to it.  See L07 - Comprehensions** for a detailed discussion and examples of comprehensions.  \n",
      "\n",
      "Suppose we have a list of numerical (or empty) strings.  We'll interpret the empty strings as **0** and obtain the average of the numbers represented in the list."
     ]
    },
    {
     "cell_type": "code",
     "collapsed": false,
     "input": [
      "nums = ['23', '18', '', '34', '', '24']"
     ],
     "language": "python",
     "metadata": {},
     "outputs": [],
     "prompt_number": 11
    },
    {
     "cell_type": "markdown",
     "metadata": {},
     "source": [
      "> Reading from left to right is how most of us have learned to process information.  Vertical and indented (sub)steps produce code that is more distracting and complex.  \n",
      "\n",
      "> The following code exposes every step in the process of obtaining the average. "
     ]
    },
    {
     "cell_type": "code",
     "collapsed": false,
     "input": [
      "stotal = 0\n",
      "for num in nums:\n",
      "    if num is '':\n",
      "        num = 0\n",
      "    stotal += int(num)\n",
      "total_avg = stotal/len(nums)\n",
      "\n",
      "print(total_avg)"
     ],
     "language": "python",
     "metadata": {},
     "outputs": [
      {
       "output_type": "stream",
       "stream": "stdout",
       "text": [
        "16.5\n"
       ]
      }
     ],
     "prompt_number": 12
    },
    {
     "cell_type": "markdown",
     "metadata": {},
     "source": [
      "> We could, instead, use list comprehension to specify the values to sum over and then use the **sum** function.  \n",
      "\n",
      "Once the syntax (sentence structure) of comprehensions is understood, the following expression reads, \"sum the non-empty entries in the list and divide by the number of entries in the list.\""
     ]
    },
    {
     "cell_type": "code",
     "collapsed": false,
     "input": [
      "total_avg = sum([int(num) for num in nums if num != '']) / len(nums)\n",
      "\n",
      "print(total_avg)"
     ],
     "language": "python",
     "metadata": {},
     "outputs": [
      {
       "output_type": "stream",
       "stream": "stdout",
       "text": [
        "16.5\n"
       ]
      }
     ],
     "prompt_number": 13
    },
    {
     "cell_type": "markdown",
     "metadata": {},
     "source": [
      "> The list comprehension forms the list first and then applies the **sum** function to the result.  \n",
      "> A cleaner way to do this is to use a **generator expression** ...  \n",
      "> A generator expression is formed like a list comprehension, except that parentheses are used instead of square brackets.  The parentheses can be eliminated when immediately enclosed within another set of parentheses (as is the case in the parameter list for the **sum** function)."
     ]
    },
    {
     "cell_type": "code",
     "collapsed": false,
     "input": [
      "total_avg = sum(int(num) for num in nums if num != '') / len(nums)\n",
      "\n",
      "print(total_avg)"
     ],
     "language": "python",
     "metadata": {},
     "outputs": [
      {
       "output_type": "stream",
       "stream": "stdout",
       "text": [
        "16.5\n"
       ]
      }
     ],
     "prompt_number": 14
    },
    {
     "cell_type": "markdown",
     "metadata": {},
     "source": [
      "> The benefit of the **generator expression** over the **list comprehension** is that no memory is used to create the temporary list.  Instead the items are created and added to the sum, \"on the fly.\"  \n",
      "\n",
      "**For more discussion and examples of comprehensions, see the secion L07 - Comprehensions**"
     ]
    },
    {
     "cell_type": "markdown",
     "metadata": {},
     "source": [
      "###Exercise:\n",
      "Consider the following function definition:"
     ]
    },
    {
     "cell_type": "code",
     "collapsed": false,
     "input": [
      "def find_avg(act_vals, max_vals):\n",
      "  tot_val = 0 \n",
      "  index = 0 \n",
      "  x = len(act_vals)\n",
      "  for ct in range(x):\n",
      "    act_val = float(act_vals[index])\n",
      "    max_val = float(max_vals[index])\n",
      "    tot_val = tot_val + (act_val/max_val)\n",
      "    index += 1\n",
      "    avg_val = tot_val/index\n",
      "  return avg_val"
     ],
     "language": "python",
     "metadata": {},
     "outputs": [],
     "prompt_number": 15
    },
    {
     "cell_type": "code",
     "collapsed": false,
     "input": [
      "actual = ['4', '8', '13.5', '18', '9']\n",
      "maximum = ['6', '10', '15', '20', '15']\n",
      "\n",
      "print(find_avg(actual, maximum))"
     ],
     "language": "python",
     "metadata": {},
     "outputs": [
      {
       "output_type": "stream",
       "stream": "stdout",
       "text": [
        "0.7733333333333333\n"
       ]
      }
     ],
     "prompt_number": 16
    },
    {
     "cell_type": "markdown",
     "metadata": {},
     "source": [
      "**Questions:**  \n",
      "> * What does the function above (attempt to) do?  \n",
      "\n",
      "> * What, in this function, is done well?  \n",
      "\n",
      "> * What, in this function, can be done more elegantly?  \n",
      "\n",
      "> * Rewrite the function, using idiomatic Python.  \n"
     ]
    }
   ],
   "metadata": {}
  }
 ]
}