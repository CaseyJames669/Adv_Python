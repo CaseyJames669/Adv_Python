{
 "metadata": {
  "name": "L05 - Programming Exercise 1"
 },
 "nbformat": 3,
 "nbformat_minor": 0,
 "worksheets": [
  {
   "cells": [
    {
     "cell_type": "heading",
     "level": 1,
     "metadata": {},
     "source": [
      "Lesson 5:  Programming Exercise 1"
     ]
    },
    {
     "cell_type": "markdown",
     "metadata": {},
     "source": [
      "See the class moodle page for the complete description of this exercise.\n",
      "\n",
      "The following exercises will help you think about the exercise.  This is a place for you to test out snippets of code that you will need to solve the problem."
     ]
    },
    {
     "cell_type": "markdown",
     "metadata": {},
     "source": [
      "###Algorithm:\n",
      "\n",
      "Being able to construct an algorithm and WALK THROUGH IT before ever writing a line of code should help you convince yourself that you actually DO understand the problem and its solution.  \"Rushing to code\" is one of the biggest and most time consuming problems that beginning programmers (and many experienced ones!) face.  \n",
      "\n",
      "The following is a BEGINNING of an algorithm for the solution to Programming Exercise 1.  \n",
      "Double click the cell below and edit it to complete and/or modify the algorithm ... remember to save the notebook page as you edit so that you have the algorithm for reference, later.  \n",
      "Spend some serious effort on developing and simulating your solution on your code before proceeding to the rest of the page.  Come back to the algorithm when/if you discover problems with agreement between your algorithm and your code."
     ]
    },
    {
     "cell_type": "markdown",
     "metadata": {},
     "source": [
      "* Get names of input and output file from command line\n",
      "    * Step?\n",
      "* Read the \"summary data line\" (the first line of the input file)\n",
      "* Read the input student data\n",
      "* Process each student record and create a corresponding result record\n",
      "    * Split the student record up into its constituent parts - name, asmt grades, quiz grades, exam grades\n",
      "* Order result records\n",
      "* Write the formatted output data"
     ]
    },
    {
     "cell_type": "heading",
     "level": 3,
     "metadata": {},
     "source": [
      "\"Proof of Concept\" Recipes"
     ]
    },
    {
     "cell_type": "markdown",
     "metadata": {},
     "source": [
      "####Problem\n",
      "Suppose you are given the \"value summary\" line below.  \n",
      "Construct a function **parse_summary**, that takes the line as a parameter and extracts lists of values for each of assignments, quizzes, and exams.  The function, then returns a tuple composed of the lists in the order the code below suggests.  \n",
      "\n",
      "In the calling code, create identifiers **na**, **nq**, and **ne** for the lengths of each of the lists.  Print these values out, as well. "
     ]
    },
    {
     "cell_type": "code",
     "collapsed": false,
     "input": [
      "line = ',,10,10,10,10,10,10,,15,15,15,15,20,20,20,20,,40,40,40,40'\n",
      "\n",
      "# Construct your function definition, here\n",
      "def parse_summary(data):\n",
      "    na = len(line[0:6])\n",
      "    nq = len(line[7:15])\n",
      "    ne = len(line[16:20])\n",
      "    return na, nq, ne\n",
      "\n",
      "key_as, key_qz, key_ex = parse_summary(line)\n",
      "\n",
      "# Test your code by executing this cell\n",
      "print('key_as: {}\\nkey_qz: {}\\nkey_ex: {}'.format(key_as, key_qz, key_ex))"
     ],
     "language": "python",
     "metadata": {},
     "outputs": [
      {
       "output_type": "stream",
       "stream": "stdout",
       "text": [
        "key_as: 6\n",
        "key_qz: 8\n",
        "key_ex: 4\n"
       ]
      }
     ],
     "prompt_number": 39
    },
    {
     "cell_type": "markdown",
     "metadata": {},
     "source": [
      "####Problem\n",
      "Suppose you have the following student record **line** and score counts **na**, **nq**, and **ne** for assignments, quizzes, and exams, resp.  \n",
      "Write a function definition, **parse_student**, which takes the student record line as a parameter and reduces it to lists for name, asmt scores, quiz scores, and exam scores.  As in the previous function definition, it should return a tuple of lists.  \n",
      "Remember that score groups are separated by an empty field entry and that some scores may be absent (blank ... fill these in with zero scores).  \n",
      "\n",
      "Invoke your function and unpack the returned tuple into the identifiers named **stu_name**, **stu_as**, **stu_qz**, and **stu_ex**, resp."
     ]
    },
    {
     "cell_type": "code",
     "collapsed": false,
     "input": [
      "line = 'Fred,Flintstone,1,2,3,,5,6,,11,12.3,13,14,15,,17,18,,31,32,33,34'\n",
      "na, nq, ne = 6, 8, 4\n",
      "\n",
      "# Construct your function definition, here\n",
      "def parse_student(data):\n",
      "    for num in line.split(','):\n",
      "        if num is '':\n",
      "            num = 0\n",
      "        else:\n",
      "            name = line[0:15]\n",
      "            assign = line[16:27]\n",
      "            qz = line[29:52]\n",
      "            ex = line[54:70]\n",
      "    return name, assign, qz, ex\n",
      "\n",
      "stu_name, stu_as, stu_qz, stu_ex = parse_student(line)\n",
      "# Test your code by executing this cell\n",
      "print('stu_name: {}\\nstu_as: {}\\nstu_qz: {}\\nstu_ex: {}'.format(stu_name, stu_as, stu_qz, stu_ex))"
     ],
     "language": "python",
     "metadata": {},
     "outputs": [
      {
       "output_type": "stream",
       "stream": "stdout",
       "text": [
        "stu_name: Fred,Flintstone\n",
        "stu_as: 1,2,3,,5,6,\n",
        "stu_qz: 1,12.3,13,14,15,,17,18,\n",
        "stu_ex: 1,32,33,34\n"
       ]
      }
     ],
     "prompt_number": 43
    },
    {
     "cell_type": "markdown",
     "metadata": {},
     "source": [
      "####Problem\n",
      "The student's assignment average is computed as the student's total assignment scores divided by the maximum possible assignment grade.  \n",
      "Below, write a function **comp_as_avg** that takes the above list of student assignment scores and list of maximum assignment values as parameters and returns the computed assignment average."
     ]
    },
    {
     "cell_type": "code",
     "collapsed": false,
     "input": [
      "# Construct your function definition, here\n",
      "def comp_as_avg(data, key):\n",
      "    atotal = 0\n",
      "    for num in stu_as:\n",
      "        if num is '':\n",
      "            num = 0\n",
      "        atotal += int(num)\n",
      "    avg_as = atotal/key_as\n",
      "    return avg_as\n",
      "\n",
      "# Test your function by executing this cell\n",
      "avg_as = comp_as_avg(stu_as, key_as)\n",
      "print('Student asmt average:', avg_as)"
     ],
     "language": "python",
     "metadata": {},
     "outputs": [
      {
       "ename": "ValueError",
       "evalue": "invalid literal for int() with base 10: ','",
       "output_type": "pyerr",
       "traceback": [
        "\u001b[0;31m---------------------------------------------------------------------------\u001b[0m\n\u001b[0;31mValueError\u001b[0m                                Traceback (most recent call last)",
        "\u001b[0;32m<ipython-input-41-ad122014f337>\u001b[0m in \u001b[0;36m<module>\u001b[0;34m()\u001b[0m\n\u001b[1;32m     10\u001b[0m \u001b[0;34m\u001b[0m\u001b[0m\n\u001b[1;32m     11\u001b[0m \u001b[0;31m# Test your function by executing this cell\u001b[0m\u001b[0;34m\u001b[0m\u001b[0;34m\u001b[0m\u001b[0m\n\u001b[0;32m---> 12\u001b[0;31m \u001b[0mavg_as\u001b[0m \u001b[0;34m=\u001b[0m \u001b[0mcomp_as_avg\u001b[0m\u001b[0;34m(\u001b[0m\u001b[0mstu_as\u001b[0m\u001b[0;34m,\u001b[0m \u001b[0mkey_as\u001b[0m\u001b[0;34m)\u001b[0m\u001b[0;34m\u001b[0m\u001b[0m\n\u001b[0m\u001b[1;32m     13\u001b[0m \u001b[0mprint\u001b[0m\u001b[0;34m(\u001b[0m\u001b[0;34m'Student asmt average:'\u001b[0m\u001b[0;34m,\u001b[0m \u001b[0mavg_as\u001b[0m\u001b[0;34m)\u001b[0m\u001b[0;34m\u001b[0m\u001b[0m\n",
        "\u001b[0;32m<ipython-input-41-ad122014f337>\u001b[0m in \u001b[0;36mcomp_as_avg\u001b[0;34m(data, key)\u001b[0m\n\u001b[1;32m      5\u001b[0m         \u001b[0;32mif\u001b[0m \u001b[0mnum\u001b[0m \u001b[0;32mis\u001b[0m \u001b[0;34m''\u001b[0m\u001b[0;34m:\u001b[0m\u001b[0;34m\u001b[0m\u001b[0m\n\u001b[1;32m      6\u001b[0m             \u001b[0mnum\u001b[0m \u001b[0;34m=\u001b[0m \u001b[0;36m0\u001b[0m\u001b[0;34m\u001b[0m\u001b[0m\n\u001b[0;32m----> 7\u001b[0;31m         \u001b[0matotal\u001b[0m \u001b[0;34m+=\u001b[0m \u001b[0mint\u001b[0m\u001b[0;34m(\u001b[0m\u001b[0mnum\u001b[0m\u001b[0;34m)\u001b[0m\u001b[0;34m\u001b[0m\u001b[0m\n\u001b[0m\u001b[1;32m      8\u001b[0m     \u001b[0mavg_as\u001b[0m \u001b[0;34m=\u001b[0m \u001b[0matotal\u001b[0m\u001b[0;34m/\u001b[0m\u001b[0mkey_as\u001b[0m\u001b[0;34m\u001b[0m\u001b[0m\n\u001b[1;32m      9\u001b[0m     \u001b[0;32mreturn\u001b[0m \u001b[0mavg_as\u001b[0m\u001b[0;34m\u001b[0m\u001b[0m\n",
        "\u001b[0;31mValueError\u001b[0m: invalid literal for int() with base 10: ','"
       ]
      }
     ],
     "prompt_number": 41
    },
    {
     "cell_type": "markdown",
     "metadata": {},
     "source": [
      "####Problem\n",
      "The student's quiz average is determined as the average of the **N_QZ** best quiz scores.  Since the quizzes may have differing point assignments but each quiz contributes to the final average equally, you must first find each quiz percentage, then determine the N highest percentages, and finally find the average of those percentages.  \n",
      "Below, write a function **comp_qz_avg** that takes, as parameters, the list of student quiz scores, the list of maximum quiz values, and the number of best scores to use in the calculation.  The function returns the student's quiz average.  \n",
      "I suggest that you include a (debug) print statement in your function definition to verify that you are correctly finding the right scores to take the average of."
     ]
    },
    {
     "cell_type": "code",
     "collapsed": false,
     "input": [
      "# Test with a variety of values ... but best to keep it <= 8, since we're not doing anything about errors.\n",
      "N_QZ = 8\n",
      "# Construct your function definition, here\n",
      "print(stu_qz)\n",
      "print(key_qz)\n",
      "qz = ['15','15','15','15','20','20','20','20']\n",
      "print(qz[0])\n",
      "print(qz)\n",
      "qzBest = []\n",
      "x=0\n",
      "for x in stu_qz:\n",
      "    if x is '':\n",
      "        x=0\n",
      "    qz.append = float(x/qz[x])\n",
      "    x+=1\n",
      "print(qzBest)\n",
      "def comp_qz_avg(data, key, numOfQ):\n",
      "    qtotal = 0\n",
      "    for num in stu_qz:\n",
      "        if num is '':\n",
      "            num = 0\n",
      "        qtotal += float(num)\n",
      "    avg_qz = qtotal/key_qz\n",
      "    return avg_qz\n",
      "\n",
      "# Test your function by executing this cell\n",
      "avg_qz = comp_qz_avg(stu_qz, key_qz, N_QZ)\n",
      "print('Student quiz average:', avg_qz)"
     ],
     "language": "python",
     "metadata": {},
     "outputs": [
      {
       "ename": "TypeError",
       "evalue": "list indices must be integers, not str",
       "output_type": "pyerr",
       "traceback": [
        "\u001b[0;31m---------------------------------------------------------------------------\u001b[0m\n\u001b[0;31mTypeError\u001b[0m                                 Traceback (most recent call last)",
        "\u001b[0;32m<ipython-input-44-2c6ab9fae234>\u001b[0m in \u001b[0;36m<module>\u001b[0;34m()\u001b[0m\n\u001b[1;32m     12\u001b[0m     \u001b[0;32mif\u001b[0m \u001b[0mx\u001b[0m \u001b[0;32mis\u001b[0m \u001b[0;34m''\u001b[0m\u001b[0;34m:\u001b[0m\u001b[0;34m\u001b[0m\u001b[0m\n\u001b[1;32m     13\u001b[0m         \u001b[0mx\u001b[0m\u001b[0;34m=\u001b[0m\u001b[0;36m0\u001b[0m\u001b[0;34m\u001b[0m\u001b[0m\n\u001b[0;32m---> 14\u001b[0;31m     \u001b[0mqz\u001b[0m\u001b[0;34m.\u001b[0m\u001b[0mappend\u001b[0m \u001b[0;34m=\u001b[0m \u001b[0mfloat\u001b[0m\u001b[0;34m(\u001b[0m\u001b[0mx\u001b[0m\u001b[0;34m/\u001b[0m\u001b[0mqz\u001b[0m\u001b[0;34m[\u001b[0m\u001b[0mx\u001b[0m\u001b[0;34m]\u001b[0m\u001b[0;34m)\u001b[0m\u001b[0;34m\u001b[0m\u001b[0m\n\u001b[0m\u001b[1;32m     15\u001b[0m     \u001b[0mx\u001b[0m\u001b[0;34m+=\u001b[0m\u001b[0;36m1\u001b[0m\u001b[0;34m\u001b[0m\u001b[0m\n\u001b[1;32m     16\u001b[0m \u001b[0mprint\u001b[0m\u001b[0;34m(\u001b[0m\u001b[0mqzBest\u001b[0m\u001b[0;34m)\u001b[0m\u001b[0;34m\u001b[0m\u001b[0m\n",
        "\u001b[0;31mTypeError\u001b[0m: list indices must be integers, not str"
       ]
      },
      {
       "output_type": "stream",
       "stream": "stdout",
       "text": [
        "1,12.3,13,14,15,,17,18,\n",
        "8\n",
        "15\n",
        "['15', '15', '15', '15', '20', '20', '20', '20']\n"
       ]
      }
     ],
     "prompt_number": 44
    },
    {
     "cell_type": "markdown",
     "metadata": {},
     "source": [
      "####Note\n",
      "In the code above, where we get the lines that we work with or write the output we produce is not an issue.  If correctly abstracted, this never should impact the code we have been developing thus far.  Below, we will investigate two approaches to accomplishing the input and output.  In each of the scenarios, we will use for input the comma separated file **E05/grades.csv**, which is formatted in accordance with the problem description.  "
     ]
    },
    {
     "cell_type": "markdown",
     "metadata": {},
     "source": [
      "####Problem:  Standard input and standard output redirection\n",
      "We wish to read the input by **redirecting the standard input** to the file **E05/grades** and wish to create an output file by **redirecting the standard output** to the file **E05/grades.report**.\n",
      "\n",
      "For now, we will be satisfied to write the input to the output file ... though it would be possible to process the input with the functions we have constructed, above, and then write formatted output."
     ]
    },
    {
     "cell_type": "code",
     "collapsed": false,
     "input": [
      "%%file E05/redir.py\n",
      "records = list()\n",
      "while True:\n",
      "    try:\n",
      "        records.append(input())\n",
      "    except EOFError:\n",
      "        break\n",
      "        \n",
      "for line in records:\n",
      "    print(line)"
     ],
     "language": "python",
     "metadata": {},
     "outputs": [
      {
       "output_type": "stream",
       "stream": "stdout",
       "text": [
        "Writing E05/redir.py\n"
       ]
      }
     ],
     "prompt_number": 15
    },
    {
     "cell_type": "markdown",
     "metadata": {},
     "source": [
      "The following shell instruction will redirect the standard input, but standard output will be left at its default.  I.e. the output will appear below."
     ]
    },
    {
     "cell_type": "code",
     "collapsed": false,
     "input": [
      "!python33 E05/redir.py <E05/grades"
     ],
     "language": "python",
     "metadata": {},
     "outputs": [
      {
       "output_type": "stream",
       "stream": "stdout",
       "text": [
        ",,1,2,3,4,5,,11,12,13,14,15,16,17,18,19,110,111,112,,21,22,23,24\r\n",
        "Rick,Walker,,2,3,,5,,,12,13,14,15,,17,18,19,,111,,,21,22,,24\r\n",
        "Bert,Nernie,1,2,3,4,5,6,7,8\r\n",
        "Big,Bird,1,2,3,,5,,9,8,12,11,9,9,9,9,9,9,9,9,,17,17,17,17\r\n",
        "\r\n"
       ]
      }
     ],
     "prompt_number": 16
    },
    {
     "cell_type": "markdown",
     "metadata": {},
     "source": [
      "The shell instruction in the following code cell also redirects the standard output.  The ';' separates two bash commands.  The cat command displays the contents of the file that is created."
     ]
    },
    {
     "cell_type": "code",
     "collapsed": false,
     "input": [
      "!python33 E05/redir.py <E05/grades >E05/grades.report ; cat E05/grades.report"
     ],
     "language": "python",
     "metadata": {},
     "outputs": [
      {
       "output_type": "stream",
       "stream": "stdout",
       "text": [
        ",,1,2,3,4,5,,11,12,13,14,15,16,17,18,19,110,111,112,,21,22,23,24\r\n",
        "Rick,Walker,,2,3,,5,,,12,13,14,15,,17,18,19,,111,,,21,22,,24\r\n",
        "Bert,Nernie,1,2,3,4,5,6,7,8\r\n",
        "Big,Bird,1,2,3,,5,,9,8,12,11,9,9,9,9,9,9,9,9,,17,17,17,17\r\n",
        "\r\n"
       ]
      }
     ],
     "prompt_number": 17
    },
    {
     "cell_type": "markdown",
     "metadata": {},
     "source": [
      "####Discussion:\n",
      "The *input()* function gets input from the standard input, up through the next newline character.  So, we need to repeatedly call it until we have exhausted the input file.  \n",
      "However, there is a problem with this approach.  When no more newlines exist in the file, the end of file (EOF) marker is encountered and an EOFError exception is generated.  This will effectively kill our script unless the code catches the exception and does something about it.  \n",
      "In this case, it simply signals the end of the file and we go on our way by exiting the *for* loop.\n",
      "\n",
      "OTHER THINGS OF NOTE:  \n",
      "\n",
      "* Not all text editors place a newline character after the last line.  If one does not exist, the EOF will be encountered before the last line is captured and the last line of input will be discarded.\n",
      "* Had we not redirected the standard input, we could have keyed in our records.  Wouldn't THAT be fun!\n",
      "* Finally, we could have read the summary line into its own structure and placed the student records in a list of strings.  That is entirely up to us and the code we write."
     ]
    },
    {
     "cell_type": "markdown",
     "metadata": {},
     "source": [
      "####Problem:  Command line file specification\n",
      "You wish to specify the pathnames of the input and output files on the command line.  You will again use the file **E05/grades** for input.  Specify the file **E05/report2** for our output.  \n",
      "\n",
      "**Refer to Lesson 2 for using sys.argv to capture command line arguments and Lesson 1 for a discussion on using python \"file\" objects.**  \n",
      "Specifically, Lesson 1 describes three methods for reading text from an input file:\n",
      "\n",
      "* **read** - which will create a single string containing all the text in the file,\n",
      "* **readlines** - which will create a list in which each line is a string containing one line of the file, and\n",
      "* **readline** - which will return the next line of the file as a string (and advance the position marker).  When the EOF marker is encountered, an empty string is returned.\n",
      "\n",
      "OTHER THINGS OF NOTE:\n",
      "\n",
      "* The first two methods only require one statement to input the contents of the file.  To read a file with the third method, use a while loop controlled by the contents of the input string.  When the string is empty, it's time to stop.  \n",
      "* In all these cases, the newline characters at the ends of lines are returned as part of that line.  \n",
      "* In no case, will an EOFError exception be generated when the end of the file is reached.  Unless the file has been closed, reading when the current position is at the end of the file will return an empty string.\n",
      "* You are not restricted to using only one of these methods.  Eg, you could read the first (one or more) line of a file with *readline* and then read the rest of the file with *readlines* or even *read*.\n",
      "\n",
      "In the cell below, write a script that will get an input and an output file name from the command line, open the input file for reading, read its data using the file's *readlines* method, close the file and print the data read from the input file."
     ]
    },
    {
     "cell_type": "code",
     "collapsed": false,
     "input": [
      "%%file E05/comline.py\n",
      "from sys import argv\n",
      "# Provide code to get the program name and input and output file names\n",
      "\n",
      "# Provide code to open the input file\n",
      "\n",
      "# Provide code to read the input file using readlines\n",
      "\n",
      "# Remember to close the input file when you are done reading it\n",
      "\n",
      "# Provide code to open the output file\n",
      "\n",
      "# Use a loop to print the lines of the file in the list you created to the output file\n",
      "\n",
      "# Remember to close the output file when you are done writing it\n"
     ],
     "language": "python",
     "metadata": {},
     "outputs": []
    },
    {
     "cell_type": "markdown",
     "metadata": {},
     "source": [
      "Test your code executing the following command cell to run your script and print the contents of output file."
     ]
    },
    {
     "cell_type": "code",
     "collapsed": false,
     "input": [
      "!python33 E05/comline.py E05/grades E05/grade_report ; cat E05/grade_report"
     ],
     "language": "python",
     "metadata": {},
     "outputs": []
    },
    {
     "cell_type": "markdown",
     "metadata": {},
     "source": [
      "If you have completed the above exercises, you are well on the way to creating the script to solve the assigned problem.  Some of the things we will discuss in class will focus on:\n",
      "\n",
      "* error conditions and exceptions\n",
      "* simplifying file handling using *with* to create a context manager\n",
      "* simplifying string and list handling using comprehensions"
     ]
    }
   ],
   "metadata": {}
  }
 ]
}