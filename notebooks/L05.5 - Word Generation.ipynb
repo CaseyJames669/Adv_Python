{
 "metadata": {
  "name": "L05.5 - Word Generation"
 },
 "nbformat": 3,
 "nbformat_minor": 0,
 "worksheets": [
  {
   "cells": [
    {
     "cell_type": "raw",
     "metadata": {},
     "source": [
      "YOUR NAME HERE:  "
     ]
    },
    {
     "cell_type": "markdown",
     "metadata": {},
     "source": [
      "**What to submit:**\n",
      "> * Rename and save your completed notebook document with your user_id\n",
      "> * Make sure that you include the code cells with your tests of your code AND their results\n",
      "> * Submit ONLY the file named <b><i>your_logid</i>.ipynb</b> to the dropbox for Asmt 5."
     ]
    },
    {
     "cell_type": "markdown",
     "metadata": {},
     "source": [
      "# Lesson 5.5 - Word Generation\n",
      "### Definitions:  \n",
      "> * **m_word - (messy word)**  a string of any printing characters with no intervening white space (blanks, tabs, or newlines)\n",
      "> * **s_word - (stripped word)**  a string of printing characters that starts and ends with an alphabetic character and has no intervening white space\n",
      "\n",
      "**Note:**  We can obtain an **s_word** from an **m_word** by \"chipping off\" all the \"ugly stuff\" from either end of the **m_word**.  \n",
      "\n",
      "**How?**  By locating the first alphabetic character from the left end and from the right end of an **m_word** and retaining only those characters and everything between them.  \n",
      "\n",
      "### The function 'word_strip'  \n",
      "\n",
      "Below is the documented outline for a function that does exactly that.  All that you need to do is supply the code.  According to the pre- and post- conditions for the function, it doesn't check if there is any white space in the middle of the \"word\" ... it just does its job and gets rid of \"cruft\" from either end."
     ]
    },
    {
     "cell_type": "code",
     "collapsed": false,
     "input": [
      "import string\n",
      "def word_strip(wd):\n",
      "    '''Strip string and return lowercase version of result\n",
      "  \n",
      "    Return a lowercase version of the word with all non-alphabetic\n",
      "    symbols stripped away from the boundaries, but with such symbols\n",
      "    remaining in the interior of a word.\n",
      "  \n",
      "    Precondition: w is a string\n",
      "    Postcondition: returns 'stripped' string in lowercase\n",
      "\n",
      "    Typical examples of this behavior include:\n",
      "      \n",
      "    >>> word_strip(\"don't\")\n",
      "    \"don't\"\n",
      "    >>> word_strip('end.')\n",
      "    'end'\n",
      "    >>> word_strip('jack-o-lantern')\n",
      "    'jack-o-lantern'\n",
      "    >>> word_strip('\"Stop!\"')\n",
      "    'stop'\n",
      "    >>> word_strip('&%^$*%*%\"')\n",
      "    ''\n",
      "    >>> word_strip('hello there!!')\n",
      "    'hello there'\n",
      "    '''\n",
      "    \n",
      "    # locate first desirable character\n",
      "    for start, ch in enumerate(wd):\n",
      "        if ch.isalpha():\n",
      "            break\n",
      "\n",
      "    # locate last desirable character\n",
      "    end = len(wd)-1\n",
      "    while end >= 0 and wd[end] not in string.ascii_letters:\n",
      "        end -= 1\n",
      "\n",
      "    # return an intentionally lowercase stripped word\n",
      "    return wd[start:end+1].lower()"
     ],
     "language": "python",
     "metadata": {},
     "outputs": [],
     "prompt_number": 6
    },
    {
     "cell_type": "code",
     "collapsed": false,
     "input": [
      "word_strip('jack-o-lantern')"
     ],
     "language": "python",
     "metadata": {},
     "outputs": [
      {
       "output_type": "pyout",
       "prompt_number": 8,
       "text": [
        "'jack-o-lantern'"
       ]
      }
     ],
     "prompt_number": 8
    },
    {
     "cell_type": "markdown",
     "metadata": {},
     "source": [
      "Complete the code for the function and then test it by creating cells below and executing it with test \"m_words\".  See the documentation for the function for examples of input and expected output.  \n",
      "\n",
      "Hints:  \n",
      "> * Look at the **string** (not 'str') module in the python standard library.  \n",
      "* This may be a case where 'while' loops and an indices may not be a terrible idea.  \n",
      "\n",
      "### Iterating over a string of 'm_words'  \n",
      "**Note:**  If you haven't read the lesson on **Iteration, Iterables, and Iterators**, refer to it, making sure to cover the section on **Generator Functions**, before proceeding.  \n",
      "\n",
      "Below is the documentation for a generator function that will return an iterator over the 'words' in a string.  \n",
      "You want the code you write to **split** up the input parameter into \"substrings\" and then **yield** the <u>next non-empty</u> substrings, one at a time."
     ]
    },
    {
     "cell_type": "code",
     "collapsed": false,
     "input": [
      "def words(data = None):\n",
      "    '''Return an iterator over 'data' that returns white-space separated \"words\"\n",
      "    \n",
      "    Preconditions:  'data' must be a string\n",
      "    Postcondition:  returns an iterator over 'data' that produces a stream consisting\n",
      "                        of the white-space separated groups of characters from the\n",
      "                        input string.\n",
      "\n",
      "    Typical example of usage:\n",
      "\n",
      "    >>> wd = words(\"This is a line\")\n",
      "    >>> next(wd)\n",
      "    'This'\n",
      "    >>> next(wd)\n",
      "    'is'\n",
      "    >>> next(wd)\n",
      "    'a'\n",
      "    >>> next(wd)\n",
      "    'line'\n",
      "    >>> next(wd)\n",
      "    Traceback (most recent call last):\n",
      "      File \"<stdin>\", line 1, in <module>\n",
      "    StopIteration\n",
      "    >>> \n",
      "\n",
      "    '''\n",
      "    # Your code here\n",
      "    data_list = data.split()\n",
      "    for wd in data_list:\n",
      "        yield wd"
     ],
     "language": "python",
     "metadata": {},
     "outputs": [],
     "prompt_number": 21
    },
    {
     "cell_type": "code",
     "collapsed": false,
     "input": [
      "w = words(\"This is a line\")"
     ],
     "language": "python",
     "metadata": {},
     "outputs": [],
     "prompt_number": 22
    },
    {
     "cell_type": "code",
     "collapsed": false,
     "input": [
      "next(w)"
     ],
     "language": "python",
     "metadata": {},
     "outputs": [
      {
       "ename": "StopIteration",
       "evalue": "",
       "output_type": "pyerr",
       "traceback": [
        "\u001b[0;31m---------------------------------------------------------------------------\u001b[0m\n\u001b[0;31mStopIteration\u001b[0m                             Traceback (most recent call last)",
        "\u001b[0;32m<ipython-input-27-4c20b502e736>\u001b[0m in \u001b[0;36m<module>\u001b[0;34m()\u001b[0m\n\u001b[0;32m----> 1\u001b[0;31m \u001b[0mnext\u001b[0m\u001b[0;34m(\u001b[0m\u001b[0mw\u001b[0m\u001b[0;34m)\u001b[0m\u001b[0;34m\u001b[0m\u001b[0m\n\u001b[0m",
        "\u001b[0;31mStopIteration\u001b[0m: "
       ]
      }
     ],
     "prompt_number": 27
    },
    {
     "cell_type": "markdown",
     "metadata": {},
     "source": [
      "The function documentation demonstrates one way that the generator returned by the function could be used.   \n",
      "Of course, we should also be able to use a **for** loop:\n",
      "\n",
      "    >>> wd = words(\"This is another line\")\n",
      "    >>> for word in wd:\n",
      "    ...     print(word)\n",
      "    ... \n",
      "    This\n",
      "    is\n",
      "    another\n",
      "    line\n",
      "    >>>  \n",
      "\n",
      "And ... in a **for** loop, since we don't need to refer to the (generator) iterator by name, we can create the iterator implicitly within the **for** loop:\n",
      "\n",
      "    >>> for word in words(\"And yet another       line!!!\"):\n",
      "    ...     print(word)\n",
      "    ... \n",
      "    And\n",
      "    yet\n",
      "    another\n",
      "    line!!!\n",
      "    >>> \n",
      "\n",
      "This last example demonstrates two points:  \n",
      "> * the iterator doesn't produce empty \"words\" and  \n",
      "* it is returning **m_words\"**\n",
      "\n",
      "OK ... now, YOU create the code for the generator function.  Fill in the code cell above and test it thoroughly by creating new cells and invoking the function.  \n",
      "\n",
      "**Remember:  As you make changes to the function definition, you must re-execute the code cell containing the function definition before executing your test cells.**  \n",
      "\n",
      "**Create your code cells for demonstrating your testing below:**"
     ]
    },
    {
     "cell_type": "code",
     "collapsed": false,
     "input": [
      "def words(data = None):\n",
      "    '''Return an iterator over 'data' that returns white-space separated \"words\"\n",
      "    \n",
      "    Preconditions:  'data' must be a string\n",
      "    Postcondition:  returns an iterator over 'data' that produces a stream consisting\n",
      "                        of the white-space separated groups of characters from the\n",
      "                        input string.\n",
      "next(wd)\n",
      "    Typical example of usage:\n",
      "\n",
      "    >>> wd = words(\"This is a line\")\n",
      "    >>> next(wd)\n",
      "    'This'\n",
      "    >>> next(wd)\n",
      "    'is'\n",
      "    >>> next(wd)\n",
      "    'a'\n",
      "    >>> next(wd)\n",
      "    'line'\n",
      "    >>> next(wd)\n",
      "    Traceback (most recent call last):\n",
      "      File \"<stdin>\", line 1, in <module>\n",
      "    StopIteration\n",
      "    >>> \n",
      "\n",
      "    '''\n",
      "    # Your code here\n",
      "    data_list = data.split()\n",
      "    for wd in data_list:\n",
      "        yield wd"
     ],
     "language": "python",
     "metadata": {},
     "outputs": [],
     "prompt_number": 28
    },
    {
     "cell_type": "code",
     "collapsed": false,
     "input": [
      "wd = words(\"This is a line\")"
     ],
     "language": "python",
     "metadata": {},
     "outputs": [],
     "prompt_number": 29
    },
    {
     "cell_type": "code",
     "collapsed": false,
     "input": [
      "next(wd)"
     ],
     "language": "python",
     "metadata": {},
     "outputs": [
      {
       "ename": "StopIteration",
       "evalue": "",
       "output_type": "pyerr",
       "traceback": [
        "\u001b[0;31m---------------------------------------------------------------------------\u001b[0m\n\u001b[0;31mStopIteration\u001b[0m                             Traceback (most recent call last)",
        "\u001b[0;32m<ipython-input-34-1deeb1bbed7b>\u001b[0m in \u001b[0;36m<module>\u001b[0;34m()\u001b[0m\n\u001b[0;32m----> 1\u001b[0;31m \u001b[0mnext\u001b[0m\u001b[0;34m(\u001b[0m\u001b[0mwd\u001b[0m\u001b[0;34m)\u001b[0m\u001b[0;34m\u001b[0m\u001b[0m\n\u001b[0m",
        "\u001b[0;31mStopIteration\u001b[0m: "
       ]
      }
     ],
     "prompt_number": 34
    },
    {
     "cell_type": "markdown",
     "metadata": {},
     "source": [
      "### Producing 's_words' with your iterator:  \n",
      "In the above problem, you simply produced **m_words**.  \n",
      "Now, we want to take this a step farther and have our iterator(s) produce **s_words** ... that is, words that have been stripped of non-alphabetic characters at both ends.  \n",
      "\n",
      "**WAIT A MINUTE!!!**  ... We already have a function to convert **m_words** to **s_words**!  So ... our generator function code can make use of that function in order to \"clean up\" the words before returning them.  \n",
      "Of course, an **m_word** like '**()*%@!**' will convert to the empty **s_word** and we have to be careful not to have our iterator produce that!  \n",
      "\n",
      "In the cell below:\n",
      "> * Copy the code for the **words** generator function from above,  \n",
      "* Modify the code to return an iterator that produces a stream of **s_words** from the input string, and\n",
      "* Modify the documentation to accurately reflect what the function now does."
     ]
    },
    {
     "cell_type": "code",
     "collapsed": false,
     "input": [
      "wd = words(\"This is another line!!\")"
     ],
     "language": "python",
     "metadata": {},
     "outputs": [],
     "prompt_number": 9
    },
    {
     "cell_type": "code",
     "collapsed": false,
     "input": [
      "next(wd)"
     ],
     "language": "python",
     "metadata": {},
     "outputs": [
      {
       "output_type": "pyout",
       "prompt_number": 13,
       "text": [
        "'line!!'"
       ]
      }
     ],
     "prompt_number": 13
    },
    {
     "cell_type": "markdown",
     "metadata": {},
     "source": [
      "Create code cells below to test your genertor."
     ]
    },
    {
     "cell_type": "markdown",
     "metadata": {},
     "source": [
      "### Producing a stream of s_words from an iterable of strings\n",
      "\n",
      "We've been sneaking up on what it is that we **REALLY** need for the application that we are hoping to support:  \n",
      "> We want an iterator that will produce a stream of **s_words** from an **iterable of strings**.  \n",
      "\n",
      "That is, instead of a parameter which is a string, we want a parameter that is, for example:  \n",
      "> * a list or tuple of strings\n",
      "> * the keys or values from a dict (if they are strings)\n",
      "> * the items in a set (it they are strings)\n",
      "> * a text file opened for reading  \n",
      "\n",
      "**And, one more thing** ... we want the iterator to yield, not just the s_word, but also the index of the string it was found in.  \n",
      "That is ... we want our iterator to produce tuples (i, w) where **i** is the index of the string that contained the word and **w** is the **stripped word**.\n",
      "\n",
      "**Here's an example of what the output should look like** (copied from a python shell):\n",
      "\n",
      "    >>> for item in words([\"*(This isn't a   \", \"nicie-NICE file-o:\", \"-3words 4 you9L\"]):\n",
      "    ...     print(item)\n",
      "    ... \n",
      "    (0, 'this')\n",
      "    (0, \"isn't\")\n",
      "    (0, 'a')\n",
      "    (1, 'nicie-nice')\n",
      "    (1, 'file-o')\n",
      "    (2, 'words')\n",
      "    (2, 'you9l')\n",
      "    >>> \n",
      "\n",
      "**Things that change from your code, above:**  \n",
      "> * The input must be an **iterable of strings**,  \n",
      "> * you need to keep track of the index of the string you are working on at any given time,  \n",
      "> * you need to return tuples of (index, word)  \n",
      "\n",
      "Having said that, the code you have above is close to where you want to be ... it's what it takes to process **ONE ITEM** in your iterable of strings.  \n",
      "So, now, iterate over the input parameter and deal with one string at a time.\n",
      "\n",
      "**Enter your code in the cell below and TEST IT TO DEATH ... The entire problem we will be working on will depend on the little iterator that this generator function returns.**\n",
      "\n",
      "**Make sure to save the test cells you use ... I want to see them**"
     ]
    },
    {
     "cell_type": "code",
     "collapsed": false,
     "input": [
      "def words(data = None):\n",
      "    '''Return an iterator over data that returns tuples of (line, word)\n",
      "    \n",
      "    Preconditions:  'data' must be an iterable of strings\n",
      "    Postcondition:  returns an iterator over data that returns the a tuple\n",
      "                    (i, w) where:\n",
      "                        w is the stripped lower-case representation of next\n",
      "                            word in data and\n",
      "                        i is the index of the item in data from which the \n",
      "                            word w was retrieved.\n",
      "                    A stripped word is one that begins and ends with an \n",
      "                    alphabetic character and has no intervening white space.\n",
      "    '''\n",
      "    "
     ],
     "language": "python",
     "metadata": {},
     "outputs": []
    }
   ],
   "metadata": {}
  }
 ]
}