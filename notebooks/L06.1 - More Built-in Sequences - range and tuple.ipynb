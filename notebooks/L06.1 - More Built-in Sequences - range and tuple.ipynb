{
 "metadata": {
  "name": "L06.1 - More Built-in Sequences - range and tuple"
 },
 "nbformat": 3,
 "nbformat_minor": 0,
 "worksheets": [
  {
   "cells": [
    {
     "cell_type": "markdown",
     "metadata": {},
     "source": [
      "<dt id=\"top\">\n",
      "# Lesson 6.1 - More Built-in Sequences - range and tuple"
     ]
    },
    {
     "cell_type": "markdown",
     "metadata": {},
     "source": [
      "## Contents:\n",
      "\n",
      "<ul>\n",
      "    <li><a href=\"#sequences\">Properties of Sequences</a>\n",
      "    <li><a href=\"#range\">The 'range' class is a sequence</a>\n",
      "    <li><a href=\"#tuple\">The 'tuple' class</a>\n",
      "</ul>"
     ]
    },
    {
     "cell_type": "markdown",
     "metadata": {},
     "source": [
      "<dt id=\"sequences\">\n",
      "## Properties of Sequences\n",
      "Mathematically, a **sequence** is a pairing of items or values to the (non-negative) integers.  What this implies about **Python sequences** is that their elements have order ... **position** is a primary property.  Elements in a sequence may be identified and accessed by their numeric position or index (starting at **0**).\n",
      "\n",
      "> e.g. the fibonacci numbers form a seqence 1, 1, 2, 3, 5, 8, 13, ... where \n",
      ">> **fib[0] = fib[1] = 1** and in general,  \n",
      ">> **fib[n] = fib[n-2] + fib[n-1], for n > 1**.\n",
      "\n",
      "\n",
      "Most likely, the first structured data types you were introduced to when you began studying Python were **sequences**: the **list** and the **str** (**string**) classes.  \n",
      "These classes shared the common **sequence** properties, such as indexing and slicing.  (They also introduced you to the concept of mutability - **list is mutable** and **str is immutable**.)  \n",
      "\n",
      "It may surprise you that the **range** function is also a **sequence**.  We shall see that a **range** also possesses those same properties common to all **sequences**. \n",
      "\n",
      "These are three examples of built-in **sequence** data types.  The other built-in sequences are **bytes**, **bytearray**, and **tuple**.\n",
      "\n",
      "In this section, we show that the **range** build-in function produces an instance of the **range** class, possessing the common **sequence** properties.  \n",
      "More importantly, we will introduce the **tuple** class.  The others will be left until later.\n",
      "\n",
      "**The following comes from the Python documentation, where you can find even more information on sequences**, and is included here for a quick reference.\n",
      "\n",
      "**Sequence types** support the following operations.  (Mutable sequences share additional attributes)  \n",
      "\n",
      "Note:\n",
      "> The **in** and **not in** operations have the same priorities as the comparison operations.  \n",
      ">  The **+** and **\\*** operations have the same priority as the corresponding numeric operations."
     ]
    },
    {
     "cell_type": "markdown",
     "metadata": {},
     "source": [
      "<table border=\"1\" class=\"docutils\">\n",
      "<colgroup>\n",
      "<col width=\"30%\" />\n",
      "<col width=\"53%\" />\n",
      "<col width=\"17%\" />\n",
      "</colgroup>\n",
      "<thead valign=\"bottom\">\n",
      "<tr><th class=\"head\">Operation</th>\n",
      "<th class=\"head\">Result</th>\n",
      "<th class=\"head\">Notes</th>\n",
      "</tr>\n",
      "</thead>\n",
      "<tbody valign=\"top\">\n",
      "<tr><td><tt class=\"docutils literal\"><span class=\"pre\">x</span> <span class=\"pre\">in</span> <span class=\"pre\">s</span></tt></td>\n",
      "<td><tt class=\"xref docutils literal\"><span class=\"pre\">True</span></tt> if an item of <em>s</em> is\n",
      "equal to <em>x</em>, else <tt class=\"xref docutils literal\"><span class=\"pre\">False</span></tt></td>\n",
      "<td>(I)</td>\n",
      "</tr>\n",
      "<tr><td><tt class=\"docutils literal\"><span class=\"pre\">x</span> <span class=\"pre\">not</span> <span class=\"pre\">in</span> <span class=\"pre\">s</span></tt></td>\n",
      "<td><tt class=\"xref docutils literal\"><span class=\"pre\">False</span></tt> if an item of <em>s</em> is\n",
      "equal to <em>x</em>, else <tt class=\"xref docutils literal\"><span class=\"pre\">True</span></tt></td>\n",
      "<td>(I)</td>\n",
      "</tr>\n",
      "<tr><td><tt class=\"docutils literal\"><span class=\"pre\">s</span> <span class=\"pre\">+</span> <span class=\"pre\">t</span></tt></td>\n",
      "<td>the concatenation of <em>s</em> and\n",
      "<em>t</em></td>\n",
      "<td>(VI)</td>\n",
      "</tr>\n",
      "<tr><td><tt class=\"docutils literal\"><span class=\"pre\">s</span> <span class=\"pre\">*</span> <span class=\"pre\">n,</span> <span class=\"pre\">n</span> <span class=\"pre\">*</span> <span class=\"pre\">s</span></tt></td>\n",
      "<td><em>n</em> shallow copies of <em>s</em>\n",
      "concatenated</td>\n",
      "<td>(II)</td>\n",
      "</tr>\n",
      "<tr><td><tt class=\"docutils literal\"><span class=\"pre\">s[i]</span></tt></td>\n",
      "<td><em>i</em>th item of <em>s</em>, origin 0</td>\n",
      "<td>(III)</td>\n",
      "</tr>\n",
      "<tr><td><tt class=\"docutils literal\"><span class=\"pre\">s[i:j]</span></tt></td>\n",
      "<td>slice of <em>s</em> from <em>i</em> to <em>j</em></td>\n",
      "<td>(III)(IV)</td>\n",
      "</tr>\n",
      "<tr><td><tt class=\"docutils literal\"><span class=\"pre\">s[i:j:k]</span></tt></td>\n",
      "<td>slice of <em>s</em> from <em>i</em> to <em>j</em>\n",
      "with step <em>k</em></td>\n",
      "<td>(III)(V)</td>\n",
      "</tr>\n",
      "<tr><td><tt class=\"docutils literal\"><span class=\"pre\">len(s)</span></tt></td>\n",
      "<td>length of <em>s</em></td>\n",
      "<td>&nbsp;</td>\n",
      "</tr>\n",
      "<tr><td><tt class=\"docutils literal\"><span class=\"pre\">min(s)</span></tt></td>\n",
      "<td>smallest item of <em>s</em></td>\n",
      "<td>&nbsp;</td>\n",
      "</tr>\n",
      "<tr><td><tt class=\"docutils literal\"><span class=\"pre\">max(s)</span></tt></td>\n",
      "<td>largest item of <em>s</em></td>\n",
      "<td>&nbsp;</td>\n",
      "</tr>\n",
      "<tr><td><tt class=\"docutils literal\"><span class=\"pre\">s.index(i)</span></tt></td>\n",
      "<td>index of the first occurence\n",
      "of <em>i</em> in <em>s</em></td>\n",
      "<td>&nbsp;</td>\n",
      "</tr>\n",
      "<tr><td><tt class=\"docutils literal\"><span class=\"pre\">s.count(i)</span></tt></td>\n",
      "<td>total number of occurences of\n",
      "<em>i</em> in <em>s</em></td>\n",
      "<td>&nbsp;</td>\n",
      "</tr>\n",
      "</tbody>\n",
      "</table>"
     ]
    },
    {
     "cell_type": "markdown",
     "metadata": {},
     "source": [
      "**Sequence types also support comparisons.**  \n",
      "In particular, **tuples** and **lists** are\n",
      "compared lexicographically by comparing corresponding elements.  \n",
      "This means that\n",
      "to compare equal, every element must compare equal and the two sequences must be\n",
      "of the same type and have the same length.  \n",
      "<p id=\"index-20\"><b>Notes  (for above table):</b></p>\n",
      "<ol class=\"arabic\">\n",
      "<li><p class=\"first\">When <em>s</em> is a string object, the <b>in</b> and <b>not in</b> operations act like a\n",
      "substring test.</p>\n",
      "</li>\n",
      "<li><p class=\"first\">Values of <em>n</em> less than <b>0</b> are treated as <b>0</b> (which yields an empty\n",
      "sequence of the same type as <em>s</em>).  Note also that the copies are shallow;\n",
      "nested structures are not copied.  This often haunts new Python programmers;\n",
      "consider:</p>\n",
      "<pre>\n",
      ">>> lists = [[]] * 3\n",
      "lists\n",
      "[[], [], []]\n",
      ">>> lists.append(3)\n",
      ">>> lists\n",
      "[[3], [3], [3]]\n",
      "</pre>\n",
      "\n",
      "<p>What has happened is that <tt class=\"docutils literal\"><span class=\"pre\">[[]]</span></tt> is a one-element list containing an empty\n",
      "list, so all three elements of <tt class=\"docutils literal\"><span class=\"pre\">[[]]</span> <span class=\"pre\">*</span> <span class=\"pre\">3</span></tt> are (pointers to) this single empty\n",
      "list.  Modifying any of the elements of <tt class=\"docutils literal\"><span class=\"pre\">lists</span></tt> modifies this single list.\n",
      "You can create a list of different lists this way:</p>\n",
      "<pre>\n",
      ">>> lists = [[] for i in range(3)]\n",
      ">>> lists[0].append(3)\n",
      ">>> lists[1].append(5)\n",
      ">>> lists[2].append(7)\n",
      ">>> lists\n",
      "[[3], [5], [7]]\n",
      "</pre>\n",
      "</li>\n",
      "\n",
      "<li><p class=\"first\">If <em>i</em> or <em>j</em> is negative, the index is relative to the end of the string:\n",
      "<b>len(s) + i</b> or <b>len(s) + j</b> is substituted.  But note that <b>-0</b> is\n",
      "    still <b>0</b>.</p>\n",
      "</li>\n",
      "<li><p class=\"first\">The slice of <em>s</em> from <em>i</em> to <em>j</em> is defined as the sequence of items with index\n",
      "<em>k</em> such that <b>i &lt;= k &lt; j</b>.  If <em>i</em> or <em>j</em> is greater than <tt class=\"docutils literal\"><span class=\"pre\">len(s)</span></tt>, use\n",
      "<b>len(s)</b>.  If <em>i</em> is omitted or <tt class=\"xref docutils literal\"><span class=\"pre\">None</span></tt>, use <b>0</b>.  If <em>j</em> is omitted or\n",
      "<tt class=\"xref docutils literal\"><span class=\"pre\">None</span></tt>, use <b>len(s)</b>.  If <em>i</em> is greater than or equal to <em>j</em>, the slice is\n",
      "empty.</p>\n",
      "</li>\n",
      "<li><p class=\"first\">The slice of <em>s</em> from <em>i</em> to <em>j</em> with step <em>k</em> is defined as the sequence of\n",
      "items with index  <b>x = i + n*k</b> such that <b>0 &lt;= n &lt; (j-i)/k</b>.  In other words,\n",
      "the indices are <b>i</b>, <b>i+k</b>, <b>i+2*k</b>, <b>i+3*k</b> and so on, stopping when\n",
      "<em>j</em> is reached (but never including <em>j</em>).  If <em>i</em> or <em>j</em> is greater than\n",
      "<b>len(s)</b>, use <b>len(s)</b>.  If <em>i</em> or <em>j</em> are omitted or <tt class=\"xref docutils literal\"><span class=\"pre\">None</span></tt>, they become\n",
      "&#8220;end&#8221; values (which end depends on the sign of <em>k</em>).  Note, <em>k</em> cannot be zero.\n",
      "If <em>k</em> is <tt class=\"xref docutils literal\"><span class=\"pre\">None</span></tt>, it is treated like <tt class=\"docutils literal\"><span class=\"pre\">1</span></tt>.</p>\n",
      "</li>\n",
      "<li><p class=\"first\">Concatenating immutable strings always results in a new object.  This means\n",
      "that building up a string by repeated concatenation will have a quadratic\n",
      "runtime cost in the total string length.  To get a linear runtime cost,\n",
      "you must switch to one of the alternatives below:</p>\n",
      "<ul class=\"simple\">\n",
      "<li>if concatenating <b>str</b> objects, you can build a list and use\n",
      "<b>str.join()</b> at the end;</li>\n",
      "<li>if concatenating <b>bytes</b> objects, you can similarly use\n",
      "<b>bytes.join()</b>, or you can do in-place concatenation with a\n",
      "<b>bytearray</b> object.  <b>bytearray</b> objects are mutable and\n",
      "have an efficient overallocation mechanism.</li>\n",
      "</ul>\n",
      "</li>\n",
      "</ol>\n",
      "<a href=\"#top\">back to top</a>"
     ]
    },
    {
     "cell_type": "markdown",
     "metadata": {},
     "source": [
      "<dt id=\"range\">\n",
      "## The range class is a sequence\n",
      "We have already seen that the **range** function can be used to control the execution of a **for** loop.  \n",
      "In this section, we show that the function creates a **range object** and then simply show that the above properties of sequences apply to **range** instances.\n",
      "> #### **'range' is a class**"
     ]
    },
    {
     "cell_type": "code",
     "collapsed": false,
     "input": [
      "x = range(0, 20, 2)\n",
      "print(type(x))"
     ],
     "language": "python",
     "metadata": {},
     "outputs": [
      {
       "output_type": "stream",
       "stream": "stdout",
       "text": [
        "<class 'range'>\n"
       ]
      }
     ],
     "prompt_number": 1
    },
    {
     "cell_type": "code",
     "collapsed": false,
     "input": [
      "vals = list(range(0, 20, 2))\n",
      "print(vals)"
     ],
     "language": "python",
     "metadata": {},
     "outputs": [
      {
       "output_type": "stream",
       "stream": "stdout",
       "text": [
        "[0, 2, 4, 6, 8, 10, 12, 14, 16, 18]\n"
       ]
      }
     ],
     "prompt_number": 3
    },
    {
     "cell_type": "markdown",
     "metadata": {},
     "source": [
      "> #### test for membership"
     ]
    },
    {
     "cell_type": "code",
     "collapsed": false,
     "input": [
      "6  in x"
     ],
     "language": "python",
     "metadata": {},
     "outputs": []
    },
    {
     "cell_type": "code",
     "collapsed": false,
     "input": [
      "13 not in x"
     ],
     "language": "python",
     "metadata": {},
     "outputs": []
    },
    {
     "cell_type": "markdown",
     "metadata": {},
     "source": [
      "> #### index and slice"
     ]
    },
    {
     "cell_type": "code",
     "collapsed": false,
     "input": [
      "x[5]"
     ],
     "language": "python",
     "metadata": {},
     "outputs": []
    },
    {
     "cell_type": "code",
     "collapsed": false,
     "input": [
      "x.index(14)"
     ],
     "language": "python",
     "metadata": {},
     "outputs": []
    },
    {
     "cell_type": "code",
     "collapsed": false,
     "input": [
      "x[3 : 7]"
     ],
     "language": "python",
     "metadata": {},
     "outputs": []
    },
    {
     "cell_type": "markdown",
     "metadata": {},
     "source": [
      "> **Now, you try a few.**"
     ]
    },
    {
     "cell_type": "code",
     "collapsed": false,
     "input": [],
     "language": "python",
     "metadata": {},
     "outputs": []
    },
    {
     "cell_type": "markdown",
     "metadata": {},
     "source": [
      "As mentioned, the discussion of **range** was for completeness.  \n",
      "Of more interest is the **tuple** class.\n",
      "\n",
      "<a href=\"#top\">back to top</a>"
     ]
    },
    {
     "cell_type": "markdown",
     "metadata": {},
     "source": [
      "<dt id=\"tuple\">\n",
      "## The tuple class\n",
      "The **tuple** is a built-in **immutable container structure**.  As one of the **sequence data types**, it shares those operations and properties outlined above.  \n",
      "As with a **list**, the elements in a **tuple** can be of any type.  \n",
      "The property that most distinguishes it from a list is its **immutability** and, of course, the absence of equivalent **mutator methods**.  \n",
      "**Immutability** is also its strength.  In many use cases, immutability is convenient, safe, and desirable.  \n",
      "> Philosophically, if an item is to not change, then don't provide the tools to change it.  \n",
      "> Pragmatically, use of the **tuple**, in some instances, may be less resource intensive than its mutable cousin, the **list**.\n",
      "\n",
      "> ### Representation:\n",
      "> * The items of a **tuple** are arbitrary Python objects.  \n",
      "> * A **tuple** of two or more items is formed as comma-separated expressions.  \n",
      "> * A **tuple** of one item (a \u2018singleton\u2019) can be formed by appending an expression with a comma.  (a parenthesized expression by itself does not create a tuple, since parentheses must be usable for grouping of expressions). \n",
      "> * An empty **tuple** can be formed by an empty pair of parentheses.\n",
      "> * The **tuple.repr** method displays a **tuple** as a **parenthesized**, **comma-separated**, listing of representations of its constituent elements.  \n",
      "\n",
      "> ### Creating tuple instances:\n",
      "> * The **tuple**([*iterable*]) built-in function will return a **tuple** whose items are the same (and in the same order) as the items of the *iterable*.  **iterable** may be a sequence, a container that supports iteration, or an iterator object.  If *iterable* is already a tuple, it is returned unchanged.\n",
      "> * The **tuple** can also be created using one of the representation listed above.  "
     ]
    },
    {
     "cell_type": "code",
     "collapsed": false,
     "input": [
      "tuple('abc')"
     ],
     "language": "python",
     "metadata": {},
     "outputs": []
    },
    {
     "cell_type": "code",
     "collapsed": false,
     "input": [
      "tuple([1, 2, 3])"
     ],
     "language": "python",
     "metadata": {},
     "outputs": []
    },
    {
     "cell_type": "code",
     "collapsed": false,
     "input": [
      "tuple((1, 2, 3))"
     ],
     "language": "python",
     "metadata": {},
     "outputs": []
    },
    {
     "cell_type": "code",
     "collapsed": false,
     "input": [
      "x = 1,\n",
      "print(type(x))\n",
      "x"
     ],
     "language": "python",
     "metadata": {},
     "outputs": []
    },
    {
     "cell_type": "code",
     "collapsed": false,
     "input": [
      "x = 'a', 2, ['fred'], (1, 'b')\n",
      "x"
     ],
     "language": "python",
     "metadata": {},
     "outputs": []
    },
    {
     "cell_type": "code",
     "collapsed": false,
     "input": [
      "x = ('a', 2, ['fred'], (1, 'b'))\n",
      "print(type(x))\n",
      "x"
     ],
     "language": "python",
     "metadata": {},
     "outputs": []
    },
    {
     "cell_type": "code",
     "collapsed": false,
     "input": [
      "x = tuple()\n",
      "print(type(x))\n",
      "x"
     ],
     "language": "python",
     "metadata": {},
     "outputs": []
    },
    {
     "cell_type": "code",
     "collapsed": false,
     "input": [
      "x = ()\n",
      "print(type(x))\n",
      "x"
     ],
     "language": "python",
     "metadata": {},
     "outputs": []
    },
    {
     "cell_type": "code",
     "collapsed": false,
     "input": [
      "x = tuple(())\n",
      "print(type(x))\n",
      "x"
     ],
     "language": "python",
     "metadata": {},
     "outputs": []
    },
    {
     "cell_type": "markdown",
     "metadata": {},
     "source": [
      "> ### tuple Use Cases:\n",
      "> * Use where ever you use lists that should not / do not change\n",
      "> * Many core standard library functions / methods return these (so knowing how to use them is important)\n",
      "> * The use of tuples may be faster and use less memory than lists\n",
      "> * See the examples below"
     ]
    },
    {
     "cell_type": "markdown",
     "metadata": {},
     "source": [
      ">> **Simultaneous assignment**"
     ]
    },
    {
     "cell_type": "code",
     "collapsed": false,
     "input": [
      "hero, villian = \"Dudley\", \"Snidely\"\n",
      "print(\"hero =\", hero)\n",
      "print(\"villian =\", villian)\n",
      "hero, villian = villian, hero\n",
      "print(\"After swap:\")\n",
      "print(\"hero =\", hero)\n",
      "print(\"villian =\", villian)"
     ],
     "language": "python",
     "metadata": {},
     "outputs": []
    },
    {
     "cell_type": "markdown",
     "metadata": {},
     "source": [
      ">> **Functions returning \"multiple values\"**"
     ]
    },
    {
     "cell_type": "code",
     "collapsed": false,
     "input": [
      "def f1():\n",
      "    return \"fred\", \"wilma\", \"pebbles\"\n",
      "\n",
      "names = f1()\n",
      "print(names)\n",
      "\n",
      "character, spouse, child = f1()\n",
      "print(character)\n",
      "print(spouse)\n",
      "print(child)"
     ],
     "language": "python",
     "metadata": {},
     "outputs": []
    },
    {
     "cell_type": "markdown",
     "metadata": {},
     "source": [
      ">>> Above, the function returns several comma-separated strings.  This forms a tuple and, consequently, only one object is actually returned by the function.  \n",
      "The tuple may be assigned an identifier in the calling code OR it can be **unpacked** (positionally) into the identifiers on the left of the '='.  The number of identifiers on the left must be one or match exactly the number length of the returned tuple.\n",
      "\n",
      "<a href=\"#top\">back to top</a>"
     ]
    }
   ],
   "metadata": {}
  }
 ]
}