{
 "metadata": {
  "name": "L06.2 - Iteration, Iterables, Iterators, and Generators"
 },
 "nbformat": 3,
 "nbformat_minor": 0,
 "worksheets": [
  {
   "cells": [
    {
     "cell_type": "heading",
     "level": 1,
     "metadata": {},
     "source": [
      "<dt id=\"top\">\n",
      "Lesson 6.2 - Iteration, Iterables, Iterators, and Generators"
     ]
    },
    {
     "cell_type": "markdown",
     "metadata": {},
     "source": [
      "## Contents:\n",
      "\n",
      "<ul>\n",
      "    <li><a href=\"#iterability\">Iterability - Definitions</a>\n",
      "    <li><a href=\"#iterables\">Iterables</a>\n",
      "    <li><a href=\"#iterators\">Iterators from Iterables</a>\n",
      "        <ul>\n",
      "            <li><a href=\"#iter\">Using <i>iter()</i> and __<i>iter()</i>__</a>\n",
      "            <li><a href=\"#for\">Implicitly Invoking __<i>iter()</i>__ With <u>for</u></a>\n",
      "        </ul>\n",
      "    <li><a href=\"#other\">Other Support for Iteration</a>\n",
      "    <li><a href=\"#generators\">Generators and Generator Functions</a>\n",
      "        <ul>\n",
      "            <li><a href=\"#yield\">Semantics - <u>yield</u></a>\n",
      "            <li><a href=\"#genfunc\">Definition - <u>generator function</u></a>\n",
      "            <li><a href=\"#gen\">Definition - <u>generator</u></a>\n",
      "            <li><a href=\"#final\">A Final Word</a>\n",
      "        </ul>\n",
      "</ul>\n",
      "    "
     ]
    },
    {
     "cell_type": "markdown",
     "metadata": {},
     "source": [
      "<dt id=\"iterability\">\n",
      "## Iterability - Definitions\n",
      "Another important property that all sequences possess is that of **iterability**. We say a class that displays this property is an **iterable**.  \n",
      "Below, we identify some non-sequence objects that are also iterable.\n",
      "\n",
      "There are three terms with the same root word whose definitions are key to the concept and consequences of iterability (and may seem pretty \"chicken or egg\").\n",
      "\n",
      "* **iteration** -  In Computer Science, the process of repeating a set of instructions a specified number of times or until a specific condition is met is called **iteration**.  \n",
      "* **iterable** - The Python documentation defines an **iterable** as:  \"An object capable of returning its members one at a time.  More specifically, a class is **iterable** if it has a  **__iter()__** or **get_item()** method.\"  \n",
      "\n",
      ">> Built-in examples of **iterable** include  \n",
      "\n",
      ">> * all sequence types (such as **list**, **str**, and **tuple**) and \n",
      ">> * some non-sequence types like **dict**, **set**, and **file**. \n",
      "\n",
      "> The **__iter__()** method is used to create and return an **iterator** object.   \n",
      "\n",
      "\n",
      "* **iterator** -  In Python, an **iterator** is an object that represents a stream of data.  \n",
      "**Iterator** objects themselves are required to support the following two methods and condition, which together form the **iterator protocol**:  \n",
      "\n",
      ">> * the **__iter__()** method (invoked using the built-in **iter()** function, explicitly or implicitly) returns the **iterator object** itself.  This allows iterators to be used with the **for** and **in** statements and  \n",
      "* the **__next__()** method (repeated invocations of it by repeatedly passing the iterator to the built-in function **next()** - returns successive items in the stream).  \n",
      "* the **__next__()** method must raise the **StopIteration** exception when its stream is exhausted and must continue to do so on subsequent calls.  \n",
      "This enables a programmer to control an iteration process. \n",
      "\n",
      "\n",
      "\n",
      "This property makes an **iterable** particularly useful in a **for** loop and in many other places where a stream of values is needed.  (BUT .. don't confuse being able to produce a stream of values with being a sequence).\n",
      " \n",
      "All **sequence** objects are **iterables**.\n",
      "**However**, not all **iterables** are **sequences**.  In another section we introduce two built-in **iterables** which are not **sequences**: \n",
      "\n",
      "* the **dict** - arguably the most fundamental container class in the definition of Python, and \n",
      "* the **set** - a container class that implements the mathematical definition of **set**."
     ]
    },
    {
     "cell_type": "markdown",
     "metadata": {},
     "source": [
      "<a href=\"#top\">back to top</a>"
     ]
    },
    {
     "cell_type": "markdown",
     "metadata": {},
     "source": [
      "<dt id=\"iterables\">\n",
      "## Iterables  \n",
      "> The **dir()** built_in function produces a **list** of the identifiers in the namespace for its parameter.  \n",
      "Below, we can find the identifiers for the **list** class.  You should recognize many as method names for **list**."
     ]
    },
    {
     "cell_type": "code",
     "collapsed": false,
     "input": [
      "dir(list)"
     ],
     "language": "python",
     "metadata": {},
     "outputs": [
      {
       "output_type": "pyout",
       "prompt_number": 1,
       "text": [
        "['__add__',\n",
        " '__class__',\n",
        " '__contains__',\n",
        " '__delattr__',\n",
        " '__delitem__',\n",
        " '__dir__',\n",
        " '__doc__',\n",
        " '__eq__',\n",
        " '__format__',\n",
        " '__ge__',\n",
        " '__getattribute__',\n",
        " '__getitem__',\n",
        " '__gt__',\n",
        " '__hash__',\n",
        " '__iadd__',\n",
        " '__imul__',\n",
        " '__init__',\n",
        " '__iter__',\n",
        " '__le__',\n",
        " '__len__',\n",
        " '__lt__',\n",
        " '__mul__',\n",
        " '__ne__',\n",
        " '__new__',\n",
        " '__reduce__',\n",
        " '__reduce_ex__',\n",
        " '__repr__',\n",
        " '__reversed__',\n",
        " '__rmul__',\n",
        " '__setattr__',\n",
        " '__setitem__',\n",
        " '__sizeof__',\n",
        " '__str__',\n",
        " '__subclasshook__',\n",
        " 'append',\n",
        " 'clear',\n",
        " 'copy',\n",
        " 'count',\n",
        " 'extend',\n",
        " 'index',\n",
        " 'insert',\n",
        " 'pop',\n",
        " 'remove',\n",
        " 'reverse',\n",
        " 'sort']"
       ]
      }
     ],
     "prompt_number": 1
    },
    {
     "cell_type": "markdown",
     "metadata": {},
     "source": [
      "> Note that you can locate **__iter__**.  However, you **do not** see a '**__next__**' in the list.  \n",
      "Try:"
     ]
    },
    {
     "cell_type": "code",
     "collapsed": false,
     "input": [
      "names = ['bert', 'ernie']\n",
      "next(names)"
     ],
     "language": "python",
     "metadata": {},
     "outputs": [
      {
       "ename": "TypeError",
       "evalue": "'list' object is not an iterator",
       "output_type": "pyerr",
       "traceback": [
        "\u001b[0;31m---------------------------------------------------------------------------\u001b[0m\n\u001b[0;31mTypeError\u001b[0m                                 Traceback (most recent call last)",
        "\u001b[0;32m<ipython-input-2-dae65759b5a8>\u001b[0m in \u001b[0;36m<module>\u001b[0;34m()\u001b[0m\n\u001b[1;32m      1\u001b[0m \u001b[0mnames\u001b[0m \u001b[0;34m=\u001b[0m \u001b[0;34m[\u001b[0m\u001b[0;34m'bert'\u001b[0m\u001b[0;34m,\u001b[0m \u001b[0;34m'ernie'\u001b[0m\u001b[0;34m]\u001b[0m\u001b[0;34m\u001b[0m\u001b[0m\n\u001b[0;32m----> 2\u001b[0;31m \u001b[0mnext\u001b[0m\u001b[0;34m(\u001b[0m\u001b[0mnames\u001b[0m\u001b[0;34m)\u001b[0m\u001b[0;34m\u001b[0m\u001b[0m\n\u001b[0m",
        "\u001b[0;31mTypeError\u001b[0m: 'list' object is not an iterator"
       ]
      }
     ],
     "prompt_number": 2
    },
    {
     "cell_type": "markdown",
     "metadata": {},
     "source": [
      "> Ooh! ... That didn't go well.  \n",
      "Now, try:"
     ]
    },
    {
     "cell_type": "code",
     "collapsed": false,
     "input": [
      "type(names)"
     ],
     "language": "python",
     "metadata": {},
     "outputs": [
      {
       "output_type": "pyout",
       "prompt_number": 3,
       "text": [
        "builtins.list"
       ]
      }
     ],
     "prompt_number": 3
    },
    {
     "cell_type": "markdown",
     "metadata": {},
     "source": [
      "> Of course!  **names** is a **list** ... and the **list** class doesn't have a **__next__** method.  \n",
      "But, in the **dir()** output above, we saw **list** DOES have a **__iter__** method ... so, by what we saw above, we can use it to construct an **iterator** and that WILL have a **__next__**."
     ]
    },
    {
     "cell_type": "markdown",
     "metadata": {},
     "source": [
      "<a href=\"#top\">back to top</a>"
     ]
    },
    {
     "cell_type": "markdown",
     "metadata": {},
     "source": [
      "<dt id=\"iterators\">\n",
      "## Iterators from Iterables"
     ]
    },
    {
     "cell_type": "markdown",
     "metadata": {},
     "source": [
      "<dt id=\"iter\">\n",
      "> <h2>Using <i>iter()</i> and __<i>iter()</i>__</h2>\n",
      ">> The use of the built-in function **iter()** explicitly causes the invocation of the **__iter__()** method of an **iterable** object.  \n",
      "In order to be consistent with the **iterator protocol**, the method must return an object that has both a **__next__()** and a **__iter()__** method ... i.e. an **iterator**"
     ]
    },
    {
     "cell_type": "code",
     "collapsed": false,
     "input": [
      "names = ['bert', 'ernie']\n",
      "N = iter(names)\n",
      "type(N)"
     ],
     "language": "python",
     "metadata": {},
     "outputs": [
      {
       "output_type": "pyout",
       "prompt_number": 4,
       "text": [
        "builtins.list_iterator"
       ]
      }
     ],
     "prompt_number": 4
    },
    {
     "cell_type": "code",
     "collapsed": false,
     "input": [
      "dir(N)"
     ],
     "language": "python",
     "metadata": {},
     "outputs": [
      {
       "output_type": "pyout",
       "prompt_number": 5,
       "text": [
        "['__class__',\n",
        " '__delattr__',\n",
        " '__dir__',\n",
        " '__doc__',\n",
        " '__eq__',\n",
        " '__format__',\n",
        " '__ge__',\n",
        " '__getattribute__',\n",
        " '__gt__',\n",
        " '__hash__',\n",
        " '__init__',\n",
        " '__iter__',\n",
        " '__le__',\n",
        " '__length_hint__',\n",
        " '__lt__',\n",
        " '__ne__',\n",
        " '__new__',\n",
        " '__next__',\n",
        " '__reduce__',\n",
        " '__reduce_ex__',\n",
        " '__repr__',\n",
        " '__setattr__',\n",
        " '__setstate__',\n",
        " '__sizeof__',\n",
        " '__str__',\n",
        " '__subclasshook__']"
       ]
      }
     ],
     "prompt_number": 5
    },
    {
     "cell_type": "markdown",
     "metadata": {},
     "source": [
      ">> Ah!  Things are looking better, now.  \n",
      "**N** IS an **iterator** and ... there it is ... the **__next__** method in its list of identifiers.  \n",
      "\n",
      ">> OK ... so now ...  \n",
      "continue executing the following cell until it raises an exception."
     ]
    },
    {
     "cell_type": "code",
     "collapsed": false,
     "input": [
      "next(N)"
     ],
     "language": "python",
     "metadata": {},
     "outputs": [
      {
       "ename": "StopIteration",
       "evalue": "",
       "output_type": "pyerr",
       "traceback": [
        "\u001b[0;31m---------------------------------------------------------------------------\u001b[0m\n\u001b[0;31mStopIteration\u001b[0m                             Traceback (most recent call last)",
        "\u001b[0;32m<ipython-input-8-6528684e8018>\u001b[0m in \u001b[0;36m<module>\u001b[0;34m()\u001b[0m\n\u001b[0;32m----> 1\u001b[0;31m \u001b[0mnext\u001b[0m\u001b[0;34m(\u001b[0m\u001b[0mN\u001b[0m\u001b[0;34m)\u001b[0m\u001b[0;34m\u001b[0m\u001b[0m\n\u001b[0m",
        "\u001b[0;31mStopIteration\u001b[0m: "
       ]
      }
     ],
     "prompt_number": 8
    },
    {
     "cell_type": "markdown",
     "metadata": {},
     "source": [
      ">> It's obeying the **iterator protocol**.  \n",
      "\n",
      ">> * It generates a stream of items and  \n",
      "* it raises **StopIteration**\n",
      "\n",
      ">> Note what happens if you try to iterate over N, again:"
     ]
    },
    {
     "cell_type": "code",
     "collapsed": false,
     "input": [
      "next(N)"
     ],
     "language": "python",
     "metadata": {},
     "outputs": [
      {
       "ename": "StopIteration",
       "evalue": "",
       "output_type": "pyerr",
       "traceback": [
        "\u001b[0;31m---------------------------------------------------------------------------\u001b[0m\n\u001b[0;31mStopIteration\u001b[0m                             Traceback (most recent call last)",
        "\u001b[0;32m<ipython-input-10-6528684e8018>\u001b[0m in \u001b[0;36m<module>\u001b[0;34m()\u001b[0m\n\u001b[0;32m----> 1\u001b[0;31m \u001b[0mnext\u001b[0m\u001b[0;34m(\u001b[0m\u001b[0mN\u001b[0m\u001b[0;34m)\u001b[0m\u001b[0;34m\u001b[0m\u001b[0m\n\u001b[0m",
        "\u001b[0;31mStopIteration\u001b[0m: "
       ]
      }
     ],
     "prompt_number": 10
    },
    {
     "cell_type": "markdown",
     "metadata": {},
     "source": [
      "<a href=\"#top\">back to top</a>"
     ]
    },
    {
     "cell_type": "markdown",
     "metadata": {},
     "source": [
      "<dt id=\"for\">\n",
      "> <h2>Implicitly Invoking __<i>iter()</i>__ With <u>for</u></h2>\n",
      ">> In a **for** loop, \n",
      "\n",
      ">>>>**for** <i>loop_vbl</i> **in** <i>expression_list</i>:  \n",
      ">>>>> <i>loop_body</i>\n",
      "\n",
      ">> * the value of the <i>expression_list</i> must return an **iterable**,\n",
      ">> * the semantics of the for loop is  \n",
      ">>> * evaluate the **expression_list** once to obtain an **iterable**  \n",
      "* invoke the **__iter__()** method of the **iterable** to obtain an **iterator**\n",
      "* repeated  \n",
      ">>>> * apply **next()** to the **iterator** and assign the result to the <i>loop_vbl</i>\n",
      ">>>> * exececute the <i>loop_body</i> (with the current value of <i>loop_vbl</i>)\n",
      ">>>> * when the application of **next()** produces a **StopIteration** exception, exit the loop"
     ]
    },
    {
     "cell_type": "markdown",
     "metadata": {},
     "source": [
      ">> That is, an **iterator** is implicitly created and its **__next__()** is repeatedly called within the **for** loop.\n",
      "\n",
      ">> Note that this also explains why an **iterator** must have an **__iter__()** method.  \n",
      "IT must be able to return an **iterator** (it may return itself) to obey the semantics of a **for** loop."
     ]
    },
    {
     "cell_type": "code",
     "collapsed": false,
     "input": [
      "names = ['bert', 'ernie']\n",
      "N = iter(names)\n",
      "for i in N:\n",
      "    print(i)\n",
      "print(\"We're done\")"
     ],
     "language": "python",
     "metadata": {},
     "outputs": [
      {
       "output_type": "stream",
       "stream": "stdout",
       "text": [
        "bert\n",
        "ernie\n",
        "We're done\n"
       ]
      }
     ],
     "prompt_number": 11
    },
    {
     "cell_type": "markdown",
     "metadata": {},
     "source": [
      ">> An **iterator** generates its (possibly infinite) stream **once**, after which it's used up.  "
     ]
    },
    {
     "cell_type": "code",
     "collapsed": false,
     "input": [
      "next(N)"
     ],
     "language": "python",
     "metadata": {},
     "outputs": [
      {
       "ename": "StopIteration",
       "evalue": "",
       "output_type": "pyerr",
       "traceback": [
        "\u001b[0;31m---------------------------------------------------------------------------\u001b[0m\n\u001b[0;31mStopIteration\u001b[0m                             Traceback (most recent call last)",
        "\u001b[0;32m<ipython-input-12-6528684e8018>\u001b[0m in \u001b[0;36m<module>\u001b[0;34m()\u001b[0m\n\u001b[0;32m----> 1\u001b[0;31m \u001b[0mnext\u001b[0m\u001b[0;34m(\u001b[0m\u001b[0mN\u001b[0m\u001b[0;34m)\u001b[0m\u001b[0;34m\u001b[0m\u001b[0m\n\u001b[0m",
        "\u001b[0;31mStopIteration\u001b[0m: "
       ]
      }
     ],
     "prompt_number": 12
    },
    {
     "cell_type": "markdown",
     "metadata": {},
     "source": [
      "> ### Exercise 1:  Emulate <u>for</u> loop behavior with <u>while</u>, <u>next()</u>, and <u>try</u>  \n",
      ">> Implement the following **for** loop using **while** and **try** statements and the **next()** function to demonstrate how the **for** statement behaves internally:"
     ]
    },
    {
     "cell_type": "code",
     "collapsed": false,
     "input": [
      "names = ['bert', 'ernie', 'arne', 'oscar']\n",
      "for name in names:\n",
      "    # loop body ... could be any valid code\n",
      "    print(name)"
     ],
     "language": "python",
     "metadata": {},
     "outputs": [
      {
       "output_type": "stream",
       "stream": "stdout",
       "text": [
        "bert\n",
        "ernie\n",
        "arne\n",
        "oscar\n"
       ]
      }
     ],
     "prompt_number": 15
    },
    {
     "cell_type": "code",
     "collapsed": false,
     "input": [
      "names = ['bert', 'ernie', 'arne', 'oscar']\n",
      "# Construct and execute your code snippet here\n",
      "temp = iter(names)\n",
      "while True:\n",
      "    try:\n",
      "        name = next(temp)\n",
      "    except StopIteration:\n",
      "        del temp\n",
      "        break\n",
      "    print(name)"
     ],
     "language": "python",
     "metadata": {},
     "outputs": [
      {
       "output_type": "stream",
       "stream": "stdout",
       "text": [
        "bert\n",
        "ernie\n",
        "arne\n",
        "oscar\n"
       ]
      }
     ],
     "prompt_number": 17
    },
    {
     "cell_type": "markdown",
     "metadata": {},
     "source": [
      ">> View a solution to the exercise and see its output by executing the cell below.  "
     ]
    },
    {
     "cell_type": "code",
     "collapsed": false,
     "input": [
      "!cat E06/for.py; echo; echo \"Script Output:\"; echo; python3 E06/for.py"
     ],
     "language": "python",
     "metadata": {},
     "outputs": [
      {
       "output_type": "stream",
       "stream": "stdout",
       "text": [
        "names = ['bert', 'ernie', 'arne', 'oscar']\r\n",
        "\r\n",
        "# emulate \"for name in names:\"\r\n",
        "# temp is our temporary \"internal\" iterator\r\n",
        "temp = iter(names)          # create an iterator over our iterable\r\n",
        "while True:\r\n",
        "    try:\r\n",
        "        name = next(temp)   # get the 'next' value from the iterator\r\n",
        "    except StopIteration:  # got to the end of the iterator's stream\r\n",
        "        del temp           # we no longer need the exhausted iterator\r\n",
        "        break              # exit loop\r\n",
        "    # loop body goes here\r\n",
        "    print(name)\r\n",
        "        \r\n",
        "Script Output:\r\n",
        "\r\n"
       ]
      },
      {
       "output_type": "stream",
       "stream": "stdout",
       "text": [
        "bert\r\n",
        "ernie\r\n",
        "arne\r\n",
        "oscar\r\n"
       ]
      }
     ],
     "prompt_number": 16
    },
    {
     "cell_type": "markdown",
     "metadata": {},
     "source": [
      "<a href=\"#top\">back to top</a>"
     ]
    },
    {
     "cell_type": "markdown",
     "metadata": {},
     "source": [
      "<dt id=\"other\">\n",
      "## Other Support for Iteration\n",
      "> Built-in functions such as **<i>max()</i>** and **<i>min()</i>** can take a single **iterable** (and consequently, **iterator**) argument and will return the largest or smallest element.  \n",
      "The **in** and **not in** operators also support iterators:  \n",
      ">> **X in iterator** is true if **X** is found in the stream returned by the iterator.  \n",
      "You\u2019ll run into obvious problems **if the iterator is infinite**:  \n",
      "\n",
      ">> * **max()**, **min()**, and **not in** will never return, and \n",
      ">> * if the element **X** never appears in the stream, the **in** operator won\u2019t return either."
     ]
    },
    {
     "cell_type": "code",
     "collapsed": false,
     "input": [
      "names = ['Wilma', 'Betty', 'Barney', 'Fred']\n",
      "N = iter(names)\n",
      "max(N)"
     ],
     "language": "python",
     "metadata": {},
     "outputs": [
      {
       "output_type": "pyout",
       "prompt_number": 22,
       "text": [
        "'Wilma'"
       ]
      }
     ],
     "prompt_number": 22
    },
    {
     "cell_type": "markdown",
     "metadata": {},
     "source": [
      "> An example of an **infinite iterator** can be created by the function **count()** in the **itertools** module."
     ]
    },
    {
     "cell_type": "code",
     "collapsed": false,
     "input": [
      "import itertools\n",
      "counter = itertools.count()"
     ],
     "language": "python",
     "metadata": {},
     "outputs": [],
     "prompt_number": 23
    },
    {
     "cell_type": "markdown",
     "metadata": {},
     "source": [
      "> Now, execute the following to your hearts content:"
     ]
    },
    {
     "cell_type": "code",
     "collapsed": false,
     "input": [
      "next(counter)"
     ],
     "language": "python",
     "metadata": {},
     "outputs": [
      {
       "output_type": "pyout",
       "prompt_number": 301,
       "text": [
        "277"
       ]
      }
     ],
     "prompt_number": 301
    },
    {
     "cell_type": "markdown",
     "metadata": {},
     "source": [
      "> Note that it wasn't necessary to use  \n",
      "\n",
      "        >>> import itertools\n",
      "        >>> counter = iter(itertools.count())  \n",
      "        >>> next(counter)\n",
      "\n",
      "> because **count()** already created and returned an **iterator**.\n",
      "\n",
      ">Note, also, that it is only possible to go **forward** in an iterator;  there is no way to get the previous element, reset the iterator, or make a copy of it.  \n",
      "Iterator objects can optionally provide these additional capabilities, but the **iterator protocol** does not specify it.  \n",
      "Functions may therefore consume all of the iterator\u2019s output, and if the same stream is required again, a new iterator must be created."
     ]
    },
    {
     "cell_type": "markdown",
     "metadata": {},
     "source": [
      "<a href=\"#top\">back to top</a>"
     ]
    },
    {
     "cell_type": "markdown",
     "metadata": {},
     "source": [
      "<dt id=\"generators\">\n",
      "## Generators and Generator Functions\n",
      "\n",
      "> Consider the following function:"
     ]
    },
    {
     "cell_type": "code",
     "collapsed": false,
     "input": [
      "def say_hello():\n",
      "    '''Say 'Hello there, world!'- one word per iteration\n",
      "    \n",
      "        >>> for i in say_hello():\n",
      "        ...     print(i)\n",
      "        Hello\n",
      "        there,\n",
      "        world!\n",
      "    '''\n",
      "    yield \"Hello\"\n",
      "    yield \"there,\"\n",
      "    yield \"world!\""
     ],
     "language": "python",
     "metadata": {},
     "outputs": [],
     "prompt_number": 302
    },
    {
     "cell_type": "code",
     "collapsed": false,
     "input": [
      "for i in say_hello():\n",
      "    print(i)"
     ],
     "language": "python",
     "metadata": {},
     "outputs": [
      {
       "output_type": "stream",
       "stream": "stdout",
       "text": [
        "Hello\n",
        "there,\n",
        "world!\n"
       ]
      }
     ],
     "prompt_number": 303
    },
    {
     "cell_type": "markdown",
     "metadata": {},
     "source": [
      "> ### How it works:\n",
      ">> The difference between this function and ones we have previously seen, is that it doesn't have a **return** statement, but **does** have a **yield** statement.  \n",
      "\n",
      "<dt id=\"yield\">\n",
      "> <h2>Semantics - <u>yield</u></h2>  \n",
      "\n",
      ">>The semantics of the Python **yield** statement is:\n",
      "\n",
      ">> * it is only used within a **generator function**\n",
      "* the **function code** executes until it encounters a **yield** statement,  \n",
      "* the **yield** temporarily suspends processing, remembering the location and execution state (including local variables and pending try-statements),\n",
      "* it returns the value after the **yield** keyword,\n",
      "* each subsequent invocation of the function resumes execution immediately after the **yield** from which it returned on the previous invocation (in contrast to functions which start fresh on every invocation).  \n",
      "\n",
      ">> The **yield** statement is only used when defining a **generator function**, and is only used in the body of the generator function.  "
     ]
    },
    {
     "cell_type": "markdown",
     "metadata": {},
     "source": [
      "<dt id=\"genfunc\">\n",
      "> <h2>Definition - <u>generator function</u></h2>\n",
      ">> A function which **returns a generator**.  \n",
      "The **generator** executes the code in the function's body, following the semantics of **yield** described above.\n",
      "It looks like a normal function except that it contains **yield** statements for producing a series a values usable in a for-loop or that can be retrieved one at a time with the **next()** function.  \n",
      "Each **yield** temporarily suspends processing, remembering the location execution state (including local variables and pending try-statements).  \n",
      "When the generator resumes, it picks-up where it left-off (in contrast to functions which start fresh on every invocation).  \n",
      "\n",
      ">> <b>Using a <u>yield</u> statement in a <u>function definition</u> is sufficient to cause that definition to create a <u>generator function</u> instead of a normal function.</b>"
     ]
    },
    {
     "cell_type": "code",
     "collapsed": false,
     "input": [
      "type(say_hello)"
     ],
     "language": "python",
     "metadata": {},
     "outputs": [
      {
       "output_type": "pyout",
       "prompt_number": 304,
       "text": [
        "builtins.function"
       ]
      }
     ],
     "prompt_number": 304
    },
    {
     "cell_type": "markdown",
     "metadata": {},
     "source": [
      "> The above tells us that **say_hello** is a function."
     ]
    },
    {
     "cell_type": "code",
     "collapsed": false,
     "input": [
      "say_hello()"
     ],
     "language": "python",
     "metadata": {},
     "outputs": [
      {
       "output_type": "pyout",
       "prompt_number": 305,
       "text": [
        "<generator object say_hello at 0xb66a6fa4>"
       ]
      }
     ],
     "prompt_number": 305
    },
    {
     "cell_type": "markdown",
     "metadata": {},
     "source": [
      "> Executing the function **say_hello()** returns a **generator** object"
     ]
    },
    {
     "cell_type": "markdown",
     "metadata": {},
     "source": [
      "<a href=\"#top\">back to top</a>"
     ]
    },
    {
     "cell_type": "markdown",
     "metadata": {},
     "source": [
      "<dt id=\"gen\">\n",
      "> <h2>Definition - <u>generator</u></h2>\n",
      ">> A  <u><b>generator</b> is an **iterator**</u> whose stream of values is provided by the code from a **generator function** or **generator expression**.  \n",
      "To distinguish it from other iterators, it is occassionally referred to as a <b><u>generator iterator</u></b>.  The usage is rare and only mentioned here so you recognize it if you should run into it."
     ]
    },
    {
     "cell_type": "code",
     "collapsed": false,
     "input": [
      "dir(say_hello)"
     ],
     "language": "python",
     "metadata": {},
     "outputs": [
      {
       "output_type": "pyout",
       "prompt_number": 306,
       "text": [
        "['__annotations__',\n",
        " '__call__',\n",
        " '__class__',\n",
        " '__closure__',\n",
        " '__code__',\n",
        " '__defaults__',\n",
        " '__delattr__',\n",
        " '__dict__',\n",
        " '__dir__',\n",
        " '__doc__',\n",
        " '__eq__',\n",
        " '__format__',\n",
        " '__ge__',\n",
        " '__get__',\n",
        " '__getattribute__',\n",
        " '__globals__',\n",
        " '__gt__',\n",
        " '__hash__',\n",
        " '__init__',\n",
        " '__kwdefaults__',\n",
        " '__le__',\n",
        " '__lt__',\n",
        " '__module__',\n",
        " '__name__',\n",
        " '__ne__',\n",
        " '__new__',\n",
        " '__qualname__',\n",
        " '__reduce__',\n",
        " '__reduce_ex__',\n",
        " '__repr__',\n",
        " '__setattr__',\n",
        " '__sizeof__',\n",
        " '__str__',\n",
        " '__subclasshook__']"
       ]
      }
     ],
     "prompt_number": 306
    },
    {
     "cell_type": "markdown",
     "metadata": {},
     "source": [
      "> Notice there is no **__iter__** nor **__next__**."
     ]
    },
    {
     "cell_type": "code",
     "collapsed": false,
     "input": [
      "hi = say_hello()\n",
      "type(hi)"
     ],
     "language": "python",
     "metadata": {},
     "outputs": [
      {
       "output_type": "pyout",
       "prompt_number": 8,
       "text": [
        "builtins.generator"
       ]
      }
     ],
     "prompt_number": 8
    },
    {
     "cell_type": "markdown",
     "metadata": {},
     "source": [
      "> The value returned by **say_hello()** is a **generator** and as you see by executing the following cell, it DOES have **__iter__** and **__next__**."
     ]
    },
    {
     "cell_type": "code",
     "collapsed": false,
     "input": [
      "dir(hi)"
     ],
     "language": "python",
     "metadata": {},
     "outputs": [
      {
       "ename": "NameError",
       "evalue": "name 'hi' is not defined",
       "output_type": "pyerr",
       "traceback": [
        "\u001b[0;31m---------------------------------------------------------------------------\u001b[0m\n\u001b[0;31mNameError\u001b[0m                                 Traceback (most recent call last)",
        "\u001b[0;32m<ipython-input-309-cff078c8c361>\u001b[0m in \u001b[0;36m<module>\u001b[0;34m()\u001b[0m\n\u001b[0;32m----> 1\u001b[0;31m \u001b[0mdir\u001b[0m\u001b[0;34m(\u001b[0m\u001b[0mhi\u001b[0m\u001b[0;34m)\u001b[0m\u001b[0;34m\u001b[0m\u001b[0m\n\u001b[0m",
        "\u001b[0;31mNameError\u001b[0m: name 'hi' is not defined"
       ]
      }
     ],
     "prompt_number": 309
    },
    {
     "cell_type": "markdown",
     "metadata": {},
     "source": [
      "> By executing the following code cell four times (until it raises an exception), we see that the **generator** obeys the **iterator protocol** ... and hence IS an **iterator**."
     ]
    },
    {
     "cell_type": "code",
     "collapsed": false,
     "input": [
      "next(hi)"
     ],
     "language": "python",
     "metadata": {},
     "outputs": [
      {
       "ename": "NameError",
       "evalue": "name 'hi' is not defined",
       "output_type": "pyerr",
       "traceback": [
        "\u001b[0;31m---------------------------------------------------------------------------\u001b[0m\n\u001b[0;31mNameError\u001b[0m                                 Traceback (most recent call last)",
        "\u001b[0;32m<ipython-input-312-d982fc8c5175>\u001b[0m in \u001b[0;36m<module>\u001b[0;34m()\u001b[0m\n\u001b[0;32m----> 1\u001b[0;31m \u001b[0mnext\u001b[0m\u001b[0;34m(\u001b[0m\u001b[0mhi\u001b[0m\u001b[0;34m)\u001b[0m\u001b[0;34m\u001b[0m\u001b[0m\n\u001b[0m",
        "\u001b[0;31mNameError\u001b[0m: name 'hi' is not defined"
       ]
      }
     ],
     "prompt_number": 312
    },
    {
     "cell_type": "markdown",
     "metadata": {},
     "source": [
      "> ### Here is another example of a generator function\n",
      "This one creates a list of words (which is itself iterable) and returns them one at a time:"
     ]
    },
    {
     "cell_type": "code",
     "collapsed": false,
     "input": [
      "def say_message(message):\n",
      "    '''Generator to echo input message, one word per iteration\n",
      "    \n",
      "    Precondition:  message is a string of 'words'\n",
      "    Postcondition:  returns next word in string on each invocation\n",
      "                    generates StopIteration exception upon exit\n",
      "                    \n",
      "        >>> echo = say_message(\"Hello, there!\")\n",
      "        >>> next(echo)\n",
      "        'Hello,'\n",
      "        >>> next(echo)\n",
      "        'there!'\n",
      "        >>> next(echo)\n",
      "        Traceback (most recent call last):\n",
      "            ...\n",
      "        StopIteration\n",
      "        \n",
      "        >>> for i in say_message(\"Hello there, world!\"):\n",
      "        ...     print(i)\n",
      "        Hello\n",
      "        there,\n",
      "        world!\n",
      "        \n",
      "        \n",
      "    '''\n",
      "    words = message.split()\n",
      "    for word in words:\n",
      "        yield word"
     ],
     "language": "python",
     "metadata": {},
     "outputs": [],
     "prompt_number": 313
    },
    {
     "cell_type": "markdown",
     "metadata": {},
     "source": [
      "> ### Exercise 2: Experiment with say_message()  \n",
      "\n",
      ">> Construct your own cells and experiment with the above example:  \n",
      "\n",
      ">> * predict and then look at what **type()** and **dir()** return for the function,  \n",
      "* predict and then look at what **type()** and **dir()** return for the function's return value, and  \n",
      "* experiment with creating generators by providing the function with different actual parameters and assigning the result to an identifier:\n",
      ">>> * using **next()** on the generator\n",
      "* using the generator in a **for** statement."
     ]
    },
    {
     "cell_type": "code",
     "collapsed": false,
     "input": [
      "echo = say_message(\"Are we done yet??\")"
     ],
     "language": "python",
     "metadata": {},
     "outputs": [],
     "prompt_number": 314
    },
    {
     "cell_type": "code",
     "collapsed": false,
     "input": [
      "for word in say_message(\"Yup... we be done!\"):\n",
      "    print(word)"
     ],
     "language": "python",
     "metadata": {},
     "outputs": [
      {
       "output_type": "stream",
       "stream": "stdout",
       "text": [
        "Yup...\n",
        "we\n",
        "be\n",
        "done!\n"
       ]
      }
     ],
     "prompt_number": 315
    },
    {
     "cell_type": "markdown",
     "metadata": {},
     "source": [
      "> ### Here is another example of a generator function that creates an infinite iterator"
     ]
    },
    {
     "cell_type": "code",
     "collapsed": false,
     "input": [
      "def fib():\n",
      "    '''Generate the fibonacci sequence ... one value per iteration\n",
      "    \n",
      "        >>> fibs = []\n",
      "        >>> fibber = fib()\n",
      "        >>> for i in range(10):\n",
      "        ...     fibs.append(next(fibber))\n",
      "        >>> fibs\n",
      "        [0, 1, 1, 2, 3, 5, 8, 13, 21, 34]\n",
      "       \n",
      "    '''\n",
      "    f1, f2 = 0, 1\n",
      "    while True:\n",
      "        yield f1\n",
      "        f1, f2 = f2, f1 + f2"
     ],
     "language": "python",
     "metadata": {},
     "outputs": [],
     "prompt_number": 316
    },
    {
     "cell_type": "code",
     "collapsed": false,
     "input": [
      "dir(fib)"
     ],
     "language": "python",
     "metadata": {},
     "outputs": [
      {
       "output_type": "pyout",
       "prompt_number": 317,
       "text": [
        "['__annotations__',\n",
        " '__call__',\n",
        " '__class__',\n",
        " '__closure__',\n",
        " '__code__',\n",
        " '__defaults__',\n",
        " '__delattr__',\n",
        " '__dict__',\n",
        " '__dir__',\n",
        " '__doc__',\n",
        " '__eq__',\n",
        " '__format__',\n",
        " '__ge__',\n",
        " '__get__',\n",
        " '__getattribute__',\n",
        " '__globals__',\n",
        " '__gt__',\n",
        " '__hash__',\n",
        " '__init__',\n",
        " '__kwdefaults__',\n",
        " '__le__',\n",
        " '__lt__',\n",
        " '__module__',\n",
        " '__name__',\n",
        " '__ne__',\n",
        " '__new__',\n",
        " '__qualname__',\n",
        " '__reduce__',\n",
        " '__reduce_ex__',\n",
        " '__repr__',\n",
        " '__setattr__',\n",
        " '__sizeof__',\n",
        " '__str__',\n",
        " '__subclasshook__']"
       ]
      }
     ],
     "prompt_number": 317
    },
    {
     "cell_type": "markdown",
     "metadata": {},
     "source": [
      "> No __next__ ... not an iterator.  No __iter__ ... not an iterable."
     ]
    },
    {
     "cell_type": "code",
     "collapsed": false,
     "input": [
      "type(fib)"
     ],
     "language": "python",
     "metadata": {},
     "outputs": [
      {
       "output_type": "pyout",
       "prompt_number": 318,
       "text": [
        "builtins.function"
       ]
      }
     ],
     "prompt_number": 318
    },
    {
     "cell_type": "markdown",
     "metadata": {},
     "source": [
      "> OK ... we knew that.  \n",
      "\n",
      "> So, lets invoke the **fib** function and assign its output (a **generator**) to **fibber**."
     ]
    },
    {
     "cell_type": "code",
     "collapsed": false,
     "input": [
      "fibber = fib()\n",
      "dir(fibber)"
     ],
     "language": "python",
     "metadata": {},
     "outputs": [
      {
       "output_type": "pyout",
       "prompt_number": 319,
       "text": [
        "['__class__',\n",
        " '__delattr__',\n",
        " '__dir__',\n",
        " '__doc__',\n",
        " '__eq__',\n",
        " '__format__',\n",
        " '__ge__',\n",
        " '__getattribute__',\n",
        " '__gt__',\n",
        " '__hash__',\n",
        " '__init__',\n",
        " '__iter__',\n",
        " '__le__',\n",
        " '__lt__',\n",
        " '__name__',\n",
        " '__ne__',\n",
        " '__new__',\n",
        " '__next__',\n",
        " '__reduce__',\n",
        " '__reduce_ex__',\n",
        " '__repr__',\n",
        " '__setattr__',\n",
        " '__sizeof__',\n",
        " '__str__',\n",
        " '__subclasshook__',\n",
        " 'close',\n",
        " 'gi_code',\n",
        " 'gi_frame',\n",
        " 'gi_running',\n",
        " 'send',\n",
        " 'throw']"
       ]
      }
     ],
     "prompt_number": 319
    },
    {
     "cell_type": "markdown",
     "metadata": {},
     "source": [
      "> Ahh ... there's the **__next__** ... and the **__iter__**, too.  **fibber** is an iterator!"
     ]
    },
    {
     "cell_type": "code",
     "collapsed": false,
     "input": [
      "next(fibber)"
     ],
     "language": "python",
     "metadata": {},
     "outputs": [
      {
       "output_type": "pyout",
       "prompt_number": 336,
       "text": [
        "987"
       ]
      }
     ],
     "prompt_number": 336
    },
    {
     "cell_type": "markdown",
     "metadata": {},
     "source": [
      "> Guess what the following will do.  \n",
      "\n",
      "> (If you execute it, you will need to interrupt your ipython kernel using the control on the task bar... because you won't have enough time to wait for the answer!  There are infinitely many numbers to add up!).  \n",
      "Note, however, that the summation would begin from where you left off with the cell above, since the first numbers in the iterator's stream are \"used up\"."
     ]
    },
    {
     "cell_type": "code",
     "collapsed": false,
     "input": [
      "sum(fibber)"
     ],
     "language": "python",
     "metadata": {},
     "outputs": []
    },
    {
     "cell_type": "markdown",
     "metadata": {},
     "source": [
      "> ### Exercise 3: Squares Generator\n",
      "\n",
      ">> Construct and test a **generator function** that returns a **generator** producing the stream of perfect squares.  (I.e. 0, 1, 4, 9, 16, ...)"
     ]
    },
    {
     "cell_type": "code",
     "collapsed": false,
     "input": [],
     "language": "python",
     "metadata": {},
     "outputs": []
    },
    {
     "cell_type": "markdown",
     "metadata": {},
     "source": [
      "> ### Exercise 4: Produce a stream of words\n",
      "\n",
      ">> Write an generator function **words(**[Iterable_of_strings]**)** whose parameter could be any iterable of strings containing white-space-separated \"word\"s.  (Eg. a list or tuple of strings, a text file, etc.)\n",
      ">> Define \"word\" to be any string of printing characters having no intervening white space.  \n",
      "**words()** should return a generator that produces a stream of \"word\"s in the input."
     ]
    },
    {
     "cell_type": "markdown",
     "metadata": {},
     "source": [
      "> ### Exercise 5: Produce a stream of \"stripped\" words\n",
      ">> Modify the function **words()** above to produce \"stripped words\" from the input stream, where a \"stripped word\" is as above, with all non-alphabetic characters removed from either end so that it begins and ends with an alphabetic character.  \n",
      "Eg. The input ['^This i=8', '+$(*%^ a', '', '-jack-o-lantern-'] should produce the stream of words 'This', 'i', 'a', 'jack-o-lantern'\n",
      "\n",
      ">> Consider constructing a function to do the stripping or use the **re** module."
     ]
    },
    {
     "cell_type": "markdown",
     "metadata": {},
     "source": [
      "<dt id=\"final\">\n",
      "> ## A Final Word\n",
      ">> * In the above examples, we noted the absence of **__next__** or **__iter__** in the output of dir(say_hello), dir(say_message), and dir(fib) ... but their presence in dir(hi) and dir(fibber).  \n",
      "* A generator function is neither an iterable, nor a generator.  However, upon invocation, it produces a generator ... which is an iterator.  \n",
      "* All generators are iterators.  However, not all iterators are generators."
     ]
    },
    {
     "cell_type": "markdown",
     "metadata": {},
     "source": [
      "<a href=\"#top\">back to top</a>"
     ]
    }
   ],
   "metadata": {}
  }
 ]
}