{
 "metadata": {
  "name": "L06.3 - Debug Statements"
 },
 "nbformat": 3,
 "nbformat_minor": 0,
 "worksheets": [
  {
   "cells": [
    {
     "cell_type": "markdown",
     "metadata": {},
     "source": [
      "# Lesson 6.3 - Debugging Statements  \n",
      "#### How often has this happened to you:  \n",
      "> * You have an error somewhere in your script  \n",
      "* You decide to print out intermediate values from somewhere in your program  \n",
      "* You want to determine if a particular spot in a loop is reached before your program dies,\n",
      "    * so you put in **another** print statement that says, \"I got here\",\n",
      "    * you add \"++++\" to the front of the output string so that you can distinguish it from the one you put \"----\" in front of,\n",
      "* You continue this process, and\n",
      "* Pretty soon, you discover that you have so much junk printing on the screen you can't determine what is important.\n",
      "\n",
      "> **THEN**:  When it's time to submit your completed program,  \n",
      "\n",
      "> * You try to remove all these ugly output statements from your code\n",
      "* You end up \n",
      "    * forgetting to remove some of those ugly print statements, and/or\n",
      "    * removing one or more print statements that you NEED in the program, and/or\n",
      "    * you are in a hurry, introduce syntax errors in your haste, and submit a non-functional script because you didn't retest."
     ]
    },
    {
     "cell_type": "markdown",
     "metadata": {},
     "source": [
      "#### Let's analyze where things went wrong.  \n",
      "In the process, we'll determine how you can improve your debugging experience and hopefully clean up your code.  \n",
      "> * Debug messages get mixed with script output -  \n",
      "Write debug messages to **sys.stderr** so they can be separated from output written to **stdout**, if necessary.  \n",
      "<br>\n",
      "> * Debug messages are indistinguishable from each other.  \n",
      "Include a **meaningful message, including variable names and values**, in your debug statement.  \n",
      "<br>\n",
      "> * You end up searching your code for where the debug message was generated.  \n",
      "Include the location, including **function name and line number** in the error message.  \n",
      "<br>\n",
      "> * When it's time to remove your debug statements from your code, you need to inspect every **print** to determine if it application code or debug message.  \n",
      "Create a **_debug** function that performs the output for you. Then\n",
      "    * it's easier to locate and remove the debug lines\n",
      "    * if nicely done and not excessive, they can stay in your code for when they're needed, later\n",
      "    * you can use a switch to turn debugging on and off  "
     ]
    },
    {
     "cell_type": "markdown",
     "metadata": {},
     "source": [
      "#### You're saying, \"the reason I don't do all that in the first place is it takes too much time.\"  \n",
      "Well, consider the following function definition ... and probably learn a little Python in the process."
     ]
    },
    {
     "cell_type": "code",
     "collapsed": false,
     "input": [
      "def _debug(mesg = 'I got here'):\n",
      "    import inspect\n",
      "    from sys import stderr\n",
      "    # Get the frame info for the caller\n",
      "    frame = inspect.stack()[1]\n",
      "    # Pick out name and line number, format, and complain\n",
      "    if DEBUG:\n",
      "        print(\"{}:{:d}:: \".format(frame[3], frame[2]) + mesg, file=stderr)\n",
      "\n",
      "DEBUG = True\n",
      "_debug(\"This an error message\")    "
     ],
     "language": "python",
     "metadata": {},
     "outputs": [
      {
       "output_type": "stream",
       "stream": "stderr",
       "text": [
        "<module>:11:: This an error message\n"
       ]
      }
     ],
     "prompt_number": 2
    },
    {
     "cell_type": "markdown",
     "metadata": {},
     "source": [
      "> **Analysis**  \n",
      "> The **inspect** module provides several useful functions to help get information about live objects such as modules, classes, methods, functions, tracebacks, frame objects, and code objects.  In particular,  \n",
      "\n",
      "> The function **inspect.stack()** returns a **list** of information from all the frames in Python's execution stack.  \n",
      "\n",
      "> * The first item in the list is the info for the top (current) execution frame, etc., on down the stack.  \n",
      "> * The information for each frame is also a **list**.  \n",
      "The third and fourth items (with indices 2, and 3) are line number in script and frame name, resp.  \n",
      "<br>\n",
      "SO ...  \n",
      "> **inspect.stack()[1][3]** is the name of the frame that called the **_debug** function (i.e. the frame that contained the **_debug** invocation line.  \n",
      "> **inspect.stack()[1][2]** is the line number in the script that contains the invocation, itself.  \n",
      "<br>\n",
      "\n",
      "> The string  \n",
      ">> **\"{}:{:d}:: \".format(frame[3], frame[2])**  \n",
      "\n",
      "> becomes  \n",
      ">> <b>\"<i>function_name:line_num</i>::\"</b>  \n",
      "\n",
      "> and is supplied by the **_debug()** function.\n",
      "\n",
      "> The **_debug()** function does the work of identifying the current function and the line number of the debug invocation statement for you.  \n",
      "You simply supply the string containing the information you want displayed and the **_debug** function does the rest.  \n",
      "If you don't supply a message, the function supplies a \"dummy\" (literally) for you.\n",
      "\n",
      "**I'm hearing, \"Yeah, great ... but** I have to print out several values and I just don't want to take the time to build the formatted string.  \n",
      "You're right, actually.  You have something on your mind and don't need to be distracted by muddling around, formatting an error string.\n",
      "\n",
      "**Let's make a little alteration to the function:**"
     ]
    },
    {
     "cell_type": "code",
     "collapsed": false,
     "input": [
      "DEBUG = True\n",
      "def _debug(mesg = 'I got here', *args):\n",
      "    import inspect\n",
      "    from sys import stderr\n",
      "    frame = inspect.stack()[1]\n",
      "    if DEBUG:\n",
      "        print(\"{}:{:d}:: \".format(frame[3], frame[2]), mesg, *args, file=stderr)\n",
      "\n",
      "_debug()\n",
      "_debug(\"This an error message\")\n",
      "name, age = \"fred\", 27\n",
      "_debug(name, age)\n",
      "_debug(age, name)\n",
      "_debug(\"name =\", name, \"; age =\", age)\n",
      "_debug(\"Just returned from call with values:\", \"name =\", name, \"; age =\", age)\n",
      "\n",
      "DEBUG = False\n",
      "_debug(\"Do you hear me???\")"
     ],
     "language": "python",
     "metadata": {},
     "outputs": [
      {
       "output_type": "stream",
       "stream": "stderr",
       "text": [
        "<module>:9::  I got here\n",
        "<module>:10::  This an error message\n",
        "<module>:12::  fred 27\n",
        "<module>:13::  27 fred\n",
        "<module>:14::  name = fred ; age = 27\n",
        "<module>:15::  Just returned from call with values: name = fred ; age = 27\n"
       ]
      }
     ],
     "prompt_number": 3
    },
    {
     "cell_type": "markdown",
     "metadata": {},
     "source": [
      "> **Analysis**  \n",
      "The change, here, is the **formal parameter list** for the **_debug()** function and the **actual parameter list** in the call to the **print** function.\n",
      "\n",
      "> The mechanics of the formal parameter list in the  **_debug()** function heading is that the **non-keyword** actual parameters are assigned to the formal parameters in order:  \n",
      "\n",
      "> * the first actual parameter is assigned to **mesg**,  \n",
      "> * all the other **non-keyword** actual parameters form a tuple which is assigned to the formal parameter **args**. (the **\\*** forces the tuple packing),  \n",
      "> * if there are no actual parameters, **mesg** retains its default value and **args** is empty,  \n",
      "> * if there is exactly one actual parameter, it is assigned to **mesg** and **args** is empty,  \n",
      "> * if there are more than one actual parameter, the first is assigned to **mesg** and the rest are packed into **args**, in the order they appear in the actual parameter list.\n",
      "\n",
      "> The mechanics of the actual parameter list in the call to **print** is the reverse of the above.  \n",
      "\n",
      "> * the tuple **args** is unpacked (the **\\***, here, forces the unpacking),  \n",
      "> * the **print** function treats these additional parameters as more of its (variable number of) non-keyword parameters)."
     ]
    },
    {
     "cell_type": "markdown",
     "metadata": {},
     "source": [
      "**Now, that's getting real close, but** ... a couple problems still exist  \n",
      "> * This relies on the script providing a global identifier **DEBUG** and\n",
      "> * it needs to be copied into every script I write.\n",
      "\n",
      "Let's address these one at a time:  \n",
      "> * With respect to **DEBUG**  \n",
      ">> * True.  A little documentation in the file containing the function definition would be nice.  \n",
      "AND, the file containing the function should contain, right before the function definition, the line  \n",
      ">>>    **DEBUG = True**  \n",
      "\n",
      ">>    * Setting **DEBUG** to False, to turn debugging off, would be the programmer's responsibility.  \n",
      "\n",
      ">>    * **HOWEVER:  Point taken.**  We SHOULDN'T be assuming that some global indentifier **DEBUG** exists.  After all, we don't want our debug statement causing MORE problems.  \n",
      "The fix for this is in the final version, below.  \n",
      "It's simple: we check if the word 'DEBUG' is a key in the **globals** dict of our current namespace.\n",
      "\n",
      ">> * Now, the second point:  \n",
      "\n",
      ">>> * Code that is used across scripts should NOT be copied.  \n",
      "Imagine the maintenance nightmare that produces!  \n",
      "Create a **module** and **include** it in the scripts you want to use it in.\n",
      ">> * This introduces yet another issue:  \n",
      "Now, you may have multiple files in the product you deliver.  That leads to **constructing a Python Package** and is left for another time.  \n",
      "\n",
      "The above concerns would have been moot if this sort of capability were in the Python Standard Library.  \n",
      "Well, the **logging** module provides a much more sophisticated tool for categorizing and logging incidents.\n",
      "This is a little tool that may keep your code and debugging output cleaner and more managable.  I suggest it because I know that, for some, the other option is the scenario we started the Lesson with ... and hopefully, you learned a little Python along the way."
     ]
    },
    {
     "cell_type": "markdown",
     "metadata": {},
     "source": [
      "Our final **_debug()** function definition:"
     ]
    },
    {
     "cell_type": "code",
     "collapsed": false,
     "input": [
      "DEBUG = True\n",
      "\n",
      "def debug(mesg = 'I got here', *args):\n",
      "    import inspect\n",
      "    from sys import stderr\n",
      "    frame = inspect.stack()[1]\n",
      "    if 'DEBUG' not in globals().keys() or DEBUG:\n",
      "        print(\"{}:{:d}:: \".format(frame[3], frame[2]), mesg, *args, file=stderr)\n"
     ],
     "language": "python",
     "metadata": {},
     "outputs": [],
     "prompt_number": 4
    },
    {
     "cell_type": "markdown",
     "metadata": {},
     "source": [
      "NOTE:  \n",
      "Above, **globals()** returns the **'globals' dict** for the module in which the function **_debug()** was defined .. not the one from which it was called.  \n",
      "For this reason, you want to define **DEBUG** in the module you create and when you import, import the entire module, not just the function.  \n",
      "I.e. use **import debug** and then use **debug.debug( ...)** and **debug.DEBUG**  "
     ]
    },
    {
     "cell_type": "markdown",
     "metadata": {},
     "source": [
      "**Exercise 1:**  \n",
      "Construct and document a module named **debug.py** containing the definition of a function named **debug** and the definition of a symbolic constant **DEBUG** (set to True).\n",
      "Make sure that you follow PEP 257 in constructing **docstrings** in formatting your documentation.\n",
      "Import your module into an existing script and test it.\n",
      "\n",
      "**Exercise 2:**  \n",
      "Read the Python documentation and/or the linux man page for **pydoc**.\n",
      "Use pydoc to create a .html page with documentation for your **debug.py** module.\n",
      "\n",
      "**Exercise 3:**  \n",
      "Research the Python documentation and/or the Python man page on your linux system and/or the Web to learn how you can include an alternate search path for importing modules.\n",
      "Create you own private module library and add the **debug.py** module to it."
     ]
    }
   ],
   "metadata": {}
  }
 ]
}