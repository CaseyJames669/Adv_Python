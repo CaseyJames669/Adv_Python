{
 "metadata": {
  "name": "L06.4 dict and shelf"
 },
 "nbformat": 3,
 "nbformat_minor": 0,
 "worksheets": [
  {
   "cells": [
    {
     "cell_type": "heading",
     "level": 1,
     "metadata": {},
     "source": [
      "Lesson 6.4 dict and shelf"
     ]
    },
    {
     "cell_type": "heading",
     "level": 2,
     "metadata": {},
     "source": [
      "Dict use"
     ]
    },
    {
     "cell_type": "code",
     "collapsed": false,
     "input": [
      "cartoons = {}\n",
      "\n",
      "flintstones = {}\n",
      "popeye = {}\n",
      "\n",
      "cartoons['flintstones'] = flintstones\n",
      "cartoons['popeye'] = popeye"
     ],
     "language": "python",
     "metadata": {},
     "outputs": []
    },
    {
     "cell_type": "code",
     "collapsed": false,
     "input": [
      "flintstone_chars = ['fred', 'wilma', 'betty', 'barney']\n",
      "popeye_chars = ['popeye', 'olive oyl', \"swee'pea\", 'bluto']"
     ],
     "language": "python",
     "metadata": {},
     "outputs": []
    },
    {
     "cell_type": "code",
     "collapsed": false,
     "input": [
      "for name in flintstone_chars:\n",
      "    flintstones[name] = len(name)"
     ],
     "language": "python",
     "metadata": {},
     "outputs": []
    },
    {
     "cell_type": "markdown",
     "metadata": {},
     "source": [
      "Same as:"
     ]
    },
    {
     "cell_type": "code",
     "collapsed": false,
     "input": [
      "flintstones.update({x : len(x) for x in flintstone_chars})"
     ],
     "language": "python",
     "metadata": {},
     "outputs": []
    },
    {
     "cell_type": "code",
     "collapsed": false,
     "input": [
      "print(cartoons)"
     ],
     "language": "python",
     "metadata": {},
     "outputs": []
    },
    {
     "cell_type": "markdown",
     "metadata": {},
     "source": [
      "Add popeye_characters and the lengths of their names to the popeye dict"
     ]
    },
    {
     "cell_type": "code",
     "collapsed": false,
     "input": [],
     "language": "python",
     "metadata": {},
     "outputs": []
    },
    {
     "cell_type": "markdown",
     "metadata": {},
     "source": [
      "Display the contents of all the dicts"
     ]
    },
    {
     "cell_type": "code",
     "collapsed": false,
     "input": [],
     "language": "python",
     "metadata": {},
     "outputs": []
    },
    {
     "cell_type": "code",
     "collapsed": false,
     "input": [],
     "language": "python",
     "metadata": {},
     "outputs": []
    },
    {
     "cell_type": "heading",
     "level": 2,
     "metadata": {},
     "source": [
      "shelf Use"
     ]
    },
    {
     "cell_type": "markdown",
     "metadata": {},
     "source": [
      "Create an empty shelf for popeye characters"
     ]
    },
    {
     "cell_type": "code",
     "collapsed": false,
     "input": [
      "!rm -f E06/popeye.*"
     ],
     "language": "python",
     "metadata": {},
     "outputs": []
    },
    {
     "cell_type": "code",
     "collapsed": false,
     "input": [
      "import shelve\n",
      "pop_shelf = shelve.open('E06/popeye')"
     ],
     "language": "python",
     "metadata": {},
     "outputs": []
    },
    {
     "cell_type": "markdown",
     "metadata": {},
     "source": [
      "Add popeye characters and their name length to the <u>shelf</u> **pop_shelf**, just as you would if using a <u>dict</u>."
     ]
    },
    {
     "cell_type": "code",
     "collapsed": false,
     "input": [
      "flintstone_chars = ['fred', 'wilma', 'betty', 'barney']\n",
      "popeye_chars = ['popeye', 'olive oyl', \"swee'pea\", 'bluto']"
     ],
     "language": "python",
     "metadata": {},
     "outputs": []
    },
    {
     "cell_type": "code",
     "collapsed": false,
     "input": [
      "pop_shelf.update({x : len(x) for x in popeye_chars})"
     ],
     "language": "python",
     "metadata": {},
     "outputs": []
    },
    {
     "cell_type": "markdown",
     "metadata": {},
     "source": [
      "Look up the name length for **bluto**"
     ]
    },
    {
     "cell_type": "code",
     "collapsed": false,
     "input": [
      "pop_shelf['bluto']"
     ],
     "language": "python",
     "metadata": {},
     "outputs": []
    },
    {
     "cell_type": "markdown",
     "metadata": {},
     "source": [
      "Close the shelf just as you would close any other file"
     ]
    },
    {
     "cell_type": "code",
     "collapsed": false,
     "input": [
      "pop_shelf.close()"
     ],
     "language": "python",
     "metadata": {},
     "outputs": []
    },
    {
     "cell_type": "markdown",
     "metadata": {},
     "source": [
      "Restart your kernel, now, to remove all data from the notebook.  \n",
      "Reopen the shelf as **new_pop_shelf**  \n",
      "(Remember to import shelve)"
     ]
    },
    {
     "cell_type": "code",
     "collapsed": false,
     "input": [
      "import shelve\n",
      "new_pop_shelf = shelve.open('E06/popeye')"
     ],
     "language": "python",
     "metadata": {},
     "outputs": []
    },
    {
     "cell_type": "markdown",
     "metadata": {},
     "source": [
      "Retrieve the names and name lengths of the 'Popeye' characters from the shelf - use **for** and **print** a formatted version of each entry."
     ]
    },
    {
     "cell_type": "code",
     "collapsed": false,
     "input": [
      "for name in new_pop_shelf:\n",
      "    print('name: {:15s}len: {:2d}'.format(name, new_pop_shelf[name]))"
     ],
     "language": "python",
     "metadata": {},
     "outputs": []
    },
    {
     "cell_type": "markdown",
     "metadata": {},
     "source": [
      "Add the character 'whimpy' and the name length to the shelf"
     ]
    },
    {
     "cell_type": "code",
     "collapsed": false,
     "input": [
      "name = 'whimpy'\n",
      "new_pop_shelf[name] = len(name)"
     ],
     "language": "python",
     "metadata": {},
     "outputs": []
    },
    {
     "cell_type": "markdown",
     "metadata": {},
     "source": [
      "Print the entire document contents of the shelf"
     ]
    },
    {
     "cell_type": "code",
     "collapsed": false,
     "input": [
      "for item in new_pop_shelf.items():\n",
      "    print(item)"
     ],
     "language": "python",
     "metadata": {},
     "outputs": []
    },
    {
     "cell_type": "markdown",
     "metadata": {},
     "source": [
      "Change the value associated with 'bluto' by incrementing it by 10"
     ]
    },
    {
     "cell_type": "code",
     "collapsed": false,
     "input": [
      "new_pop_shelf['bluto'] += 10"
     ],
     "language": "python",
     "metadata": {},
     "outputs": []
    },
    {
     "cell_type": "markdown",
     "metadata": {},
     "source": [
      "Reprint the contents of the shelf"
     ]
    },
    {
     "cell_type": "code",
     "collapsed": false,
     "input": [],
     "language": "python",
     "metadata": {},
     "outputs": []
    },
    {
     "cell_type": "markdown",
     "metadata": {},
     "source": [
      "Close the shelf"
     ]
    },
    {
     "cell_type": "code",
     "collapsed": false,
     "input": [
      "new_pop_shelf.close()"
     ],
     "language": "python",
     "metadata": {},
     "outputs": []
    },
    {
     "cell_type": "markdown",
     "metadata": {},
     "source": [
      "Restart your kernel and then open and display the contents of your shelf."
     ]
    },
    {
     "cell_type": "code",
     "collapsed": false,
     "input": [
      "import shelve\n",
      "pop_shelf = shelve.open('E06/popeye')\n",
      "for item in pop_shelf.items():\n",
      "    print('name: {:15s}len: {:2d}'.format(*item))"
     ],
     "language": "python",
     "metadata": {},
     "outputs": []
    },
    {
     "cell_type": "raw",
     "metadata": {},
     "source": [
      "Record your observations here:\n"
     ]
    },
    {
     "cell_type": "heading",
     "level": 2,
     "metadata": {},
     "source": [
      "Mutable values in a shelf"
     ]
    },
    {
     "cell_type": "markdown",
     "metadata": {},
     "source": [
      "Create a new database file and shelf named **cartoons**  \n",
      "(note ... the names of the file and the shelf need not match)"
     ]
    },
    {
     "cell_type": "code",
     "collapsed": false,
     "input": [
      "!rm -f E06/cartoons.*"
     ],
     "language": "python",
     "metadata": {},
     "outputs": [],
     "prompt_number": 1
    },
    {
     "cell_type": "code",
     "collapsed": false,
     "input": [
      "import shelve\n",
      "cartoons = shelve.open('E06/cartoons')"
     ],
     "language": "python",
     "metadata": {},
     "outputs": [],
     "prompt_number": 2
    },
    {
     "cell_type": "markdown",
     "metadata": {},
     "source": [
      "Use the first code cell under **Dict Use** to populate your shelf with empty entries.  \n",
      "Repeat it and execute it below for completeness (though you could just as well executed if where it exists)"
     ]
    },
    {
     "cell_type": "code",
     "collapsed": false,
     "input": [
      "cartoons['flintstones'] = {}\n",
      "cartoons['popeye'] = {}\n",
      "\n",
      "flintstones = cartoons['flintstones']\n",
      "popeye = cartoons['popeye']"
     ],
     "language": "python",
     "metadata": {},
     "outputs": [],
     "prompt_number": 3
    },
    {
     "cell_type": "markdown",
     "metadata": {},
     "source": [
      "Print out the key:value pairs in the shelf"
     ]
    },
    {
     "cell_type": "code",
     "collapsed": false,
     "input": [
      "for toon in cartoons.items():\n",
      "    print(toon)"
     ],
     "language": "python",
     "metadata": {},
     "outputs": [
      {
       "output_type": "stream",
       "stream": "stdout",
       "text": [
        "('popeye', {})"
       ]
      },
      {
       "output_type": "stream",
       "stream": "stdout",
       "text": [
        "\n",
        "('flintstones', {})\n"
       ]
      }
     ],
     "prompt_number": 4
    },
    {
     "cell_type": "markdown",
     "metadata": {},
     "source": [
      "Now, we will be performing steps similar to the steps we performed in the examples above.  \n",
      "\n",
      "First, add flintstones characters and their name length to the **flintstone** dict."
     ]
    },
    {
     "cell_type": "code",
     "collapsed": false,
     "input": [
      "flintstone_chars = ['fred', 'wilma', 'betty', 'barney']\n",
      "popeye_chars = ['popeye', 'olive oyl', \"swee'pea\", 'bluto']"
     ],
     "language": "python",
     "metadata": {},
     "outputs": [],
     "prompt_number": 5
    },
    {
     "cell_type": "code",
     "collapsed": false,
     "input": [
      "flintstones.update({x : len(x) for x in flintstone_chars})"
     ],
     "language": "python",
     "metadata": {},
     "outputs": [],
     "prompt_number": 6
    },
    {
     "cell_type": "code",
     "collapsed": false,
     "input": [
      "for toon in cartoons.items():\n",
      "    print(toon)\n"
     ],
     "language": "python",
     "metadata": {},
     "outputs": [
      {
       "output_type": "stream",
       "stream": "stdout",
       "text": [
        "('popeye', {})\n",
        "('flintstones', {})\n"
       ]
      }
     ],
     "prompt_number": 7
    },
    {
     "cell_type": "markdown",
     "metadata": {},
     "source": [
      "HUH???  That didn't go quite like you may have expected.  \n",
      "> * When we updated the **flintstones** dict in the **dict Use** use example, the **cartoons['flintstones']** value in the **cartoons** dict reflected the update, as well.  \n",
      "> * In the **shelf Use** example, we were able to update the shelf.  \n",
      "\n",
      "The difference in this case is that **shelf** and the **dict** representations are entirely different.  Bring up the Python documention for **shelve** and read carefully the description of **shelve.open()**.  \n",
      "Pay particular attention to the discussion of the *writeback** keyword parameter.  \n",
      "\n",
      "> * Because of Python semantics, the **shelf** cannot determine when mutable persistent objects have been modified.   By default modified objects are written only when assigned to the shelf.  \n",
      "\n",
      ">> * In our example, the shelf could not determine that **cartoons['flintstones']** value had been modified by the assignment to the **flintstones** dict.\n",
      "* We could have remedied this reassinging the value:  **cartoons['flintstones'] = flintstones** after modifying the **flintstones** dict.  \n",
      "However, updating the disk file image every time a change is made can be time intensive if updates are regular.  \n",
      "* A solution is discussed in the next item.  \n",
      "\n",
      "> * Constant writing of large objects to the disk is time intensive. To address this,  \n",
      "\n",
      ">> * Set the **writeback** keyword parameter in the **shelve.open()** function to True.  \n",
      "* The effect is that all entries accessed are also cached in memory, and written back on and explicit **sync()** and on  **close()**.  \n",
      "* This 'solution' saves access and update times.  HOWEVER, the cost is high memory usage for large structures and long **close** times.  "
     ]
    },
    {
     "cell_type": "markdown",
     "metadata": {},
     "source": [
      "**The bottom line** is that if you modify a mutable value in the **shelf**, you must do one of the following:  \n",
      "> * Write the mutable value back to the shelf, or\n",
      "> * set the **writeback** keyword in **shelve.open()** to True and make sure to **close** the shelf before terminating the application.  \n",
      "If there is concern about the integrity of the shelf in the event that the application terminates abnormally, **sync()** should be used to synchonize the disk image with the cache at critical points."
     ]
    },
    {
     "cell_type": "markdown",
     "metadata": {},
     "source": [
      "So, lets try again. \n",
      "\n",
      "> * Close the **cartoons** shelf.  Then remove the disk file"
     ]
    },
    {
     "cell_type": "code",
     "collapsed": false,
     "input": [
      "!rm -f E06/cartoons.*"
     ],
     "language": "python",
     "metadata": {},
     "outputs": [],
     "prompt_number": 8
    },
    {
     "cell_type": "markdown",
     "metadata": {},
     "source": [
      "> * Create a shelf (and associated disk file), giving it the identifier **cartoons**. \n",
      "> * Set the **writeback** keyword parameter to **True** in the **shelve.open()** function.\n",
      "> * Give 'local names' to the shelf values ... thereby accessing the database and creating cached values"
     ]
    },
    {
     "cell_type": "code",
     "collapsed": false,
     "input": [
      "import shelve\n",
      "\n",
      "# Create a shelf ... this time with writeback enabled\n",
      "cartoons = shelve.open('E06/cartoons', writeback=True)\n",
      "\n",
      "# Initialize the shelf key:value pairs\n",
      "cartoons['flintstones'] = {}\n",
      "cartoons['popeye'] = {}\n",
      "\n",
      "# create local names \n",
      "# Cause the shelf items' values to be read and cached\n",
      "# This also creates local names for those items' values\n",
      "flintstones = cartoons['flintstones']\n",
      "popeye = cartoons['popeye']\n",
      "\n",
      "# #1 Display shelf contents (CACHED version)\n",
      "print(\"\\n#1)  Cached shelf items, fresh from shelf:\")\n",
      "for item in cartoons.items():\n",
      "    print(item)"
     ],
     "language": "python",
     "metadata": {},
     "outputs": [
      {
       "output_type": "stream",
       "stream": "stdout",
       "text": [
        "\n",
        "#1)  Cached shelf items, fresh from shelf:"
       ]
      },
      {
       "output_type": "stream",
       "stream": "stdout",
       "text": [
        "\n",
        "('popeye', {})\n",
        "('flintstones', {})\n"
       ]
      }
     ],
     "prompt_number": 9
    },
    {
     "cell_type": "markdown",
     "metadata": {},
     "source": [
      "> * Now assign values to the cached value for **cartoons['flintstones']**, using its 'local identifier'.  \n",
      "Print out the cache values"
     ]
    },
    {
     "cell_type": "code",
     "collapsed": false,
     "input": [
      "# Define our character lists\n",
      "flintstone_chars = ['fred', 'wilma', 'betty', 'barney']\n",
      "popeye_chars = ['popeye', 'olive oyl', \"swee'pea\", 'bluto']\n",
      "\n",
      "\n",
      "# change the local copy of the flintstones dict\n",
      "flintstones.update({x : len(x) for x in flintstone_chars})"
     ],
     "language": "python",
     "metadata": {},
     "outputs": [],
     "prompt_number": 10
    },
    {
     "cell_type": "code",
     "collapsed": false,
     "input": [
      "# #2 Display shelf cache contents after update\n",
      "print(\"\\n#2)  Cached shelf items after cache is updated:\")\n",
      "for item in cartoons.items():\n",
      "    print(item)"
     ],
     "language": "python",
     "metadata": {},
     "outputs": [
      {
       "output_type": "stream",
       "stream": "stdout",
       "text": [
        "\n",
        "#2)  Cached shelf items after cache is updated:\n",
        "('popeye', {})\n",
        "('flintstones', {'barney': 6, 'betty': 5, 'fred': 4, 'wilma': 5})\n"
       ]
      }
     ],
     "prompt_number": 11
    },
    {
     "cell_type": "code",
     "collapsed": false,
     "input": [
      "name = 'whimpy'\n",
      "flintstones[name] = len(name)"
     ],
     "language": "python",
     "metadata": {},
     "outputs": [],
     "prompt_number": 12
    },
    {
     "cell_type": "code",
     "collapsed": false,
     "input": [
      "# #3 Display shelf cache contents after update\n",
      "print(\"\\n#3)  Cached shelf items after cache is updated:\")\n",
      "for item in cartoons.items():\n",
      "    print(item)"
     ],
     "language": "python",
     "metadata": {},
     "outputs": [
      {
       "output_type": "stream",
       "stream": "stdout",
       "text": [
        "\n",
        "#3)  Cached shelf items after cache is updated:\n",
        "('popeye', {})\n",
        "('flintstones', {'whimpy': 6, 'barney': 6, 'betty': 5, 'fred': 4, 'wilma': 5})\n"
       ]
      }
     ],
     "prompt_number": 13
    },
    {
     "cell_type": "markdown",
     "metadata": {},
     "source": [
      "> * Close the shelf ... this synchronizes the cache with the disk image.  \n",
      "> * Reopen the file as a new shelf and display its contents."
     ]
    },
    {
     "cell_type": "code",
     "collapsed": false,
     "input": [
      "# Closing synchronizes the cache and disk images\n",
      "# So does synch()\n",
      "cartoons.close()\n",
      "\n",
      "# Reopen the file and create a shelf\n",
      "new_cartoons = shelve.open('E06/cartoons', writeback=True) \n",
      "\n",
      "# #4 Display shelf contents after reopen\n",
      "print(\"\\n#4)  Shelf items after reopen:\")\n",
      "for item in new_cartoons.items():\n",
      "    print(item)"
     ],
     "language": "python",
     "metadata": {},
     "outputs": [
      {
       "output_type": "stream",
       "stream": "stdout",
       "text": [
        "\n",
        "#4)  Shelf items after reopen:\n",
        "('popeye', {})\n",
        "('flintstones', {'whimpy': 6, 'barney': 6, 'wilma': 5, 'betty': 5, 'fred': 4})\n"
       ]
      }
     ],
     "prompt_number": 14
    },
    {
     "cell_type": "markdown",
     "metadata": {},
     "source": [
      "> * Ahh! That's what we wanted.  \n",
      "\n",
      "## A little more discussion  \n",
      "So, why do we bother creating local names to access the cache?  \n",
      "> * Well, for one, they are shorter to type out.\n",
      "> * More importantly, let's consider our **Corpus** class.  \n",
      "\n",
      ">> * It currently uses two dicts named **self._corpus** and **self._containsWord** or something similar.  They are not persistent and, each time the program is terminated and then restarted, all the data must be re-entered.  <p>\n",
      "\n",
      ">> * We COULD make a new class named **DBCorpus**.  \n",
      "We could change our **Corpus.__init__** to make both of these dicts be **values** (with appropriate keys) in a shelf, thus making their contents persistent.  \n",
      "That would become the **DBCorpus.__init__** method.  <p>\n",
      "\n",
      ">> * Each of the methods in our **Corpus** class access at least one of the above dicts.  That means a rewrite of each of the methods for the new class.  <p>\n",
      "\n",
      ">> * If we want to keep both versions of the Corpus, we have two bodies of nearly identical code (up to dict references).  \n",
      "Those accessor methods don't modify the data so pose no consistency issues, yet they need to be rewritten, as well.  <p>\n",
      "\n",
      ">> * Reinventing the wheel and having redundant code is not the OOP (object oriented programming) way.  \n",
      "It swells your code base, creates a maintenance nightmare, and is just plain ugly."
     ]
    },
    {
     "cell_type": "markdown",
     "metadata": {},
     "source": [
      "## Enter Subclassing (aka Inheritance)\n",
      "\n",
      "Continuing with our **Corpus** class ...  \n",
      "We will create a new class **DBCorpus** by **inheriting** its attributes from **Corpus** and modifying them as we need to:  \n",
      "\n",
      "> * We'll **override** the inherited **__init__()** method by providing one of our own.  \n",
      "\n",
      ">> * Ours will create a shelf to contain our dicts, AND\n",
      ">> * (This is the biggie!) it will give local names to the cached versions of the shelf values (the old **self._corpus** and **self._containsWord** dicts).  \n",
      "Doing this will allow all our inherited accessor methods to still function without change.  \n",
      "\n",
      "> * The other mutator method (**addDocument**) will also need to be overridden so that whenever a document is added we \"sync\" our cache with our disk image, using **sync()**.  \n",
      "This will protect us against losing updates to our database in the case of unexpected termination of our program.  \n",
      "* Other than that, nothing needs to be changed."
     ]
    },
    {
     "cell_type": "markdown",
     "metadata": {},
     "source": [
      "## Some Definitions  \n",
      "> * The **base class / superclass / parent class** is the class that is inherited **from**.  \n",
      "\n",
      "> * The **derived class / subclass / child class** is the class that inherits the attributes.  \n",
      "\n",
      "> * In our example, **Corpus** is the **superclass** and **DBCorpus** is the **subclass**."
     ]
    }
   ],
   "metadata": {}
  }
 ]
}