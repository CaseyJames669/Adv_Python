{
 "metadata": {
  "name": "L10 - Classes"
 },
 "nbformat": 3,
 "nbformat_minor": 0,
 "worksheets": [
  {
   "cells": [
    {
     "cell_type": "markdown",
     "metadata": {},
     "source": [
      "<dt id=\"top\">\n",
      "# Lesson 10:  Classes  \n",
      "## Definitions:  \n",
      "\n",
      "<ul>\n",
      "    <li><a href=\"#adt\">Abstract Data Type</a>\n",
      "    <li><a href=\"#class\">Class</a>\n",
      "    <li><a href=\"#object\">Object</a>\n",
      "    <li><a href=\"#attrib\">Instance Attribute</a>\n",
      "</ul>"
     ]
    },
    {
     "cell_type": "markdown",
     "metadata": {},
     "source": [
      "## Abstract Data Types and Class Specification\n",
      "<dt id=\"adt\">\n",
      "### Definition - Abstract Data Type\n",
      "An **abstract data type (ADT)** is  \n",
      "> * the description of data and\n",
      "* the description of operations on that data,\n",
      "* without regard to implementation.\n",
      "\n",
      "Let's take that piece at a time:  \n",
      "> * **description of data** - what do the data values look like?  what are they composed of?  This describes **WHAT the ADT is**.\n",
      "Eg.  \n",
      "    * A **list** is a sequence of arbitrary data items that may be directly accessed.  Lists may have other properties, depending on how they are described.    \n",
      "    * To the University's records office, a **student** may be composed of other data of already defined types: a name(str), address (str), student ID (int), list of classes taken, number of credits (float), gpa (float).  To another entity, say food services, a **student** may be represented quite differently.\n",
      "\n",
      "> * **description of operations** on the data - what can we ask this data item to do?  This describes the **behavior** of something that belongs to this ADT.  This describes **What you can expect the ADT to do**.\n",
      "Eg.\n",
      "    * What you can do with a list depends on what operations are defined for it.  We are familiar with the behavior and operations on a Python **list**, but other paradigms may have more flexible or restrictive descriptions of a **list**.\n",
      "    * We may be able to initialize a **student**, ask and change the students name and address, add completed courses to the course list ... (which in turn affects the number of credits and gpa), and ask the student to report any of this academic information.  \n",
      "\n",
      "> * with **no regard for implementation**.  This says that **HOW** the first requirements of an ADT are implemented are of no concern.  \n",
      "Eg.\n",
      "    * How the individual members of a **list** are stored in memory, how an item can be removed from the middle of an existing list, or how, when you ask a list to sort itself, that task is accomplished are not germane to the **ABSTRACT** description of the data.\n",
      "    * When a completed academic class is added to our **student**, how that students representation in memory is affected and how its credits completed and gpa are updated are not of concern.  It only matters that we understand precisely what is expected of us and what we will get from the **student** if we decide to use that representation.  \n",
      "    \n",
      "<a href=\"#top\">back to top</a>"
     ]
    },
    {
     "cell_type": "markdown",
     "metadata": {},
     "source": [
      "### Why are ADTs Important?\n",
      "An **ADT** starts as a wish list and matures into a **contract** between a user of a **data type** and its developer.  It describes precisely\n",
      "> * what the user can expect and\n",
      "> * what the user must provide in order for those expectations to be met.\n",
      "Most importantly it does so without specifying the environment in which it is used or the particular algorithms that are used to perform the operations.\n",
      "\n",
      "The **ADT** is that agreement between the user and developer on what a product is and does.\n",
      "> * It is important to the **user** because it describes exactly what the users expectations can be if used properly.\n",
      "> * It is important to the **developer** because it describes precisely what the user will provide and what the user expects in return.\n",
      "\n",
      "It **encapsulates** the data representation and operations into a single entity which exists independently.\n",
      "\n",
      "The ADT describes an **interface** between the user's domain and that of the programmer, who must provide the expected functionality.\n",
      "> * The **user** need no longer be concerned with the details of **HOW** the tasks are accomplished and can concentrate on using the interface to provide script functionality ... which may now be reduced to a very simple algorithm and a few lines of code.\n",
      "> * The developer need not be concerned with the specific application.  In fact, if well written, the software that implements the ADT will be independent of any specific application.  The developer is only concerned with the **interface** ... that **contract** between the user and developer."
     ]
    },
    {
     "cell_type": "markdown",
     "metadata": {},
     "source": [
      "### An ADT as a Contract\n",
      "Consider your script for processing student grades (L05 - Programming Exercise 1).  \n",
      "In it, we represented students as rows in a spreadsheet\n",
      "> * there are spreadsheet operations for adding columns, which can be used to provide fields for additional grades to a group of students\n",
      "* there are spreadsheet operations for adding or changing individual grades for a specific student\n",
      "* there are even spreadsheet operations that could have done everything our Python script did on the spreadsheet's csv file.\n",
      "\n",
      "We also represented the students in our Python script as a collection of data items that we constructed functions to manipulate.\n",
      "> * We represented each grade category as a list of grades and\n",
      "* we processed these lists for each student with the appropriate function to get the desired results.\n",
      "\n",
      "In the end, we had \"raw data\" that we were responsible for interpreting and manipulating to get the information we desired.  \n",
      "We were responsible for deciding **HOW** each operation was accomplished and how that would be implemented in the appropriate function.\n",
      "\n",
      "Wouldn't it have been cleaner to be able to just have a type **student** that stored all the grade information however it saw fit, that just DID the operations we needed done when we asked, and that could be trusted to do it right as long as we played by the rules?  \n",
      "We could have \n",
      "> * met with a software engineer,\n",
      "* agreed on a description of a **student**,\n",
      "* agreed on an **interface** to that student, describing  \n",
      "    * what operations we expect that student to perform and \n",
      "    * what we would provide to help them get done,   \n",
      "* agreed on a delivery date, and\n",
      "* designed and written a script which **USED** the **student**\n",
      "\n",
      "We would have been freed up to concentrate on our job and not the details of writing functions to take care of students.\n",
      "\n",
      "Our script may have looked a lot like our initial algorithm:\n",
      "\n",
      "    from student import Student\n",
      "    course = []\n",
      "    with open(infile, 'r', newline='') as data:\n",
      "        summary = Student(data.readline())\n",
      "        for record in data:\n",
      "            course.append(Student(record, summary))\n",
      "\n",
      "    # Other operations, here\n",
      "    \n",
      "    form = \"{:20s}\" + \"{:8.2f}\" * 4\n",
      "    for stu in class:\n",
      "        print(form.format(stu))\n",
      "\n",
      "That's one purpose for ADTs.  They ARE that contract between application programmer (tool user) and tool developer.  \n",
      "Understand that YOU may be doing both jobs.  It helps to be a little schitzophranic to keep your roles separate.\n",
      "    "
     ]
    },
    {
     "cell_type": "heading",
     "level": 2,
     "metadata": {},
     "source": [
      "Class Definition and Instance Creation"
     ]
    },
    {
     "cell_type": "markdown",
     "metadata": {},
     "source": [
      "<dt id=\"class\">\n",
      "### Definition - Class\n",
      "In an **Object Oriented Programming (OOP) Language** like Python, a **class** is the **programming language implementation** of an **abstract data type**.  \n",
      "    \n",
      "<a href=\"#top\">back to top</a>"
     ]
    },
    {
     "cell_type": "markdown",
     "metadata": {},
     "source": [
      "<dt id=\"object\">\n",
      "### Definition - Object\n",
      "In **OOP**, an **object** is an **instance of a class**.  \n"
     ]
    },
    {
     "cell_type": "markdown",
     "metadata": {},
     "source": [
      "The **class** is to OOP what a cookie cutter is to baking cookies.  \n",
      "You can't bake a cookie cutter and neither can you store data in a class.  \n",
      "You use the cookie cutter to make a cookie **instance** which you can bake.  \n",
      "Likewise, you use a class definition to create an **instance** of the class.\n",
      "This **class instance** is capable of storing data and performing the tasks agreed upon in the ADT \"contract\".  \n",
      "\n",
      "<a href=\"#top\">back to top</a>"
     ]
    },
    {
     "cell_type": "markdown",
     "metadata": {},
     "source": [
      "<dt id=\"attrib\">\n",
      "### Definition - Instance Attribute\n",
      "Class instances have constituent components called **attributes**.  \n",
      "There are two valid categories of **class instance attributes**:  \n",
      "> * **Data attributes** (sometimes referred to as **instance variables**) are variables defined internal to the class instance.  Each class instance has its own data attributes in which it maintains and manages the data it is to represent, otherwise referred to as its \"state\".\n",
      "> * **method attributes** are internal functions that are shared among all instances of a particular class.  These methods are designed to provide that interface to data agreed upon in the **ADT contract**, and to provide internal data management support for the interface.  \n",
      "**Method attributes** (or just **methods**) fall into three categories, based on their purpose:\n",
      "    * **initializer** - the function automatically invoked when the class instance is created.  A class instance has at most one initializer, named **\\_\\_init\\_\\_**.\n",
      "    * **accessor** - a function that observes and uses the values of the data attributes - without making any changes to them - to return information about the instance's state to the application program.\n",
      "    * **mutator** - a function that changes the state of the class instance by changing the content of one or more data attributes.  \n",
      "\n",
      "<a href=\"#top\">back to top</a>"
     ]
    },
    {
     "cell_type": "markdown",
     "metadata": {},
     "source": [
      "### Class Instance Creation\n",
      "> * An instance of a class is created by invoking the class constructor using the **class name** and the **parameter list** of its initializer method (or attribute).  \n",
      "\n",
      "> * The system's class constructor allocates the memory needed for the instance and then invokes the instance initializer method with the parameters supplied in the previous step.\n",
      "\n",
      "> * The initializer uses the parameter list and its own code to put the instance in its **initial state**.  \n",
      "The initializer may not return values.  \n",
      "\n",
      "> * Once the initializer has completed execution, the newly created object is returned as the value of the initial invocation."
     ]
    },
    {
     "cell_type": "markdown",
     "metadata": {},
     "source": [
      "### Examples of class instance creation\n",
      "> **int()**  \n",
      "creates an instance of the **int** class (i.e. an **int object**) to be created."
     ]
    },
    {
     "cell_type": "code",
     "collapsed": false,
     "input": [
      "int?"
     ],
     "language": "python",
     "metadata": {},
     "outputs": []
    },
    {
     "cell_type": "code",
     "collapsed": false,
     "input": [
      "type(int('6'))"
     ],
     "language": "python",
     "metadata": {},
     "outputs": []
    },
    {
     "cell_type": "code",
     "collapsed": false,
     "input": [
      "int()"
     ],
     "language": "python",
     "metadata": {},
     "outputs": []
    },
    {
     "cell_type": "markdown",
     "metadata": {},
     "source": [
      "> The last code cell demonstrates something interesting.  When we don't supply any values to the **int()** function, the **int object** is created and **initialized** to **0** by default.  \n",
      "That is because **0** is the default value for the first parameter of the **__init__** method for **int**."
     ]
    },
    {
     "cell_type": "markdown",
     "metadata": {},
     "source": [
      "> Let's look at another example. \n",
      "\n",
      "> **open('E10/demo_file', 'r')**  \n",
      "\n",
      "> creates an instance of **_io.TextIOWrapper** that contains data attributes **name**, **mode**, and **encoding** with associated values.  \n",
      "That is, the function caused an instance of **_io.TextIOWrapper** to be created and initialized.\n",
      "This is a bit of a departure from the description above.  **open** is a built-in function that creates **file** objects of the appropriate class for a number of objects and returns them."
     ]
    },
    {
     "cell_type": "code",
     "collapsed": false,
     "input": [
      "my_file = open('E10/demo_file', 'r')\n",
      "my_file"
     ],
     "language": "python",
     "metadata": {},
     "outputs": []
    },
    {
     "cell_type": "code",
     "collapsed": false,
     "input": [
      "dir(my_file)"
     ],
     "language": "python",
     "metadata": {},
     "outputs": []
    },
    {
     "cell_type": "markdown",
     "metadata": {},
     "source": [
      "> Note the **\\_\\_iter\\_\\_** and **\\_\\_next\\_\\_** methods are present ... so the 'file' object we have created is an **iterator**.  \n",
      "> At this point, we can use the object."
     ]
    },
    {
     "cell_type": "code",
     "collapsed": false,
     "input": [
      "contents = my_file.read()\n",
      "print(contents)"
     ],
     "language": "python",
     "metadata": {},
     "outputs": []
    },
    {
     "cell_type": "markdown",
     "metadata": {},
     "source": [
      "> Now, let's create a **list** instance with **my_file** as data ... and print out the list:"
     ]
    },
    {
     "cell_type": "code",
     "collapsed": false,
     "input": [
      "story = list(my_file)\n",
      "print(story)"
     ],
     "language": "python",
     "metadata": {},
     "outputs": []
    },
    {
     "cell_type": "code",
     "collapsed": false,
     "input": [
      "dir(story)"
     ],
     "language": "python",
     "metadata": {},
     "outputs": []
    },
    {
     "cell_type": "markdown",
     "metadata": {},
     "source": [
      "> Here we see that the file object's name is used in the creation of the **list** class instance.  The parameter list is used when the class initializer is invoked, and the instance is initialized using the parameter value(s).\n",
      "\n",
      "> Of course, now things go rather badly for us.  The current position marker is at the files end.  The object will do it's best with what I give it, but I cannot expect it to do more than obey our contract.  \n",
      "So, it made a list with what was left ... nothing."
     ]
    },
    {
     "cell_type": "code",
     "collapsed": false,
     "input": [
      "next(my_file)"
     ],
     "language": "python",
     "metadata": {},
     "outputs": []
    },
    {
     "cell_type": "markdown",
     "metadata": {},
     "source": [
      "> Oh, yeah ... we knew that.  The iteratoris \"used up\"."
     ]
    },
    {
     "cell_type": "markdown",
     "metadata": {},
     "source": [
      "### Definition - Encapsulation\n",
      "With respect to **OOP**, **encapsulation** refers to the combining of data representations and code for operations on the date in a single unit.\n",
      "I.e. class definitions exhibit encapsulation because they combine the data definitions and the definitions of the operations on that data into a single class, with an identifier to reference it.\n",
      "\n",
      "We can think of the class as being an entity that embodies the data storage requirements and the definitions of those operatons defined on that data. "
     ]
    },
    {
     "cell_type": "markdown",
     "metadata": {},
     "source": [
      "### Definition - Information Hiding\n",
      "Another term that generally gets misunderstood is **information hiding**.\n",
      "**Information hiding** in **OOP** refers to class definitions **restricting access to internal code or data**.\n",
      "\n",
      "NOTE:  this is different than **code abstraction** ... what we do when we create functions to perform program sub-tasks.\n",
      "\n",
      "Some languages take a Draconian view of **information hiding**.  \n",
      "C++ and Java, for example have keywords that allow classes to declare internal data and internally defined operations as \"private\" and thus directly unaccessible to code using the class.  \n",
      "Python, on the other hand, has a more open-minded philosophy.  Its information hiding is to bring order to how classes refer to each other, through naming conventions.  If a user wishes to access internal attributes of a class, that is entirely possible.  \n",
      "Many standard library classes encourage direct access to data members rather than provide access methods."
     ]
    },
    {
     "cell_type": "markdown",
     "metadata": {},
     "source": [
      "## EXAMPLE:  ADT TO CLASS DEFINITION - The Stack "
     ]
    },
    {
     "cell_type": "markdown",
     "metadata": {},
     "source": [
      "\n",
      "\n",
      "<center>\n",
      "<table border=\"0\" cellpadding=\"2\" cellspacing=\"10\" width=\"90%\">\n",
      "<tbody>\n",
      "    <td><b>ADT - Stack</b><p>  \n",
      "        <b>Data description:</b>  Container for arbitrary data items characterized by member access.<br>\n",
      "        <b>Access method:</b>  Access is LIFO (last item added must be the first item removed).  Only the\n",
      "        last added item (called the top item) can be accessed.<br>\n",
      "        <b>Operations:</b>\n",
      "<ul>\n",
      "    <li> Stack - creates a new empty Stack instance\n",
      "    <li> push(item) - item is added to top of stack\n",
      "    <li> pop() - remove and return the top item from stack\n",
      "    <li> top() - reports the top item on the stack without removal\n",
      "    <li> len(d) - reports the number of items in on the stack d\n",
      "    <li> clear() - remove all items from the stack\n",
      "    <li> is_empty() - returns <b>True</b> if stack is empty, else False\n",
      "    <li> == / != - compares stacks for equality and returns True/False\n",
      "    <li> str(d) - returns a string represention of the items on stack d\n",
      "        \n",
      "</ul>\n",
      "The diagram at the right is a UML (Unified Modeling Language) depiction of the <b>Stack</b> Class that a developer may use to visually describe the characteristics of the class about to be implemented from the Stack ADT,\n",
      "        </td>\n",
      "<td><div style=\"text-align: center;\">\n",
      "<img src=\"files/figs/stack.png\" style=\"border: 0px solid ;\n",
      "                    width: 500px; height: 318px;\"></a><p>\n",
      "    <b>UML Diagram For Stack</b>\n",
      "</tr>\n",
      "</tbody>\n",
      "</table>\n",
      "</center>"
     ]
    },
    {
     "cell_type": "markdown",
     "metadata": {},
     "source": [
      "### The Stack Class Contract\n",
      "The description of the **Stack ADT** above is a good start, but not specific enough on some details.  \n",
      "The following link opens a web page in a new tab to display a more precise contract.  \n",
      "This can be used to work from in designing and implementing the <a href=\"files/html/stack.html\" target=\"_blank\"> Stack Class description </a>.  \n",
      "In fact it forms the basis of the class documentation and was created using **pydoc**."
     ]
    },
    {
     "cell_type": "markdown",
     "metadata": {},
     "source": [
      "The code cell below contains the framework for the **Stack** class definition.\n",
      "We'll discuss some of the nuances of **attribute naming and referencing**, **magics**, and Python's version of **\"information hiding\"** following the cell. Completing the definition and testing of the Stack is left as an exercise."
     ]
    },
    {
     "cell_type": "code",
     "collapsed": false,
     "input": [
      "### NOTE:  The '#' comments below are for me to explain to you WHY I used\n",
      "###        the code that I did.\n",
      "''' Implementations of the Stack  data structure\n",
      "    Stack is a LIFO (last in - first out) container\n",
      "'''\n",
      "\n",
      "# The following import is so that we can return a copy of the top item on \n",
      "# the stack rather than a reference to it.  You can play with what can happen\n",
      "# if you DON'T return a copy by stacking a mutable object, having the top\n",
      "# item returned to you and then making a change to what you get.  Now, print \n",
      "# the stack.\n",
      "\n",
      "import copy\n",
      "\n",
      "class Stack:\n",
      "    '''Stack() -> new empty Stack object\n",
      "    \n",
      "    The Stack is a linear structure having LIFO(Last In - First Out) access\n",
      "    '''\n",
      "    \n",
      "    def __init__(self):\n",
      "        '''Initialize the stack to an empty state'''\n",
      "        \n",
      "        # This I did for you ... it initializes the data structure I CHOSE TO USE\n",
      "        #      for maintaining the values stored in the Stack container.\n",
      "        # The initial value is 'empty'.\n",
      "        \n",
      "        self._data = []\n",
      "        \n",
      "    def push(self, item):\n",
      "        '''Put 'item' at top of Stack\n",
      "        \n",
      "        Precondition: item is an object of arbitrary type\n",
      "        Postcondition: 'item' is placed at the top of the Stack;\n",
      "                        no value is returned;\n",
      "                        state of the Stack is changed\n",
      "        '''\n",
      "        \n",
      "        # I chose the 'end' of the list to be the 'top'.  You could, of course,\n",
      "        # chosen to make the 'front' of the list the 'top'.  Think about what you\n",
      "        # would need to do differently in that case.\n",
      "        \n",
      "        self._data.append(copy.deepcopy(item))\n",
      "        \n",
      "    def pop(self):\n",
      "        '''Remove and return the value at the top of the Stack\n",
      "        \n",
      "        Precondition: Stack must not be empty\n",
      "        Postcondition: The item at the top of the Stack is removed and\n",
      "                       its value is returned as the value of the function;\n",
      "                       state of the Stack is changed;\n",
      "                       If Stack is empty, raises the IndexError exception\n",
      "        '''\n",
      "        \n",
      "        # Since the 'top' of the stack is at the list's end, I can just use the\n",
      "        # list.pop method to remove the last item added (and then return it)\n",
      "        \n",
      "        return self._data.pop()\n",
      "        \n",
      "    def clear(self):\n",
      "        '''Remove all items from Stack\n",
      "        \n",
      "        Precondition:  None\n",
      "        Postcondition:  The Stack is empty\n",
      "        '''\n",
      "        \n",
      "        # To empty the list, I can simply assign a new empty list to my \"instance variable\".\n",
      "        # The old list no longer has an identifier associated with it and will be deallocated\n",
      "        # by the Python garbage collector, so that the memory can be reused.\n",
      "        \n",
      "        self._data = []\n",
      "        \n",
      "    def is_empty(self):\n",
      "        '''True if Stack is empty\n",
      "        \n",
      "        Precondition: None\n",
      "        Postcondition: Returns True if Stack is empty, else False;\n",
      "                       state of Stack is unaltered\n",
      "        '''\n",
      "        \n",
      "        # Here I demonstrate how you can call one of the class' own methods.  len(self)\n",
      "        # invokes the Stack.__len__ method to return the length of the Stack ... which\n",
      "        # in turn (below) invokes the list.__len__ method by evaluating len(self._data)/\n",
      "        # NOTE:  It wasn't necessary to do this ... I could more easily said\n",
      "        # return len(self._data) == 0\n",
      "        # HOWEVER, what I don't want to see is\n",
      "        # if len(self._data) == 0:\n",
      "        #     return True\n",
      "        # else:\n",
      "        #     return False\n",
      "        # Why not? ... well, which is more concise and easier to read?\n",
      "        \n",
      "        return len(self) == 0\n",
      "        \n",
      "    def top(self):\n",
      "        '''Return the value of the item at top of Stack\n",
      "        \n",
      "        Purpose:  Returns the value of the item at the top of the Stack\n",
      "                  without removing it from the Stack\n",
      "        Precondition:  Stack is not empty\n",
      "        Postcondition:  Return the item at the top of the stack;\n",
      "                        If Stack is empty, raises the IndexError exception;\n",
      "                        state of Stack is not altered\n",
      "        '''\n",
      "        \n",
      "        # Here we just want to report what is on top of the stack without returning it.\n",
      "        # Since the top is at the end of the list, this makes sense.  NOW ... we don't\n",
      "        # want someone messing around with a mutable value that we return and changing \n",
      "        # the copy that we hold.  So, we return a copy ... to do this we return a COPY\n",
      "        # of the one we hold ... rather than a reference to it.  We'll talk about this.\n",
      "        # NOTE ... we had to import the 'copy' module to use this.\n",
      "        \n",
      "        return copy.deepcopy(self._data[-1])\n",
      "        \n",
      "    def __len__(self):\n",
      "        '''Return the size of the Stack\n",
      "        \n",
      "        Precondition: None\n",
      "        Postcondition:  Returns the number of items on the Stack;\n",
      "                        state of Stack is unaltered\n",
      "        '''\n",
      "        \n",
      "        # This should be pretty obvious ... we just report how many things we are \n",
      "        # currently managing.\n",
      "        \n",
      "        return len(self._data)\n",
      "        \n",
      "    def __eq__(self, other):\n",
      "        '''Answer stack1 == stack2\n",
      "        \n",
      "        Precondition:  'other' is a Stack\n",
      "        Postcondition:  \n",
      "            Returns True if Stacks contain the equal items\n",
      "            in the same order; False otherwise\n",
      "            Stack is unaltered\n",
      "        \n",
      "        '''\n",
      "        \n",
      "        # You can compare two lists with ==, so this does exactly that.\n",
      "        # If you have the condition\n",
      "        #      stack_A == stack_B, \n",
      "        # then the left hand operand 'owns the operator' ... that is (in this case)\n",
      "        # stack_A is 'self' and the right hand operand is 'other'.\n",
      "        # The same argument, used above, for NOT using an if-else statement applies here.\n",
      "        \n",
      "        return self._data == other._data\n",
      "               \n",
      "    def __str__(self):\n",
      "        '''Create a string (str) representation of the Stack\n",
      "        \n",
      "        Precondition:  None\n",
      "        Postcondition:  Returns a string reporting the contents of the Stack\n",
      "                        with the top item on the right, < ... >\n",
      "                        state of Stack is unaltered\n",
      "        '''\n",
      "        \n",
      "        # REMEMBER:  this method is invoked when the str() function is invoked.  It\n",
      "        # MUST return a string.  It DOES NOT do output. PERIOD.  In the following, it\n",
      "        # gets the string representation for it's list storage, removes the '[' and ']',\n",
      "        # and replaces them with '<' and '>'.\n",
      "        \n",
      "        return '<' + str(self._data)[1: -1] + '>'\n",
      "\n",
      "if __name__ == '__main__':\n",
      "    # Here you need to provide testing for each of the methods above.  I'll get you started.\n",
      "    \n",
      "    stack_A = Stack()\n",
      "    print(\"New stack:  stack_A =\", stack_A)\n",
      "    print(\"The length of stack_A is:\", len(stack_A))\n",
      "    print(\"Is stack_A empty? :\", stack_A.is_empty())\n",
      "    \n",
      "    stack_A.push('fred')\n",
      "    stack_A.push('wilma')\n",
      "    stack_A.push('pebbles')\n",
      "    print(\"\\nstack_A after pushing 'fred', 'wilma', and 'pebbles', resp.:\", stack_A)\n",
      "    print(\"The length of stack_A is:\", len(stack_A))\n",
      "    print(\"Is stack_A empty? :\", stack_A.is_empty())\n",
      "    \n",
      "    print('\\nThe top item on stack_A is:', stack_A.top())\n",
      "    \n",
      "    print(\"\\npopping the item '{}' from stack_A leaves: {}\".format(stack_A.pop(), stack_A))\n",
      "    \n",
      "    stack_B = Stack()\n",
      "    stack_B.push('fred')\n",
      "    stack_B.push('wilma')\n",
      "    \n",
      "    print('\\nstack_A =', stack_A)\n",
      "    print('stack_B =', stack_B)\n",
      "    print('Is stack_A == stack_B? :', stack_A == stack_B)\n",
      "    \n",
      "    stack_B.push('barney')\n",
      "    print('\\nstack_A =', stack_A)\n",
      "    print('stack_B =', stack_B)\n",
      "    print('Is stack_A == stack_B? :', stack_A == stack_B)\n",
      "    \n",
      "    print('\\nClearing stack_B')\n",
      "    stack_B.clear()\n",
      "    print('stack_B =', stack_B)"
     ],
     "language": "python",
     "metadata": {},
     "outputs": []
    },
    {
     "cell_type": "markdown",
     "metadata": {},
     "source": [
      "## The Queue class  \n",
      "A **Queue** can be described using the same type of process we did above for Stack.\n",
      "\n",
      "A **Queue** ADT is also characterized by its data access, which is **FIFO** or **First In - First Out**.  We see this structure daily in waiting lines in grocery stores, banks, and cafeterias.  The **Queue** has a **front**, from which we can remove items, and a **rear** to which new items can be added.  \n",
      "\n",
      "The operations required for a Queue include:  \n",
      "> * an initializer\n",
      "* **enque** - which adds an item to the rear of the Queue  \n",
      "* **deque** - which removes and returns an item from the front of the Queue \n",
      "* **front** - which reports the value of the item at the front of the Queue\n",
      "* **clear** - which removes all the items from the Queue  \n",
      "* **is_empty** - which returns *True* if the Queue has no items and *False* otherwise  \n",
      "* a method to report the number of items currently in the Queue  \n",
      "* a method for determining if two Queues are equal  \n",
      "* a method for generating a string representation of the Queue  \n",
      "\n",
      "### Assignment 10.1  \n",
      "Write the 'contract' for the Queue ADT.  That is write the docstrings necessary to produce the documentation, as was done with the Stack class, above.  \n",
      "\n",
      "### Assignment 10.2  \n",
      "Rewrite the description of the **initializer** method **__init__** so that it takes a sequence as a parameter and initializes the Queue to contain the items in the sequence, with the first item being at the front of the Queue, etc.  \n",
      "\n",
      "### Assignment 10.3\n",
      "Use the code cell below to code and test a Python class implementation of the Queue ADT as specified above.  "
     ]
    },
    {
     "cell_type": "code",
     "collapsed": false,
     "input": [],
     "language": "python",
     "metadata": {},
     "outputs": []
    },
    {
     "cell_type": "markdown",
     "metadata": {},
     "source": [
      "### Assignment 10.4  \n",
      "Refer back to Lesson 5.5.5 - Creating and Using Modules.  Follow its instructions to create and properly document a module **collect.py** containing the Stack and the Queue classes.  Your unit test code should accompany your class definitions and be protected against execution as described in Lesson 5.5.5."
     ]
    }
   ],
   "metadata": {}
  }
 ]
}