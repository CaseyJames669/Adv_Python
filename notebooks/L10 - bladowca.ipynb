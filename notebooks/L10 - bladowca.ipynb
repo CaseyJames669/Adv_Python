{
 "metadata": {
  "name": "L10 - bladowca"
 },
 "nbformat": 3,
 "nbformat_minor": 0,
 "worksheets": [
  {
   "cells": [
    {
     "cell_type": "markdown",
     "metadata": {},
     "source": [
      "<dt id=\"top\">\n",
      "# Lesson 10:  Classes  \n",
      "## Definitions:  \n",
      "\n",
      "<ul>\n",
      "    <li><a href=\"#adt\">Abstract Data Type</a>\n",
      "    <li><a href=\"#class\">Class</a>\n",
      "    <li><a href=\"#object\">Object</a>\n",
      "    <li><a href=\"#attrib\">Instance Attribute</a>\n",
      "</ul>"
     ]
    },
    {
     "cell_type": "markdown",
     "metadata": {},
     "source": [
      "## Abstract Data Types and Class Specification\n",
      "<dt id=\"adt\">\n",
      "### Definition - Abstract Data Type\n",
      "An **abstract data type (ADT)** is  \n",
      "> * the description of data and\n",
      "* the description of operations on that data,\n",
      "* without regard to implementation.\n",
      "\n",
      "Let's take that piece at a time:  \n",
      "> * **description of data** - what do the data values look like?  what are they composed of?  This describes **WHAT the ADT is**.\n",
      "Eg.  \n",
      "    * A **list** is a sequence of arbitrary data items that may be directly accessed.  Lists may have other properties, depending on how they are described.    \n",
      "    * To the University's records office, a **student** may be composed of other data of already defined types: a name(str), address (str), student ID (int), list of classes taken, number of credits (float), gpa (float).  To another entity, say food services, a **student** may be represented quite differently.\n",
      "\n",
      "> * **description of operations** on the data - what can we ask this data item to do?  This describes the **behavior** of something that belongs to this ADT.  This describes **What you can expect the ADT to do**.\n",
      "Eg.\n",
      "    * What you can do with a list depends on what operations are defined for it.  We are familiar with the behavior and operations on a Python **list**, but other paradigms may have more flexible or restrictive descriptions of a **list**.\n",
      "    * We may be able to initialize a **student**, ask and change the students name and address, add completed courses to the course list ... (which in turn affects the number of credits and gpa), and ask the student to report any of this academic information.  \n",
      "\n",
      "> * with **no regard for implementation**.  This says that **HOW** the first requirements of an ADT are implemented are of no concern.  \n",
      "Eg.\n",
      "    * How the individual members of a **list** are stored in memory, how an item can be removed from the middle of an existing list, or how, when you ask a list to sort itself, that task is accomplished are not germane to the **ABSTRACT** description of the data.\n",
      "    * When a completed academic class is added to our **student**, how that students representation in memory is affected and how its credits completed and gpa are updated are not of concern.  It only matters that we understand precisely what is expected of us and what we will get from the **student** if we decide to use that representation.  \n",
      "    \n",
      "<a href=\"#top\">back to top</a>"
     ]
    },
    {
     "cell_type": "markdown",
     "metadata": {},
     "source": [
      "### Why are ADTs Important?\n",
      "An **ADT** starts as a wish list and matures into a **contract** between a user of a **data type** and its developer.  It describes precisely\n",
      "> * what the user can expect and\n",
      "> * what the user must provide in order for those expectations to be met.\n",
      "Most importantly it does so without specifying the environment in which it is used or the particular algorithms that are used to perform the operations.\n",
      "\n",
      "The **ADT** is that agreement between the user and developer on what a product is and does.\n",
      "> * It is important to the **user** because it describes exactly what the users expectations can be if used properly.\n",
      "> * It is important to the **developer** because it describes precisely what the user will provide and what the user expects in return.\n",
      "\n",
      "It **encapsulates** the data representation and operations into a single entity which exists independently.\n",
      "\n",
      "The ADT describes an **interface** between the user's domain and that of the programmer, who must provide the expected functionality.\n",
      "> * The **user** need no longer be concerned with the details of **HOW** the tasks are accomplished and can concentrate on using the interface to provide script functionality ... which may now be reduced to a very simple algorithm and a few lines of code.\n",
      "> * The developer need not be concerned with the specific application.  In fact, if well written, the software that implements the ADT will be independent of any specific application.  The developer is only concerned with the **interface** ... that **contract** between the user and developer."
     ]
    },
    {
     "cell_type": "markdown",
     "metadata": {},
     "source": [
      "### An ADT as a Contract\n",
      "Consider your script for processing student grades (L05 - Programming Exercise 1).  \n",
      "In it, we represented students as rows in a spreadsheet\n",
      "> * there are spreadsheet operations for adding columns, which can be used to provide fields for additional grades to a group of students\n",
      "* there are spreadsheet operations for adding or changing individual grades for a specific student\n",
      "* there are even spreadsheet operations that could have done everything our Python script did on the spreadsheet's csv file.\n",
      "\n",
      "We also represented the students in our Python script as a collection of data items that we constructed functions to manipulate.\n",
      "> * We represented each grade category as a list of grades and\n",
      "* we processed these lists for each student with the appropriate function to get the desired results.\n",
      "\n",
      "In the end, we had \"raw data\" that we were responsible for interpreting and manipulating to get the information we desired.  \n",
      "We were responsible for deciding **HOW** each operation was accomplished and how that would be implemented in the appropriate function.\n",
      "\n",
      "Wouldn't it have been cleaner to be able to just have a type **student** that stored all the grade information however it saw fit, that just DID the operations we needed done when we asked, and that could be trusted to do it right as long as we played by the rules?  \n",
      "We could have \n",
      "> * met with a software engineer,\n",
      "* agreed on a description of a **student**,\n",
      "* agreed on an **interface** to that student, describing  \n",
      "    * what operations we expect that student to perform and \n",
      "    * what we would provide to help them get done,   \n",
      "* agreed on a delivery date, and\n",
      "* designed and written a script which **USED** the **student**\n",
      "\n",
      "We would have been freed up to concentrate on our job and not the details of writing functions to take care of students.\n",
      "\n",
      "Our script may have looked a lot like our initial algorithm:\n",
      "\n",
      "    from student import Student\n",
      "    course = []\n",
      "    with open(infile, 'r', newline='') as data:\n",
      "        summary = Student(data.readline())\n",
      "        for record in data:\n",
      "            course.append(Student(record, summary))\n",
      "\n",
      "    # Other operations, here\n",
      "    \n",
      "    form = \"{:20s}\" + \"{:8.2f}\" * 4\n",
      "    for stu in class:\n",
      "        print(stu.format(form))\n",
      "\n",
      "That's one purpose for ADTs.  They ARE that contract between application programmer (tool user) and tool developer.  \n",
      "Understand that YOU may be doing both jobs.  It helps to be a little schitzophranic to keep your roles separate.\n",
      "    "
     ]
    },
    {
     "cell_type": "heading",
     "level": 2,
     "metadata": {},
     "source": [
      "Class Definition and Instance Creation"
     ]
    },
    {
     "cell_type": "markdown",
     "metadata": {},
     "source": [
      "<dt id=\"class\">\n",
      "### Definition - Class\n",
      "In an **Object Oriented Programming (OOP) Language** like Python, a **class** is the **programming language implementation** of an **abstract data type**.  \n",
      "    \n",
      "<a href=\"#top\">back to top</a>"
     ]
    },
    {
     "cell_type": "markdown",
     "metadata": {},
     "source": [
      "<dt id=\"object\">\n",
      "### Definition - Object\n",
      "In **OOP**, an **object** is an **instance of a class**.  \n"
     ]
    },
    {
     "cell_type": "markdown",
     "metadata": {},
     "source": [
      "The **class** is to OOP what a cookie cutter is to baking cookies.  \n",
      "You can't bake a cookie cutter and neither can you store data in a class.  \n",
      "You use the cookie cutter to make a cookie **instance** which you can bake.  \n",
      "Likewise, you use a class definition to create an **instance** of the class.\n",
      "This **class instance** is capable of storing data and performing the tasks agreed upon in the ADT \"contract\".  \n",
      "\n",
      "<a href=\"#top\">back to top</a>"
     ]
    },
    {
     "cell_type": "markdown",
     "metadata": {},
     "source": [
      "<dt id=\"attrib\">\n",
      "### Definition - Instance Attribute\n",
      "Class instances have constituent components called **attributes**.  \n",
      "There are two valid categories of **class instance attributes**:  \n",
      "> * **Data attributes** (sometimes referred to as **instance variables**) are variables defined internal to the class instance.  Each class instance has its own data attributes in which it maintains and manages the data it is to represent, otherwise referred to as its \"state\".\n",
      "> * **method attributes** are internal functions that are shared among all instances of a particular class.  These methods are designed to provide that interface to data agreed upon in the **ADT contract**, and to provide internal data management support for the interface.  \n",
      "**Method attributes** (or just **methods**) fall into three categories, based on their purpose:\n",
      "    * **initializer** - the function automatically invoked when the class instance is created.  A class instance has at most one initializer, named **\\_\\_init\\_\\_**.\n",
      "    * **accessor** - a function that observes and uses the values of the data attributes - without making any changes to them - to return information about the instance's state to the application program.\n",
      "    * **mutator** - a function that changes the state of the class instance by changing the content of one or more data attributes.  \n",
      "\n",
      "<a href=\"#top\">back to top</a>"
     ]
    },
    {
     "cell_type": "markdown",
     "metadata": {},
     "source": [
      "### Class Instance Creation\n",
      "> * An instance of a class is created by invoking the class constructor using the **class name** and the **parameter list** of its initializer method (or attribute).  \n",
      "\n",
      "> * The system's class constructor allocates the memory needed for the instance and then invokes the instance initializer method with the parameters supplied in the previous step.\n",
      "\n",
      "> * The initializer uses the parameter list and its own code to put the instance in its **initial state**.  \n",
      "The initializer may not return values.  \n",
      "\n",
      "> * Once the initializer has completed execution, the newly created object is returned as the value of the initial invocation."
     ]
    },
    {
     "cell_type": "markdown",
     "metadata": {},
     "source": [
      "### Examples of class instance creation\n",
      "> **int()**  \n",
      "creates an instance of the **int** class (i.e. an **int object**) to be created."
     ]
    },
    {
     "cell_type": "code",
     "collapsed": false,
     "input": [
      "int?"
     ],
     "language": "python",
     "metadata": {},
     "outputs": []
    },
    {
     "cell_type": "code",
     "collapsed": false,
     "input": [
      "type(int('6'))"
     ],
     "language": "python",
     "metadata": {},
     "outputs": [
      {
       "output_type": "pyout",
       "prompt_number": 1,
       "text": [
        "builtins.int"
       ]
      }
     ],
     "prompt_number": 1
    },
    {
     "cell_type": "code",
     "collapsed": false,
     "input": [
      "int()"
     ],
     "language": "python",
     "metadata": {},
     "outputs": []
    },
    {
     "cell_type": "markdown",
     "metadata": {},
     "source": [
      "> The last code cell demonstrates something interesting.  When we don't supply any values to the **int()** function, the **int object** is created and **initialized** to **0** by default.  \n",
      "That is because **0** is the default value for the first parameter of the **__init__** method for **int**."
     ]
    },
    {
     "cell_type": "markdown",
     "metadata": {},
     "source": [
      "> Let's look at another example. \n",
      "\n",
      "> **open('E10/demo_file', 'r')**  \n",
      "\n",
      "> creates an instance of **_io.TextIOWrapper** that contains data attributes **name**, **mode**, and **encoding** with associated values.  \n",
      "That is, the function caused an instance of **_io.TextIOWrapper** to be created and initialized.\n",
      "This is a bit of a departure from the description above.  **open** is a built-in function that creates **file** objects of the appropriate class for a number of objects and returns them."
     ]
    },
    {
     "cell_type": "code",
     "collapsed": false,
     "input": [
      "my_file = open('E10/demo_file', 'r')\n",
      "my_file"
     ],
     "language": "python",
     "metadata": {},
     "outputs": [
      {
       "ename": "FileNotFoundError",
       "evalue": "[Errno 2] No such file or directory: 'E10/demo_file'",
       "output_type": "pyerr",
       "traceback": [
        "\u001b[0;31m---------------------------------------------------------------------------\u001b[0m\n\u001b[0;31mFileNotFoundError\u001b[0m                         Traceback (most recent call last)",
        "\u001b[0;32m<ipython-input-2-2d5f61780dff>\u001b[0m in \u001b[0;36m<module>\u001b[0;34m()\u001b[0m\n\u001b[0;32m----> 1\u001b[0;31m \u001b[0mmy_file\u001b[0m \u001b[0;34m=\u001b[0m \u001b[0mopen\u001b[0m\u001b[0;34m(\u001b[0m\u001b[0;34m'E10/demo_file'\u001b[0m\u001b[0;34m,\u001b[0m \u001b[0;34m'r'\u001b[0m\u001b[0;34m)\u001b[0m\u001b[0;34m\u001b[0m\u001b[0m\n\u001b[0m\u001b[1;32m      2\u001b[0m \u001b[0mmy_file\u001b[0m\u001b[0;34m\u001b[0m\u001b[0m\n",
        "\u001b[0;31mFileNotFoundError\u001b[0m: [Errno 2] No such file or directory: 'E10/demo_file'"
       ]
      }
     ],
     "prompt_number": 2
    },
    {
     "cell_type": "code",
     "collapsed": false,
     "input": [
      "dir(my_file)"
     ],
     "language": "python",
     "metadata": {},
     "outputs": []
    },
    {
     "cell_type": "markdown",
     "metadata": {},
     "source": [
      "> Note the **\\_\\_iter\\_\\_** and **\\_\\_next\\_\\_** methods are present ... so the 'file' object we have created is an **iterator**.  \n",
      "> At this point, we can use the object."
     ]
    },
    {
     "cell_type": "code",
     "collapsed": false,
     "input": [
      "contents = my_file.read()\n",
      "print(contents)"
     ],
     "language": "python",
     "metadata": {},
     "outputs": [
      {
       "ename": "NameError",
       "evalue": "name 'my_file' is not defined",
       "output_type": "pyerr",
       "traceback": [
        "\u001b[0;31m---------------------------------------------------------------------------\u001b[0m\n\u001b[0;31mNameError\u001b[0m                                 Traceback (most recent call last)",
        "\u001b[0;32m<ipython-input-3-7f98a5aebdff>\u001b[0m in \u001b[0;36m<module>\u001b[0;34m()\u001b[0m\n\u001b[0;32m----> 1\u001b[0;31m \u001b[0mcontents\u001b[0m \u001b[0;34m=\u001b[0m \u001b[0mmy_file\u001b[0m\u001b[0;34m.\u001b[0m\u001b[0mread\u001b[0m\u001b[0;34m(\u001b[0m\u001b[0;34m)\u001b[0m\u001b[0;34m\u001b[0m\u001b[0m\n\u001b[0m\u001b[1;32m      2\u001b[0m \u001b[0mprint\u001b[0m\u001b[0;34m(\u001b[0m\u001b[0mcontents\u001b[0m\u001b[0;34m)\u001b[0m\u001b[0;34m\u001b[0m\u001b[0m\n",
        "\u001b[0;31mNameError\u001b[0m: name 'my_file' is not defined"
       ]
      }
     ],
     "prompt_number": 3
    },
    {
     "cell_type": "markdown",
     "metadata": {},
     "source": [
      "> Now, let's create a **list** instance with **my_file** as data ... and print out the list:"
     ]
    },
    {
     "cell_type": "code",
     "collapsed": false,
     "input": [
      "story = list(my_file)\n",
      "print(story)"
     ],
     "language": "python",
     "metadata": {},
     "outputs": [
      {
       "ename": "NameError",
       "evalue": "name 'my_file' is not defined",
       "output_type": "pyerr",
       "traceback": [
        "\u001b[0;31m---------------------------------------------------------------------------\u001b[0m\n\u001b[0;31mNameError\u001b[0m                                 Traceback (most recent call last)",
        "\u001b[0;32m<ipython-input-4-b23c00538a80>\u001b[0m in \u001b[0;36m<module>\u001b[0;34m()\u001b[0m\n\u001b[0;32m----> 1\u001b[0;31m \u001b[0mstory\u001b[0m \u001b[0;34m=\u001b[0m \u001b[0mlist\u001b[0m\u001b[0;34m(\u001b[0m\u001b[0mmy_file\u001b[0m\u001b[0;34m)\u001b[0m\u001b[0;34m\u001b[0m\u001b[0m\n\u001b[0m\u001b[1;32m      2\u001b[0m \u001b[0mprint\u001b[0m\u001b[0;34m(\u001b[0m\u001b[0mstory\u001b[0m\u001b[0;34m)\u001b[0m\u001b[0;34m\u001b[0m\u001b[0m\n",
        "\u001b[0;31mNameError\u001b[0m: name 'my_file' is not defined"
       ]
      }
     ],
     "prompt_number": 4
    },
    {
     "cell_type": "code",
     "collapsed": false,
     "input": [
      "dir(story)"
     ],
     "language": "python",
     "metadata": {},
     "outputs": [
      {
       "ename": "NameError",
       "evalue": "name 'story' is not defined",
       "output_type": "pyerr",
       "traceback": [
        "\u001b[0;31m---------------------------------------------------------------------------\u001b[0m\n\u001b[0;31mNameError\u001b[0m                                 Traceback (most recent call last)",
        "\u001b[0;32m<ipython-input-5-195211a24ebb>\u001b[0m in \u001b[0;36m<module>\u001b[0;34m()\u001b[0m\n\u001b[0;32m----> 1\u001b[0;31m \u001b[0mdir\u001b[0m\u001b[0;34m(\u001b[0m\u001b[0mstory\u001b[0m\u001b[0;34m)\u001b[0m\u001b[0;34m\u001b[0m\u001b[0m\n\u001b[0m",
        "\u001b[0;31mNameError\u001b[0m: name 'story' is not defined"
       ]
      }
     ],
     "prompt_number": 5
    },
    {
     "cell_type": "markdown",
     "metadata": {},
     "source": [
      "> Here we see that the file object's name is used in the creation of the **list** class instance.  The parameter list is used when the class initializer is invoked, and the instance is initialized using the parameter value(s).\n",
      "\n",
      "> Of course, now things go rather badly for us.  The current position marker is at the files end.  The object will do it's best with what I give it, but I cannot expect it to do more than obey our contract.  \n",
      "So, it made a list with what was left ... nothing."
     ]
    },
    {
     "cell_type": "code",
     "collapsed": false,
     "input": [
      "next(my_file)"
     ],
     "language": "python",
     "metadata": {},
     "outputs": []
    },
    {
     "cell_type": "markdown",
     "metadata": {},
     "source": [
      "> Oh, yeah ... we knew that.  The iteratoris \"used up\"."
     ]
    },
    {
     "cell_type": "markdown",
     "metadata": {},
     "source": [
      "### Definition - Encapsulation\n",
      "With respect to **OOP**, **encapsulation** refers to the combining of data representations and code for operations on the date in a single unit.\n",
      "I.e. class definitions exhibit encapsulation because they combine the data definitions and the definitions of the operations on that data into a single class, with an identifier to reference it.\n",
      "\n",
      "We can think of the class as being an entity that embodies the data storage requirements and the definitions of those operatons defined on that data. "
     ]
    },
    {
     "cell_type": "markdown",
     "metadata": {},
     "source": [
      "### Definition - Information Hiding\n",
      "Another term that generally gets misunderstood is **information hiding**.\n",
      "**Information hiding** in **OOP** refers to class definitions **restricting access to internal code or data**.\n",
      "\n",
      "NOTE:  this is different than **code abstraction** ... what we do when we create functions to perform program sub-tasks.\n",
      "\n",
      "Some languages take a Draconian view of **information hiding**.  \n",
      "C++ and Java, for example have keywords that allow classes to declare internal data and internally defined operations as \"private\" and thus directly unaccessible to code using the class.  \n",
      "Python, on the other hand, has a more open-minded philosophy.  Its information hiding is to bring order to how classes refer to each other, through naming conventions.  If a user wishes to access internal attributes of a class, that is entirely possible.  \n",
      "Many standard library classes encourage direct access to data members rather than provide access methods."
     ]
    },
    {
     "cell_type": "markdown",
     "metadata": {},
     "source": [
      "## EXAMPLE:  ADT TO CLASS DEFINITION - The Stack "
     ]
    },
    {
     "cell_type": "markdown",
     "metadata": {},
     "source": [
      "\n",
      "\n",
      "<center>\n",
      "<table border=\"0\" cellpadding=\"2\" cellspacing=\"10\" width=\"90%\">\n",
      "<tbody>\n",
      "    <td><b>ADT - Stack</b><p>  \n",
      "        <b>Data description:</b>  Container for arbitrary data items characterized by member access.<br>\n",
      "        <b>Access method:</b>  Access is LIFO (last item added must be the first item removed).  Only the\n",
      "        last added item (called the top item) can be accessed.<br>\n",
      "        <b>Operations:</b>\n",
      "<ul>\n",
      "    <li> Stack - creates a new empty Stack instance\n",
      "    <li> push(item) - item is added to top of stack\n",
      "    <li> pop() - remove and return the top item from stack\n",
      "    <li> top() - reports the top item on the stack without removal\n",
      "    <li> len(d) - reports the number of items in on the stack d\n",
      "    <li> clear() - remove all items from the stack\n",
      "    <li> is_empty() - returns <b>True</b> if stack is empty, else False\n",
      "    <li> == / != - compares stacks for equality and returns True/False\n",
      "    <li> str(d) - returns a string represention of the items on stack d\n",
      "        \n",
      "</ul>\n",
      "The diagram at the right is a UML (Unified Modeling Language) depiction of the <b>Stack</b> Class that a developer may use to visually describe the characteristics of the class about to be implemented from the Stack ADT,\n",
      "        </td>\n",
      "<td><div style=\"text-align: center;\">\n",
      "<img src=\"files/figs/stack.png\" style=\"border: 0px solid ;\n",
      "                    width: 500px; height: 318px;\"></a><p>\n",
      "    <b>UML Diagram For Stack</b>\n",
      "</tr>\n",
      "</tbody>\n",
      "</table>\n",
      "</center>"
     ]
    },
    {
     "cell_type": "markdown",
     "metadata": {},
     "source": [
      "### The Stack Class Contract\n",
      "The description of the **Stack ADT** above is a good start, but not specific enough on some details.  \n",
      "The following link opens a web page in a new tab to display a more precise contract.  \n",
      "This can be used to work from in designing and implementing the <a href=\"files/html/stack.html\" target=\"_blank\"> Stack Class description </a>.  \n",
      "In fact it forms the basis of the class documentation and was created using **pydoc**."
     ]
    },
    {
     "cell_type": "markdown",
     "metadata": {},
     "source": [
      "The code cell below contains the framework for the **Stack** class definition.\n",
      "We'll discuss some of the nuances of **attribute naming and referencing**, **magics**, and Python's version of **\"information hiding\"** following the cell. Completing the definition and testing of the Stack is left as an exercise."
     ]
    },
    {
     "cell_type": "code",
     "collapsed": false,
     "input": [
      "''' \n",
      "# file: stack.py\n",
      "# author: Casey Bladow\n",
      "# program: Creating a class\n",
      "\n",
      "Implementations of the Stack  data structure\n",
      "Stack is a LIFO (last in - first out) container\n",
      "'''\n",
      "\n",
      "\n",
      "class Stack:\n",
      "    '''Stack() -> new empty Stack object\n",
      "    \n",
      "    The Stack is a linear structure having LIFO(Last In - First Out) access\n",
      "    '''\n",
      "    \n",
      "    def __init__(self):\n",
      "        '''Initialize the stack to an empty state'''\n",
      "        \n",
      "        self._data = []\n",
      "        \n",
      "    def push(self, item):\n",
      "        '''Put 'item' at top of Stack\n",
      "        \n",
      "        Precondition: item is an object of arbitrary type\n",
      "        Postcondition: 'item' is placed at the top of the Stack;\n",
      "                        no value is returned;\n",
      "                        state of the Stack is changed\n",
      "        '''\n",
      "        \n",
      "        self._data.append(item)\n",
      "        \n",
      "    def pop(self):\n",
      "        '''Remove and return the value at the top of the Stack\n",
      "        \n",
      "        Precondition: Stack must not be empty\n",
      "        Postcondition: The item at the top of the Stack is removed and\n",
      "                       its value is returned as the value of the function;\n",
      "                       state of the Stack is changed;\n",
      "                       If Stack is empty, raises the IndexError exception\n",
      "        '''\n",
      "        if self == []:\n",
      "            raise IndexError(print(\"Error - list must not be empty\"))\n",
      "        else:\n",
      "            return self._data.pop()\n",
      "        \n",
      "    def clear(self):\n",
      "        '''Remove all items from Stack\n",
      "        \n",
      "        Precondition:  None\n",
      "        Postcondition:  The Stack is empty\n",
      "        '''\n",
      "        return self[:]\n",
      "        \n",
      "    def is_empty(self):\n",
      "        '''True if Stack is empty\n",
      "        \n",
      "        Precondition: None\n",
      "        Postcondition: Returns True if Stack is empty, else False;\n",
      "                       state of Stack is unaltered\n",
      "        '''\n",
      "        if self == []:\n",
      "            return True\n",
      "        else:\n",
      "            return False\n",
      "        \n",
      "    def top(self):\n",
      "        '''Return the value of the item at top of Stack\n",
      "\n",
      "        \n",
      "        Purpose:  Returns the value of the item at the top of the Stack\n",
      "                  without removing it from the Stack\n",
      "        Precondition:  Stack is not empty\n",
      "        Postcondition:  Return the item at the top of the stack;\n",
      "                        If Stack is empty, raises the IndexError exception;\n",
      "                        state of Stack is not altered\n",
      "        '''\n",
      "        if self == []:\n",
      "            raise IndexError(print(\"Error - list must not be empty\"))\n",
      "        else:\n",
      "            return self[len(self)-1]\n",
      "        \n",
      "    def __len__(self):\n",
      "        '''Return the size of the Stack\n",
      "        \n",
      "        Precondition: None\n",
      "        Postcondition:  Returns the number of items on the Stack;\n",
      "                        state of Stack is unaltered\n",
      "        '''\n",
      "        return len(self.stack)\n",
      "        \n",
      "    def __eq__(self, other):\n",
      "        '''Answer stack1 == stack2\n",
      "        \n",
      "        Precondition:  'other' is a Stack\n",
      "        Postcondition:  \n",
      "            Returns True if Stacks contain the equal items\n",
      "            in the same order; False otherwise\n",
      "            Stack is unaltered\n",
      "        \n",
      "        '''\n",
      "        return set(self)==set(other)\n",
      "               \n",
      "    def __str__(self):\n",
      "        '''Create a string (str) representation of the Stack\n",
      "        \n",
      "        Precondition:  None\n",
      "        Postcondition:  Returns a string reporting the contents of the Stack\n",
      "                        with the top item on the right, < ... >\n",
      "                        state of Stack is unaltered\n",
      "        '''\n",
      "        return '<' + str(self._data)[1: -1] + '>'\n",
      "\n",
      "if __name__ == '__main__':\n",
      "    stack_a = Stack()\n",
      "    stack_a.push('Fred')\n",
      "    print(stack_a)\n",
      "    print(self)"
     ],
     "language": "python",
     "metadata": {},
     "outputs": [
      {
       "ename": "NameError",
       "evalue": "name 'self' is not defined",
       "output_type": "pyerr",
       "traceback": [
        "\u001b[0;31m---------------------------------------------------------------------------\u001b[0m\n\u001b[0;31mNameError\u001b[0m                                 Traceback (most recent call last)",
        "\u001b[0;32m<ipython-input-21-6eff6be23fb7>\u001b[0m in \u001b[0;36m<module>\u001b[0;34m()\u001b[0m\n\u001b[1;32m    116\u001b[0m     \u001b[0mstack_a\u001b[0m\u001b[0;34m.\u001b[0m\u001b[0mpush\u001b[0m\u001b[0;34m(\u001b[0m\u001b[0;34m'Fred'\u001b[0m\u001b[0;34m)\u001b[0m\u001b[0;34m\u001b[0m\u001b[0m\n\u001b[1;32m    117\u001b[0m     \u001b[0mprint\u001b[0m\u001b[0;34m(\u001b[0m\u001b[0mstack_a\u001b[0m\u001b[0;34m)\u001b[0m\u001b[0;34m\u001b[0m\u001b[0m\n\u001b[0;32m--> 118\u001b[0;31m     \u001b[0mprint\u001b[0m\u001b[0;34m(\u001b[0m\u001b[0mself\u001b[0m\u001b[0;34m)\u001b[0m\u001b[0;34m\u001b[0m\u001b[0m\n\u001b[0m",
        "\u001b[0;31mNameError\u001b[0m: name 'self' is not defined"
       ]
      },
      {
       "output_type": "stream",
       "stream": "stdout",
       "text": [
        "<'Fred'>\n"
       ]
      }
     ],
     "prompt_number": 21
    }
   ],
   "metadata": {}
  }
 ]
}