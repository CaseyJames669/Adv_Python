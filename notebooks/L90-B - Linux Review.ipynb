{
 "metadata": {
  "name": "L90-B - Linux Review"
 },
 "nbformat": 3,
 "nbformat_minor": 0,
 "worksheets": [
  {
   "cells": [
    {
     "cell_type": "heading",
     "level": 1,
     "metadata": {},
     "source": [
      "Lesson 90-B: Linux Command Review"
     ]
    },
    {
     "cell_type": "heading",
     "level": 2,
     "metadata": {},
     "source": [
      "Linux commands from the IPython notebook"
     ]
    },
    {
     "cell_type": "markdown",
     "metadata": {},
     "source": [
      "You can enter bash (shell) commands from within a code cell of an IPython notebook by preceeding them with a '!' character.  To execute the command, make the cell current (either by clicking the cell with your mouse or by typing in it) and press ctrl-ENTER.  You can also execute code in the current cell by clicking the **play** button on the notebook task bar.\n",
      "\n",
      "**Example 1.**\n",
      "\n",
      "To demonstrate the process, determine your working directory (folder) by using the linux command *pwd* (**p** rint **w** orking **d** irectory):"
     ]
    },
    {
     "cell_type": "code",
     "collapsed": false,
     "input": [
      "!pwd"
     ],
     "language": "python",
     "metadata": {},
     "outputs": []
    },
    {
     "cell_type": "markdown",
     "metadata": {},
     "source": [
      "To execute a different shell command, you can edit an existing code cell or you can use the notebook **Insert** menu to create  a new code cell in which to enter and execute your command. \n",
      "\n",
      "Exercise 1\n",
      "> Create a code cell beneath this cell and enter and execute the bash **ls** command to list the contents of the current notebook folder.   \n",
      "First, click on this text, to make its cell the current cell, then use the **Insert** menu to create the new cell beneath it.  \n",
      "Remember that, because you are executing this command from within the notebook, you need to precede it with a '!' character ... and you need to press ctrl-ENTER to execute your command.  (shift-ENTER will also execute the command AND make the next cell current)"
     ]
    },
    {
     "cell_type": "markdown",
     "metadata": {},
     "source": [
      "This approach is not a substitute for an xterm and bash shell, but it allows you to quickly execute commands without having to \"jump out\" to another window.  Occassionally you will find it is just handier to read your notebook and run code in a separate terminal window.  That is easily accomplished by simply starting a terminal window from your window manager.  (I keep the terminal icon attached to my launcher bar.)\n",
      "\n",
      "You can also create a terminal window from within the notebook by executing the bash command **xterm** from a notebook code cell.  This will pop up a terminal window with your notebook folder being the bash shell's current folder.  You can perform any tasks in this window that you could do in any other terminal window.  When you are finished, you can enter the shell command **exit** or simply click the windows dismiss (X) control."
     ]
    },
    {
     "cell_type": "markdown",
     "metadata": {},
     "source": [
      "Exercise 2\n",
      ">Open a code cell beneath this cell and use it to create an xterm.  In the xterm, issue the *ls* command to get a listing of the folder."
     ]
    },
    {
     "cell_type": "markdown",
     "metadata": {},
     "source": [
      "In a linux terminal window with colors enabled, you will see directories in blue, executable files in green, and regular files in black text.  Other types of special files also have color codes.  \n",
      "\n",
      "You can also run the Python interpreter from within this xterm (after all, it IS just another program).  \n",
      "\n",
      "A favorite approach of mine is to start the **kate** graphical editor from the launcher, from with in an xterm, or even from a notebook command cell.  If it is installed on your linux system and properly configured, the application provides you with a rich, graphical, text editor and a popup terminal (accessible via a button at the bottom of the editor).\n",
      "\n",
      "In other lessons, I will suggest that you use the *kate* editor to complete some of your tasks.\n",
      "\n",
      "Exercise 3\n",
      "> Determine if **kate** is installed on your system by opening a terminal window and typing 'kate' at the command prompt.  If kate is installed, it should open and an icon for it will appear on your launcher.  \n",
      "If kate is not installed, you will see a message saying that the application is not installed followed by instructions for installing it.  If you are unfamiliar with the installation process and/or insecure about it, get help from your instructor or favorite linux guru.  \n",
      "If the terminal button at the bottom of the kate window does not produce a terminal window, you will also need to download and install the **konsole** application. "
     ]
    },
    {
     "cell_type": "heading",
     "level": 2,
     "metadata": {},
     "source": [
      "Common tools for navigating the linux file system"
     ]
    },
    {
     "cell_type": "heading",
     "level": 3,
     "metadata": {},
     "source": [
      "Hierarchical File System Structure"
     ]
    },
    {
     "cell_type": "markdown",
     "metadata": {},
     "source": [
      "Most general purpose operating systems, including Linux, Windows, and Mac-OS, use a **hierarchical file system**, based on **directories** (aka folders) and **files**.  In Linux, the entire file system is maintained in a (root) directory designated by a forward slash (/).  Files and folders are grouped together to provide a logical order and reasonable access for users and software.  \n",
      "User \"accounts\" are provided a private folder in which users can create logical storage structures that meet their specific needs."
     ]
    },
    {
     "cell_type": "markdown",
     "metadata": {},
     "source": [
      "The diagram in Figure 1 depicts a portion of a Linux file system showing the **root directory** and some of the directories contained immediately within it.  The folder named **home** normally contains the \"Home\" folders for users.\n",
      "<center>\n",
      "<table border=\"0\" cellpadding=\"2\" cellspacing=\"10\" width=\"90%\">\n",
      "<tbody>\n",
      "    <td><b>Figure 1</b><p>  In the figure to the right:\n",
      "<ul>\n",
      "    <li> The folder named 'File System' is the root directory (/) \n",
      "    <li> The 'home' folder has been expanded to display the personal directories of the users\n",
      "    <li> The personal directory for user 'barneyr' is highlighted\n",
      "    <li> The right portion of the window displays the contents of the highlighted folder (barneyr)\n",
      "</ul>\n",
      "        </td>\n",
      "<td><div style=\"text-align: center;\">\n",
      "<img src=\"files/figs/file_sys1.png\" style=\"border: 0px solid ;\n",
      "                    width: 500px; height: 318px;\"></a><p>\n",
      "    <b>Figure 1</b>\n",
      "</tr>\n",
      "</tbody>\n",
      "</table>\n",
      "</center>"
     ]
    },
    {
     "cell_type": "markdown",
     "metadata": {},
     "source": [
      "The file manager window, in Figure 2 below, displays user barneyr's private folder and some of its contents.  This particular file manager displays a user's personal folder as **Home**.  That can be a bit misleading.  There is not folder named Home ... barneyr's folder is named **barneyr**, as displayed in the above figure.\n",
      "<center>\n",
      "<table border=\"0\" cellpadding=\"2\" cellspacing=\"10\" width=\"90%\">\n",
      "<tbody>\n",
      "    <td><b>Figure2</b><p>\n",
      "        In the figure at the right, the file manager is divided into two panes.  The left pane displays only the folder structure, while the right pane displays the content of the highlighted folder.  User barneyr's private folder has been partially expanded in the left pane to illustrate the structure of the contenets of the user's private folder.   Some things to note:\n",
      "       <ul>\n",
      "        <li> Folders may contain other folders and/or files\n",
      "        <li> Files are terminal ... they contain neither folders nor other files\n",
      "        <li> Files and folders within a specific folder must be named uniquely\n",
      "        <li> Files and / or folders MAY have the same name if they are located in different folders.  Note the two folders labeled \"src\" in the figure are contained in different parent folders.\n",
      "        <li> Files and folders may have spaces in their names.  The graphical file manager has no problem with them.   HOWEVER, they require extra effort from a terminal command line and it is preferable to substitute an underscore(_) for a space ... as was done for the file labeled \"file_sys.png\" in the figure. \n",
      "       </ul> \n",
      "   </td>\n",
      "\n",
      "<td><div style=\"text-align: center;\">\n",
      "<img src=\"files/figs/file_sys2.png\" style=\"border: 0px solid ;\n",
      "        width: 500px; height: 318px;\"></a><p>\n",
      "    <b>Figure 2</b>\n",
      "</tr>\n",
      "</tbody>\n",
      "</table>\n",
      "</center>"
     ]
    },
    {
     "cell_type": "heading",
     "level": 3,
     "metadata": {},
     "source": [
      "Navigating the File System"
     ]
    },
    {
     "cell_type": "markdown",
     "metadata": {},
     "source": [
      "From within a graphical file manager, moving around the file system to locate folders or files is as easy as point and click and we are all familiar with that paradigm.  However, when developing software, it is commonly necessary to work in a text-based terminal environment.  You will often find it easier to simply issue commands in the terminal than to switch your attention between windows and applications.\n",
      "\n",
      "There are some simple rules and conventions that facilitate traversing the file system and accessing files and folders.\n",
      "\n",
      "* Each folder and file in the file system has a unique **pathname** to distinguish it from any other folder or file in the file system.\n",
      "* Each terminal window has a **working directory** (in the file system) which it uses as a reference point for accessing other folders and files.  This working directory can be dynamically changed whenever it meets the users needs.\n",
      "* Pathnames of folders and files can be specified using either **absolute** or **relative** names.  \n",
      "    * An **absolute pathname** begins at the root of the file system (/) and traces the path from there to the target, listing all intervening folders, separated by the slash (/) character.\n",
      "> For example, the file README in Figure 2, above, has the absolute pathname **/home/barneyr/csis153/asmt2/README**.  Note that you need to refer back to Figure 1 to get the absolute pathname of barneyr's Home folder (/home/barneyr) and then extend that by the path from it (labeled Home in Figure 2) to the README file.\n",
      "    * A **relative pathname** assumes the working directory as its beginning point and only lists the path beyond that point.  \n",
      "* Names for files and folders always refer to ones that are \"down\" the structure from the root folder.  Suppose, in Figure 2, that the current folder is the one labeled asmt1.  To specify the folder labeled \"screens\", the path we trace from the working folder to target must go UP the hierarchy before going DOWN.  We need special terminology for indicating relative paths that must traverse UP the hierarchy.  \n",
      "    * '..' (dot-dot) stands for \"the parent folder\" of a folder  \n",
      "    * '.' (dot) stands for \"the working folder\", itself (which may be necessary when executing programs)  \n",
      "    * '~' (tilde) stands for the user's \"home folder\".\n",
      "\n",
      "**Example 2**  \n",
      "Referring to Figures 1 and 2, \n",
      "\n",
      "* if the current folder is barneyr's Home folder, the relative pathname for the file labeled README is **csis153/asmt2/README**\n",
      "* if the current folder is /home/barneyr/csis153/asmt2, the relative pathname for the file labeled README is simply **README**\n",
      "* if the current folder is /home/barneyr/csis153/asmt1, the relative pathname for the file /home/barneyr/csis153/asmt2/file_sys.png is **../asmt2/file_sys.png**\n",
      "* if the current folder is /home/barneyr/csis153/asmt2/src, the relative pathname for the folder /home/barneyr/csis153/asmt1 is **../../asmt1**\n",
      "* in the previous example, if barneyr is the user specifying the folder, the pathname could also be specified using the '~' shortcut as **~/csis153/asmt1** regardless of the working folder"
     ]
    },
    {
     "cell_type": "heading",
     "level": 3,
     "metadata": {},
     "source": [
      "Determining the current working directory with 'pwd'"
     ]
    },
    {
     "cell_type": "markdown",
     "metadata": {},
     "source": [
      "In the figure at the right, the file manager is divided into two panes.  The left pane displays only the folder structure, while the right pane displays the content of the highlighted folder.  User barneyr's private folder has been partially expanded in the left pane to illustrate the structure of the contenets of the user's private folder."
     ]
    },
    {
     "cell_type": "markdown",
     "metadata": {},
     "source": [
      "The **pwd** command you executed in Example 1 gives you the **absolute path** to your working directory ... that is, the path begins with a '/', indicating it starts at the root of our file system.  You can always indicate the pathname of a file or directory by listing the path traced to find it, starting at the root (/) of the file system and listing all the folders/directories encountered along the path separated by '/'."
     ]
    },
    {
     "cell_type": "heading",
     "level": 3,
     "metadata": {},
     "source": [
      "Listing the contents of the current directory with 'ls'"
     ]
    },
    {
     "cell_type": "markdown",
     "metadata": {},
     "source": [
      "Now, get a listing of all the files and/or directories contained in our current directory:"
     ]
    },
    {
     "cell_type": "code",
     "collapsed": false,
     "input": [
      "!ls"
     ],
     "language": "python",
     "metadata": {},
     "outputs": []
    },
    {
     "cell_type": "markdown",
     "metadata": {},
     "source": [
      "The command gives you only the *name* of the files and/or folders in the current folder.  \n",
      "By adding the '-l' flag to the 'ls' command (note the space), you can get the following information for each file / folder contained in the current folder:\n",
      "\n",
      "* type of file - eg. directory or regular file\n",
      "* permissions assigned to the file\n",
      "* number of links to the file\n",
      "* owner and group who own the file\n",
      "* size of the file in bytes\n",
      "* date file was last modified\n",
      "* name of the file"
     ]
    },
    {
     "cell_type": "code",
     "collapsed": false,
     "input": [
      "!ls -l"
     ],
     "language": "python",
     "metadata": {},
     "outputs": []
    },
    {
     "cell_type": "markdown",
     "metadata": {},
     "source": [
      "We can also specify that we want to see more information only about a specific file or directory by adding its name to the command.  \n",
      "Below, we look at a **long listing** of the file that contains this notebook ... the **Linux Review.ipynb** file."
     ]
    },
    {
     "cell_type": "code",
     "collapsed": false,
     "input": [
      "!ls -l \"L90-B - Linux Review.ipynb\""
     ],
     "language": "python",
     "metadata": {},
     "outputs": []
    },
    {
     "cell_type": "markdown",
     "metadata": {},
     "source": [
      "There are two things to note about the above command:\n",
      "\n",
      "* we did not provide the full pathname of the file in the above command.  Rather, we gave the **relative pathname** ... that is, the path starting from the current working directory.\n",
      "* we enclosed the file name in quotes.  This was necessary because there was a space in the name.  The bash command interpreter uses 'white space' (spaces and tabs) to separate the components of a command.  For example to separate the 'ls' command from the '-l' flag and the file name.  For this reason, you will find it convenient to NOT put spaces in file and folder names.  Try using an underscore instead of a space in the names.\n",
      "\n",
      "Now, try the same using the name of a folder.  The **E90** folder is contained in the current folder:"
     ]
    },
    {
     "cell_type": "code",
     "collapsed": false,
     "input": [
      "!ls -l E90"
     ],
     "language": "python",
     "metadata": {},
     "outputs": []
    },
    {
     "cell_type": "markdown",
     "metadata": {},
     "source": [
      "Whoops!  That's a long listing of the **contents** of the *examples* folder.  \n",
      "If we want to see the information about the **folder**, we need to add another flag ... the 'd' flag:"
     ]
    },
    {
     "cell_type": "code",
     "collapsed": false,
     "input": [
      "!ls -ld E90"
     ],
     "language": "python",
     "metadata": {},
     "outputs": []
    },
    {
     "cell_type": "heading",
     "level": 3,
     "metadata": {},
     "source": [
      "Viewing the contents of a text file with 'cat'"
     ]
    },
    {
     "cell_type": "markdown",
     "metadata": {},
     "source": [
      "We can view the contents of a text file in the terminal using the *cat* command.  *cat* is short for 'concatenate'.  So, in essence, the command says to 'add the contents of the file onto the end of the 'screen file'.  Let's look at the contents of a file we will be using in the next example."
     ]
    },
    {
     "cell_type": "code",
     "collapsed": false,
     "input": [
      "!cat E90/demo_file"
     ],
     "language": "python",
     "metadata": {},
     "outputs": []
    },
    {
     "cell_type": "heading",
     "level": 3,
     "metadata": {},
     "source": [
      "Changing the current folder (directory) using 'cd'"
     ]
    },
    {
     "cell_type": "heading",
     "level": 3,
     "metadata": {},
     "source": [
      "Keyboard shortcuts"
     ]
    },
    {
     "cell_type": "markdown",
     "metadata": {},
     "source": [
      "> **Tab completion**  \n",
      "When entering pathnames for files and or folders, instead of typing an entire name, type a few characters and hit **tab**.  \n",
      "The shell will fill in as many characters as it can to complete the name.  If the characters you have entered are ambiguous (i.e. there are multiple names with the same prefix) the shell will pause for you to enter more 'hint' and again press tab.  \n",
      "When the shell does not respond, it is either because multiple names with the same prefix exist or no names with that prefix exist.  Strike the tab character again.  If multiple candidates for completion exist, a list will be provided for you ... choose the one you want, type in a few more distinguishing characters, and repeat the process.  If the shell appears to not respond, it is because it cannont find a pathname with that prefix.  \n",
      "This works for both relative and absolute pathnames."
     ]
    },
    {
     "cell_type": "markdown",
     "metadata": {},
     "source": [
      "> **Command history using 'up' and 'down' arrows**"
     ]
    },
    {
     "cell_type": "markdown",
     "metadata": {},
     "source": [
      "> **Command line editing**"
     ]
    },
    {
     "cell_type": "markdown",
     "metadata": {},
     "source": [
      "> **ctrl-c to abort command**"
     ]
    },
    {
     "cell_type": "markdown",
     "metadata": {},
     "source": [
      "> **Pathname expansion a.k.a. 'globbing'**"
     ]
    }
   ],
   "metadata": {}
  }
 ]
}