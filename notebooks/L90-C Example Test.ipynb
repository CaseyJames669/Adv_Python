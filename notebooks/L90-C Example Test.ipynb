{
 "metadata": {
  "name": "L90-C Example Test"
 },
 "nbformat": 3,
 "nbformat_minor": 0,
 "worksheets": [
  {
   "cells": [
    {
     "cell_type": "heading",
     "level": 1,
     "metadata": {},
     "source": [
      "Example Test"
     ]
    },
    {
     "cell_type": "markdown",
     "metadata": {},
     "source": [
      "## Question 1\n",
      "Write a python script that will create a list containing three strings of grocery items and then print the list on the standard output with one item per line and with each item numbered sequentially, starting with 1.  When printing the list, write code that will process a list of arbitrary length."
     ]
    },
    {
     "cell_type": "code",
     "collapsed": false,
     "input": [
      "# Construct you code in this cell\n"
     ],
     "language": "python",
     "metadata": {},
     "outputs": []
    },
    {
     "cell_type": "markdown",
     "metadata": {},
     "source": [
      "## Question 2\n",
      "Define **abstract data type** in the cell below.  Double click the cell to enter your definition."
     ]
    },
    {
     "cell_type": "raw",
     "metadata": {},
     "source": [
      "Answer:  "
     ]
    },
    {
     "cell_type": "markdown",
     "metadata": {},
     "source": [
      "## Question 3  \n",
      "Create a file containing a Python script that will ask you for your name and print it with the characters reversed and properly capitalized.  \n",
      "Eg.  If you enter **Fred Flintstone** as input, your script should answer with **Enotstnilf Derf**"
     ]
    },
    {
     "cell_type": "code",
     "collapsed": false,
     "input": [
      "%%file q3.py\n",
      "# Construct your code in this cell\n",
      "\n",
      "\n",
      "# This should be the last line of your code\n",
      "input(\"Press ENTER to continue\")"
     ],
     "language": "python",
     "metadata": {},
     "outputs": []
    },
    {
     "cell_type": "markdown",
     "metadata": {},
     "source": [
      "**BE SURE YOU EXECUTE THE ABOVE CELL TO SAVE ANY EDITS TO YOUR FILE BEFORE PROCEEDING**  \n",
      "Execute the cell below to test your code."
     ]
    },
    {
     "cell_type": "code",
     "collapsed": false,
     "input": [
      "!xterm -e python33 q3.py"
     ],
     "language": "python",
     "metadata": {},
     "outputs": []
    }
   ],
   "metadata": {}
  }
 ]
}