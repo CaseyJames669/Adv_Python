{
 "metadata": {
  "name": "L90-D Recipes - tuple Packing and Unpacking"
 },
 "nbformat": 3,
 "nbformat_minor": 0,
 "worksheets": [
  {
   "cells": [
    {
     "cell_type": "markdown",
     "metadata": {},
     "source": [
      "# L90-D Recipes: tuple Packing and Unpacking  \n",
      "## tuple packing\n",
      "> We can construct a tuple in an assignment:"
     ]
    },
    {
     "cell_type": "code",
     "collapsed": false,
     "input": [
      "a_tuple = (1, 2, 3)\n",
      "print(a_tuple)"
     ],
     "language": "python",
     "metadata": {},
     "outputs": [
      {
       "output_type": "stream",
       "stream": "stdout",
       "text": [
        "(1, 2, 3)\n"
       ]
      }
     ],
     "prompt_number": 1
    },
    {
     "cell_type": "markdown",
     "metadata": {},
     "source": [
      "> Since the ',' is the construction symbol for tuples, the following syntax is also correct:"
     ]
    },
    {
     "cell_type": "code",
     "collapsed": false,
     "input": [
      "my_tuple = 1, 2, 3\n",
      "print(my_tuple)"
     ],
     "language": "python",
     "metadata": {},
     "outputs": [
      {
       "output_type": "stream",
       "stream": "stdout",
       "text": [
        "(1, 2, 3)\n"
       ]
      }
     ],
     "prompt_number": 2
    },
    {
     "cell_type": "markdown",
     "metadata": {},
     "source": [
      "> The process above is referred to as **tuple packing**.  "
     ]
    },
    {
     "cell_type": "markdown",
     "metadata": {},
     "source": [
      "## tuple unpacking\n",
      "> Now that we have a tuple, we can assign it another identifier:"
     ]
    },
    {
     "cell_type": "code",
     "collapsed": false,
     "input": [
      "new_tuple = my_tuple\n",
      "print(new_tuple)"
     ],
     "language": "python",
     "metadata": {},
     "outputs": [
      {
       "output_type": "stream",
       "stream": "stdout",
       "text": [
        "(1, 2, 3)\n"
       ]
      }
     ],
     "prompt_number": 3
    },
    {
     "cell_type": "markdown",
     "metadata": {},
     "source": [
      "> We can also perform **tuple unpacking**, causing the individual items in *my\\_tuple* to be assigned identifiers.  In this example the tuple elements are assigned to *v1*, *v2*, *v3*, resp.:"
     ]
    },
    {
     "cell_type": "code",
     "collapsed": false,
     "input": [
      "v1, v2, v3 = my_tuple\n",
      "print(v1)\n",
      "print(v2)\n",
      "print(v3)"
     ],
     "language": "python",
     "metadata": {},
     "outputs": [
      {
       "output_type": "stream",
       "stream": "stdout",
       "text": [
        "1\n",
        "2\n",
        "3\n"
       ]
      }
     ],
     "prompt_number": 4
    },
    {
     "cell_type": "markdown",
     "metadata": {},
     "source": [
      "> Note that the values are assigned by position ... the first tuple item to the first identifier, *v1*, etc.\n",
      "\n",
      "> What happens if we try:"
     ]
    },
    {
     "cell_type": "code",
     "collapsed": false,
     "input": [
      "v1, v2 = my_tuple"
     ],
     "language": "python",
     "metadata": {},
     "outputs": [
      {
       "ename": "ValueError",
       "evalue": "too many values to unpack (expected 2)",
       "output_type": "pyerr",
       "traceback": [
        "\u001b[0;31m---------------------------------------------------------------------------\u001b[0m\n\u001b[0;31mValueError\u001b[0m                                Traceback (most recent call last)",
        "\u001b[0;32m<ipython-input-5-3a21f0fbcf0c>\u001b[0m in \u001b[0;36m<module>\u001b[0;34m()\u001b[0m\n\u001b[0;32m----> 1\u001b[0;31m \u001b[0mv1\u001b[0m\u001b[0;34m,\u001b[0m \u001b[0mv2\u001b[0m \u001b[0;34m=\u001b[0m \u001b[0mmy_tuple\u001b[0m\u001b[0;34m\u001b[0m\u001b[0m\n\u001b[0m",
        "\u001b[0;31mValueError\u001b[0m: too many values to unpack (expected 2)"
       ]
      }
     ],
     "prompt_number": 5
    },
    {
     "cell_type": "markdown",
     "metadata": {},
     "source": [
      "> Oops!  That didn't go well.  \n",
      "> Let's try:"
     ]
    },
    {
     "cell_type": "code",
     "collapsed": false,
     "input": [
      "v1, v2, v3, v4 = my_tuple"
     ],
     "language": "python",
     "metadata": {},
     "outputs": [
      {
       "ename": "ValueError",
       "evalue": "need more than 3 values to unpack",
       "output_type": "pyerr",
       "traceback": [
        "\u001b[0;31m---------------------------------------------------------------------------\u001b[0m\n\u001b[0;31mValueError\u001b[0m                                Traceback (most recent call last)",
        "\u001b[0;32m<ipython-input-6-df2d320934b2>\u001b[0m in \u001b[0;36m<module>\u001b[0;34m()\u001b[0m\n\u001b[0;32m----> 1\u001b[0;31m \u001b[0mv1\u001b[0m\u001b[0;34m,\u001b[0m \u001b[0mv2\u001b[0m\u001b[0;34m,\u001b[0m \u001b[0mv3\u001b[0m\u001b[0;34m,\u001b[0m \u001b[0mv4\u001b[0m \u001b[0;34m=\u001b[0m \u001b[0mmy_tuple\u001b[0m\u001b[0;34m\u001b[0m\u001b[0m\n\u001b[0m",
        "\u001b[0;31mValueError\u001b[0m: need more than 3 values to unpack"
       ]
      }
     ],
     "prompt_number": 6
    },
    {
     "cell_type": "markdown",
     "metadata": {},
     "source": [
      "> **The moral to this story is:** \n",
      "\n",
      "> * when you assign a tuple to a single identifier, you are simply giving the tuple another name,\n",
      "> * if you assign a tupel to multiple, comma separated identifiers, you are **unpacking** the tuple AND  \n",
      ">     * the number of identifiers **must** agree with the number of items in the tuple\n",
      ">     * the assignment is made positionally.\n",
      "\n",
      "## Where is this useful?\n",
      "> ### Self-documenting code\n",
      ">> Refer to values in a tuple by **purpose rather than position** .. eg.  \n",
      "\n",
      "            fraction = (7, 22)     # representation of the quotient 7/22\"  \n",
      "            numerator, denominator = fraction  \n",
      "\n",
      ">> Now we can use **numerator** rather than **fraction[0]** for more self-documenting code. \n",
      "\n",
      ">> Read about the built-in **enumerate** function"
     ]
    },
    {
     "cell_type": "code",
     "collapsed": false,
     "input": [
      "enumerate?"
     ],
     "language": "python",
     "metadata": {},
     "outputs": []
    },
    {
     "cell_type": "markdown",
     "metadata": {},
     "source": [
      ">> **Here is another example** of making your code more readable:"
     ]
    },
    {
     "cell_type": "code",
     "collapsed": false,
     "input": [
      "groceries = [\"beans\", \"rice\", \"tortillas\"]\n",
      "\n",
      "# ugly way\n",
      "for i in range(len(groceries)):\n",
      "    print(\"{:2d}.  {}\".format(i+1, groceries[i]))\n",
      "\n",
      "print('\\n')\n",
      "\n",
      "# a better way\n",
      "for item in enumerate(groceries, 1):\n",
      "    print(\"{:2d}.  {}\".format(item[0], item[1]))\n",
      "\n",
      "print('\\n')\n",
      "\n",
      "# beautiful, pythonic, way\n",
      "for num, item in enumerate(groceries, 1):\n",
      "    print(\"{:2d}.  {}\".format(num, item))\n",
      "    "
     ],
     "language": "python",
     "metadata": {},
     "outputs": [
      {
       "output_type": "stream",
       "stream": "stdout",
       "text": [
        " 1.  beans\n",
        " 2.  rice\n",
        " 3.  tortillas\n",
        "\n",
        "\n",
        " 1.  beans\n",
        " 2.  rice\n",
        " 3.  tortillas\n",
        "\n",
        "\n",
        " 1.  beans\n",
        " 2.  rice\n",
        " 3.  tortillas\n"
       ]
      }
     ],
     "prompt_number": 7
    },
    {
     "cell_type": "markdown",
     "metadata": {},
     "source": [
      ">> **Which loop is easier to read?**\n",
      "\n",
      "> ### Return values in functions\n",
      ">> Recall that functions may only return a single value.  A work around is to provide comma separated values to the function's **return** statement.  \n",
      ">> The comma separated values are **packed** into a tuple, and the tuple is returned."
     ]
    },
    {
     "cell_type": "code",
     "collapsed": false,
     "input": [
      "# function returns a tuple\n",
      "def f1():\n",
      "    return 10, 11\n",
      "\n",
      "# assign returned tuple an identifier\n",
      "v1 = f1()\n",
      "print(\"v1 =\", v1)\n",
      "\n",
      "# unpack the returned tuple\n",
      "w1, w2 = f1()\n",
      "print(\"w1 =\", w1)\n",
      "print(\"w2 =\", w2)"
     ],
     "language": "python",
     "metadata": {},
     "outputs": [
      {
       "output_type": "stream",
       "stream": "stdout",
       "text": [
        "v1 = (10, 11)\n",
        "w1 = 10\n",
        "w2 = 11\n"
       ]
      }
     ],
     "prompt_number": 8
    },
    {
     "cell_type": "markdown",
     "metadata": {},
     "source": [
      "> ###Simultaneous assignment"
     ]
    },
    {
     "cell_type": "code",
     "collapsed": false,
     "input": [
      "a, b = 5, 10\n",
      "the_sum, the_product, the_quotient = a + b, a * b, a / b\n",
      "print(\"the_sum =\", the_sum)\n",
      "print(\"the_product =\", the_product)\n",
      "print(\"the_quotient =\", the_quotient)"
     ],
     "language": "python",
     "metadata": {},
     "outputs": []
    },
    {
     "cell_type": "markdown",
     "metadata": {},
     "source": [
      ">> The first two lines demonstrate important points about the order of packing and unpacking:\n",
      "\n",
      ">> * each comma separated expression on the left of the '=' is first evaluated (remember that 5 and 10 are, admittedly very simple, expressions),\n",
      ">> * the values of the expressions are packed into a tuple,\n",
      ">> * the assignment is made, and\n",
      ">> * the tuple is unpacked into the identifiers.\n",
      "\n",
      ">> This can make code writing and code reading more intuitive.\n",
      ">> Consider the following:\n",
      "\n",
      ">> ### Fibonnaci sequence\n",
      ">>> The **Fibonnaci sequence** is the sequence of numbers **1, 1, 2, 3, 5, 8, 13, 21, 34, ...**, where the next number in the sequence is the sum of the previous two.  \n",
      ">>> Mathematically,  \n",
      ">>>> fib[0] = 1  \n",
      ">>>> fib[1] = 1  \n",
      ">>>> fib[n] = fib[0] + fib[1], for n = 2, 3, ...  \n",
      "\n",
      ">>> We could write code to print the first 10 number in the fibonacci sequence as:"
     ]
    },
    {
     "cell_type": "code",
     "collapsed": false,
     "input": [
      "v1 = 1\n",
      "v2 = 1\n",
      "for i in range(10):\n",
      "    print(\"fib[{:d}] = {:d}\".format(i, v1))\n",
      "    temp = v2\n",
      "    v2 = v1 + v2\n",
      "    v1 = temp"
     ],
     "language": "python",
     "metadata": {},
     "outputs": []
    },
    {
     "cell_type": "markdown",
     "metadata": {},
     "source": [
      ">>> The variable *temp* is needed to hold the value that v1 needs AFTER v2 is computed.  Convince yourself that, with this approach, the temporary variable is necessary.\n",
      "\n",
      ">>> **Using tuple packing an unpacking** the code \"tells the story\" more clearly:"
     ]
    },
    {
     "cell_type": "code",
     "collapsed": false,
     "input": [
      "v1, v2 = 1, 1\n",
      "for i in range(10):\n",
      "    print(\"fib[{:d}] = {:d}\".format(i, v1))\n",
      "    v1, v2 = v2, v1 + v2"
     ],
     "language": "python",
     "metadata": {},
     "outputs": []
    },
    {
     "cell_type": "markdown",
     "metadata": {},
     "source": [
      ">>> The last line implies:  \n",
      ">>>> * evaluate *v2* (that was easy)  \n",
      ">>>> * evaluate v1 + v2  \n",
      ">>>> * pack the two results in a tuple  \n",
      ">>>> * unpack the tuple into the v1, and v2, resp.  \n",
      "\n",
      ">>> Which is more natural and easier to follow?"
     ]
    },
    {
     "cell_type": "markdown",
     "metadata": {},
     "source": [
      "## Unpacking iterables  \n",
      "> We are able to unpack structures other than tuples.  \n",
      "> Below, we demonstrate unpacking other sequences: a **str** and a **list**.\n"
     ]
    },
    {
     "cell_type": "code",
     "collapsed": false,
     "input": [
      "let1, let2, let3 = 'abc'\n",
      "print(let1)\n",
      "print(let2)\n",
      "print(let3)"
     ],
     "language": "python",
     "metadata": {},
     "outputs": []
    },
    {
     "cell_type": "code",
     "collapsed": true,
     "input": [
      "person = ['Rick', '160-I', 'Bridges Hall']\n",
      "print(person)\n",
      "name, room, building = person\n",
      "print(\"Name =\", name)\n",
      "print(\"Office = {}, {}\".format(room, building))"
     ],
     "language": "python",
     "metadata": {},
     "outputs": []
    },
    {
     "cell_type": "markdown",
     "metadata": {},
     "source": [
      "> As with tuple unpacking, the number of identifiers on the left hand side of the '=' must match the number of elements of the sequence on the right.  \n",
      "> For this reason, the practicality my be limited.  This is particularly the case with lists, due to their use cases.\n",
      "\n",
      "> Of even less practicality are the cases for *set*, *dict* and *\"text file\"(aka _ioTextWrapper)* opened for reading.  \n",
      "> We demonstrate them here just to make the point that, in general, *any* iterable may be unpacked (as long as you obey the rules)"
     ]
    },
    {
     "cell_type": "code",
     "collapsed": false,
     "input": [
      "numbers = {13, 2, 3, 2, 3, 4}\n",
      "print(numbers)\n",
      "elt1, elt2, elt3, elt4 = numbers\n",
      "print(elt1)\n",
      "print(elt2)\n",
      "print(elt3)\n",
      "print(elt4)"
     ],
     "language": "python",
     "metadata": {},
     "outputs": []
    },
    {
     "cell_type": "code",
     "collapsed": false,
     "input": [
      "name_num = {'fred':4, 'wilma':6, 'pebbles':5, 'dino':5}\n",
      "print(name_num)\n",
      "key1, key2, key3, key4 = name_num\n",
      "print(key1)\n",
      "print(key2)\n",
      "print(key3)\n",
      "print(key4)"
     ],
     "language": "python",
     "metadata": {},
     "outputs": []
    },
    {
     "cell_type": "code",
     "collapsed": false,
     "input": [
      "with open('E90/demo_file') as data:\n",
      "    line1, line2, line3 = data\n",
      "print(line1, line2, line3, sep = '')"
     ],
     "language": "python",
     "metadata": {},
     "outputs": []
    }
   ],
   "metadata": {}
  }
 ]
}