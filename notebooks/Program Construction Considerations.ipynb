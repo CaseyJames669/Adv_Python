{
 "metadata": {
  "name": "Program Construction Considerations"
 },
 "nbformat": 3,
 "nbformat_minor": 0,
 "worksheets": [
  {
   "cells": [
    {
     "cell_type": "heading",
     "level": 1,
     "metadata": {},
     "source": [
      "Program Construction Considerations"
     ]
    },
    {
     "cell_type": "markdown",
     "metadata": {},
     "source": [
      "In this section, we review documentation requirements of all script / module submissions.  All programming assignments are scored on documentation and correct use of Python idioms as well as on functionality, correctness, and testing.  \n",
      "\n",
      "To illustrate requirements, we consider the program below, that gets 3 integer values from the user, orders them and then prints them out.  \n",
      "Forget, for a moment, that there are much easier ways to perform the task and concentrate on the program structure and documentation.  These are the important points to take away from the example.  \n",
      "\n",
      "**NOTE** - Because the following code makes use of the Python **input** statement, the code examples in this chapter cannot be executed in the ipython notebook.  If you wish to execute the code or experiment with it, you must copy the code, paste it into a text editor, and save it to a file.  \n",
      "A good environment for this is the **kate** text editor ... which provides a built-in terminal for executing your code."
     ]
    },
    {
     "cell_type": "code",
     "collapsed": false,
     "input": [
      "# file: order.py\n",
      "# author: Bert Nernie\n",
      "# demonstration of documentation requirements\n",
      "\n",
      "'''\n",
      "This script gets three integer values from the user and prints them out\n",
      "from largest to smallest\n",
      "'''\n",
      "\n",
      "def order(x, y, z):\n",
      "    '''Order three numerical values from largest to smallest\n",
      "\n",
      "    Precondition:\n",
      "        x, y, and z are numerical values\n",
      "    Postcondition:\n",
      "        Returns the values of the parameters in order from largest to smallest\n",
      "    '''\n",
      "\n",
      "    # find largest, smallest, and middle values\n",
      "    largest = max(x, y, z)\n",
      "    smallest = min(x, y, z)\n",
      "    middle = x + y + z - largest - smallest\n",
      "\n",
      "    # return the values in order\n",
      "    return largest, middle, smallest\n",
      "\n",
      "def main():\n",
      "    ''' main program algorithm'''\n",
      "    \n",
      "    # Get values from user\n",
      "    num1 = int(input(\"Enter first integer: \"))\n",
      "    num2 = int(input(\"Enter second integer: \"))\n",
      "    num3 = int(input(\"Enter third integer: \"))\n",
      "\n",
      "    # Order values largest to smallest\n",
      "    big, mid, small = order(num1, num2, num3)\n",
      "\n",
      "    # Output original values and ordered values\n",
      "    print(\"{:d}, {:d}, {:d} from largest to smallest are {:d}, {:d}, {:d}\".\\\n",
      "        format(num1, num2, num3, big, mid, small))\n",
      "\n",
      "main()"
     ],
     "language": "python",
     "metadata": {},
     "outputs": []
    },
    {
     "cell_type": "markdown",
     "metadata": {},
     "source": [
      "## Documentation:  \n",
      "The first thing to focus on is the **documentation**:  \n",
      "> **I require** these first four lines in a script file"
     ]
    },
    {
     "cell_type": "code",
     "collapsed": false,
     "input": [
      "# file: order.py\n",
      "# author: Bert Nernie\n",
      "# demonstration of documentation requirements\n"
     ],
     "language": "python",
     "metadata": {},
     "outputs": []
    },
    {
     "cell_type": "markdown",
     "metadata": {},
     "source": [
      "> They must be:  \n",
      ">> * the file's name\n",
      ">> * the author's name - **NOTE**: If you didn't create the code, you aren't the author ... credit the author.  If you have made minor or significant changes to the contents of the file ... note that (and take more than one line if necessary)  \n",
      "Eg. author: G. Van Rossum - Modifications to unit test code by Pete Burg  \n",
      ">> * the problem identification (for our class, so that I can make sure things aren't getting confused)  \n",
      ">> * a blank line\n",
      "\n",
      ">**Make sure these are kept up to date!**  \n",
      "\n",
      ">The next component we see is a **doc string**, followed by a blank line."
     ]
    },
    {
     "cell_type": "code",
     "collapsed": false,
     "input": [
      "'''\n",
      "This script gets three integer values from the user and prints them out\n",
      "from largest to smallest\n",
      "'''\n"
     ],
     "language": "python",
     "metadata": {},
     "outputs": []
    },
    {
     "cell_type": "markdown",
     "metadata": {},
     "source": [
      ">A **docstring** is syntactically a program element (it IS a string) and must adhere to the syntactic structure of a program ... in this case, that means that it must begin at the left margin.  \n",
      "This **docstring** provides a high-level description of the purpose of the entire program.  \n",
      "Note the features:  \n",
      ">> * it describes, succinctly, what the program accomplishes,  \n",
      ">> * it DOES NOT SAY \"This is a solution to programming assignment number ... blah, blah, blah,\"  \n",
      ">> * it focuses on the program.  \n",
      "\n",
      "> The description of the function **order**:"
     ]
    },
    {
     "cell_type": "code",
     "collapsed": false,
     "input": [
      "def order(x, y, z):\n",
      "    '''Order three numerical values from largest to smallest\n",
      "\n",
      "    Precondition:\n",
      "        x, y, and z are numerical values\n",
      "    Postcondition:\n",
      "        Returns the values of the parameters in order from largest to smallest\n",
      "    '''\n",
      "\n",
      "    # find largest, smallest, and middle values\n",
      "    largest = max(x, y, z)\n",
      "    smallest = min(x, y, z)\n",
      "    middle = x + y + z - largest - smallest\n",
      "\n",
      "    # return the values in order\n",
      "    return largest, middle, smallest"
     ],
     "language": "python",
     "metadata": {},
     "outputs": []
    },
    {
     "cell_type": "markdown",
     "metadata": {},
     "source": [
      "> occurs AFTER the function heading.  This organization is required by documentation formatting software such as **pydoc**.  \n",
      "\n",
      "> The **docstring** for a function or method should summarize its behavior and document its arguments, return value(s), side effects, exceptions raised, and restrictions on when it can be called (all if applicable).  \n",
      "\n",
      "> Read **PEP 257** for a discussion of the organization of function / method documentation.  Below, I summarize some of the features and MY requirements:  \n",
      ">> * Again, the **docstring** must obey the syntax of a function definition ... so we see it indented.\n",
      ">> * The first line is called a 'summary line'.   It prescribes the function or method's effect as a command (\"Do this\", \"Return that\"), not as a description; e.g. don't write \"Returns ...\".  The summary line may be used by automatic indexing tools; it is important that it fits on one line and is separated from the rest of the docstring by a blank line. \n",
      ">> * The remainder of **docstring** is an extended description, and has three parts:  \n",
      ">>> * An (optional) **Purpose** - if the description in the summary line must be elaborated on,  \n",
      ">>> * A list of **Preconditions** - what must be true for the function / module to correctly perform its task.  This usually focuses on expectations placed on the function parameters.  \n",
      ">>> * A list of **Postconditions** - what we can expect from the function if the Preconditions are met ... focusing on the return values and side effects.  Also, describes response in case of failure (eg. raising an exception, etc)\n",
      "  \n",
      ">> * The entire docstring is indented the same as the quotes at its first line (see the example).  \n",
      "\n",
      "> The function code is commented using normal python (#) comments, in a **block commenting** style.  \n",
      "In-line comments are frowned upon in all but a few special cases.  See **PEP 8** for more discussion on commenting styles.  \n",
      "\n",
      "> The idea of a block comment is that:  \n",
      ">> * it appears on the same margin as the code it describes and\n",
      ">> * it describes a block of code that completes a task.  \n",
      "\n",
      "> **DO NOT** begin comments for indented code on the left margin.\n",
      "\n",
      "> Commenting each line is NOT advisable.  The code becomes difficult to find and follow ... thus actually making the code HARDER to read, instead of being an aid.  "
     ]
    },
    {
     "cell_type": "markdown",
     "metadata": {},
     "source": [
      "## Other Organization Considerations\n",
      "Other considerations (also described in **PEP 8**) demonstrated in this script:\n",
      "> * **Lines should not exceed 79 characters** in length (from the left margin to the end of the line).  See PEP 8 for descriptions on indentation of continuation lines.\n",
      "> * **Indentation and 'tabs' should be 4 spaces**.  Two spaces is hard for the reader to keep straight and more than 4 spaces wastes valuable \"real estate\" needed for the code, itself.  \n",
      "> * The \"main algorithm\" should be coded in a **main** function.  This makes it easier to test support functions, individually."
     ]
    },
    {
     "cell_type": "markdown",
     "metadata": {},
     "source": [
      "## Code Clarity Considerations\n",
      "Code isn't necessarily made more clear by reducing it to a greater number of simple steps.  A reader's eyes glaze over when reading code just as they do when reading an aimless, rambling composition.  Getting to the point and using the idioms provided by the language is important.  \n",
      "\n",
      "Each \"level of logic\" (i.e. indentation) adds to the complexity of the program for the reader.  Though all but the most simple scripts require nested statements, often wise use of idioms and abstraction can reduce the required levels of logic and make reading (and consequently maintaining) code easier.  \n",
      "\n",
      "That said, a programmer can make a single statement overly complex by deeply nesting operations within it.  The programmer needs to find a balance between long, rambling code and code with statements that are difficult to parse by the reader.  \n",
      "\n",
      "The example program we have considered may be rewritten more succinctly by making use of well-placed comments and idiomatic Python."
     ]
    },
    {
     "cell_type": "code",
     "collapsed": false,
     "input": [
      "# file: order.py\n",
      "# author: Rick\n",
      "# demonstration of documentation requirements\n",
      "\n",
      "'''\n",
      "This script gets three integer values from the user and prints them out\n",
      "from largest to smallest\n",
      "'''\n",
      "\n",
      "# Get values from user\n",
      "nums = []\n",
      "for i in ('first', 'second', 'third'):\n",
      "    nums.append(int(input(\"Enter \" + i + \" integer: \")))\n",
      "\n",
      "# Output original values and ordered values\n",
      "print(\"{:d}, {:d}, {:d} from largest to smallest are {:d}, {:d}, {:d}\".\\\n",
      "        format(*(nums + sorted(nums, reverse=True))))"
     ],
     "language": "python",
     "metadata": {},
     "outputs": []
    }
   ],
   "metadata": {}
  }
 ]
}